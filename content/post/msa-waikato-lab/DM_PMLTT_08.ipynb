{
  "nbformat": 4,
  "nbformat_minor": 0,
  "metadata": {
    "colab": {
      "provenance": [],
      "collapsed_sections": [
        "asZS1eE_xFwl",
        "LiE_vsjGMlXQ",
        "Bimq516Xr2m3",
        "6B5hgaxBsZEe",
        "ztiFGCjmsc6c",
        "NO1MVuFoNDOD",
        "lhuXR8-DNKrb"
      ]
    },
    "kernelspec": {
      "name": "python3",
      "display_name": "Python 3"
    },
    "language_info": {
      "name": "python"
    }
  },
  "cells": [
    {
      "cell_type": "markdown",
      "source": [
        "# Chapter Goals\n",
        "- Data transformation and cleansing techniques.\n",
        "\n",
        "# General Lab Guidlines\n",
        "- Visualization.\n",
        "- Modifiable code snippets."
      ],
      "metadata": {
        "id": "vLMrmp4BwwpO"
      }
    },
    {
      "cell_type": "markdown",
      "source": [
        "---"
      ],
      "metadata": {
        "id": "Qk35Y1UNwutp"
      }
    },
    {
      "cell_type": "code",
      "source": [
        "# Loading a dataset\n",
        "# dataset names: \"airline\", \"breast-cancer\", \"contact-lenses\", \"cpu\", \"cpu.with.vendor\", \"credit-g\", \"diabetes\", \"glass\", \"hypothyroid\", \"ionosphere\", \"iris.2D\", \"iris\", \"labor\", \"segment-challenge\", \"segment-test\", \"soybean\", \"supermarket\", \"unbalanced\", \"vote\", \"weather.nominal\", \"weather.numeric\"\n",
        "# df = pd.read_csv(\"data/weather.numeric.csv\")\n",
        "# instances = loader.load_file(\"data/weather.numeric.arff\")"
      ],
      "metadata": {
        "id": "73iEUGIr6PvJ"
      },
      "execution_count": null,
      "outputs": []
    },
    {
      "cell_type": "markdown",
      "source": [
        "# Modules & Datasets Setup"
      ],
      "metadata": {
        "id": "asZS1eE_xFwl"
      }
    },
    {
      "cell_type": "code",
      "source": [
        "# @title\n",
        "!apt-get install default-jdk\n",
        "!apt install libgraphviz-dev"
      ],
      "metadata": {
        "id": "ybaGzIpGq_QT",
        "colab": {
          "base_uri": "https://localhost:8080/"
        },
        "outputId": "b5da691c-8d7c-4d6b-8d3c-f294fc8bae2f",
        "collapsed": true,
        "cellView": "form"
      },
      "execution_count": null,
      "outputs": [
        {
          "output_type": "stream",
          "name": "stdout",
          "text": [
            "Reading package lists... Done\n",
            "Building dependency tree... Done\n",
            "Reading state information... Done\n",
            "default-jdk is already the newest version (2:1.11-72build2).\n",
            "0 upgraded, 0 newly installed, 0 to remove and 15 not upgraded.\n",
            "Reading package lists... Done\n",
            "Building dependency tree... Done\n",
            "Reading state information... Done\n",
            "libgraphviz-dev is already the newest version (2.42.2-6).\n",
            "0 upgraded, 0 newly installed, 0 to remove and 15 not upgraded.\n"
          ]
        }
      ]
    },
    {
      "cell_type": "code",
      "source": [
        "# @title\n",
        "!pip install pygraphviz\n",
        "!pip install python-javabridge\n",
        "!pip install python-weka-wrapper3\n",
        "!pip install sklearn-weka-plugin"
      ],
      "metadata": {
        "id": "ofMkHDFknGUu",
        "colab": {
          "base_uri": "https://localhost:8080/"
        },
        "outputId": "6f56cbdf-8b51-48d2-a71b-f3c1dccfad8a",
        "collapsed": true,
        "cellView": "form"
      },
      "execution_count": null,
      "outputs": [
        {
          "output_type": "stream",
          "name": "stdout",
          "text": [
            "Requirement already satisfied: pygraphviz in /usr/local/lib/python3.10/dist-packages (1.11)\n",
            "Requirement already satisfied: python-javabridge in /usr/local/lib/python3.10/dist-packages (4.0.3)\n",
            "Requirement already satisfied: numpy>=1.20.1 in /usr/local/lib/python3.10/dist-packages (from python-javabridge) (1.23.5)\n",
            "Requirement already satisfied: python-weka-wrapper3 in /usr/local/lib/python3.10/dist-packages (0.2.14)\n",
            "Requirement already satisfied: python-javabridge>=4.0.0 in /usr/local/lib/python3.10/dist-packages (from python-weka-wrapper3) (4.0.3)\n",
            "Requirement already satisfied: numpy in /usr/local/lib/python3.10/dist-packages (from python-weka-wrapper3) (1.23.5)\n",
            "Requirement already satisfied: packaging in /usr/local/lib/python3.10/dist-packages (from python-weka-wrapper3) (23.2)\n",
            "Requirement already satisfied: configurable-objects in /usr/local/lib/python3.10/dist-packages (from python-weka-wrapper3) (0.0.1)\n",
            "Requirement already satisfied: simple-data-flow in /usr/local/lib/python3.10/dist-packages (from python-weka-wrapper3) (0.0.1)\n",
            "Collecting sklearn-weka-plugin\n",
            "  Using cached sklearn-weka-plugin-0.0.7.tar.gz (69 kB)\n",
            "  Preparing metadata (setup.py) ... \u001b[?25l\u001b[?25hdone\n",
            "Requirement already satisfied: numpy in /usr/local/lib/python3.10/dist-packages (from sklearn-weka-plugin) (1.23.5)\n",
            "Requirement already satisfied: python-weka-wrapper3>=0.2.5 in /usr/local/lib/python3.10/dist-packages (from sklearn-weka-plugin) (0.2.14)\n",
            "Collecting sklearn (from sklearn-weka-plugin)\n",
            "  Using cached sklearn-0.0.post12.tar.gz (2.6 kB)\n",
            "  \u001b[1;31merror\u001b[0m: \u001b[1msubprocess-exited-with-error\u001b[0m\n",
            "  \n",
            "  \u001b[31m×\u001b[0m \u001b[32mpython setup.py egg_info\u001b[0m did not run successfully.\n",
            "  \u001b[31m│\u001b[0m exit code: \u001b[1;36m1\u001b[0m\n",
            "  \u001b[31m╰─>\u001b[0m See above for output.\n",
            "  \n",
            "  \u001b[1;35mnote\u001b[0m: This error originates from a subprocess, and is likely not a problem with pip.\n",
            "  Preparing metadata (setup.py) ... \u001b[?25l\u001b[?25herror\n",
            "\u001b[1;31merror\u001b[0m: \u001b[1mmetadata-generation-failed\u001b[0m\n",
            "\n",
            "\u001b[31m×\u001b[0m Encountered error while generating package metadata.\n",
            "\u001b[31m╰─>\u001b[0m See above for output.\n",
            "\n",
            "\u001b[1;35mnote\u001b[0m: This is an issue with the package mentioned above, not pip.\n",
            "\u001b[1;36mhint\u001b[0m: See above for details.\n"
          ]
        }
      ]
    },
    {
      "cell_type": "code",
      "source": [
        "# @title\n",
        "#Restart runtime after installing the dependencies"
      ],
      "metadata": {
        "id": "K7AOVpj6tJCo",
        "cellView": "form"
      },
      "execution_count": null,
      "outputs": []
    },
    {
      "cell_type": "code",
      "source": [
        "# @title\n",
        "import os\n",
        "import glob\n",
        "import numpy as np\n",
        "import pandas as pd\n",
        "import weka.core.jvm as jvm\n",
        "from weka.core import converters\n",
        "import matplotlib.pyplot as plt"
      ],
      "metadata": {
        "id": "z3KWEJT_COnI",
        "cellView": "form"
      },
      "execution_count": null,
      "outputs": []
    },
    {
      "cell_type": "code",
      "source": [
        "# @title\n",
        "data_dir = 'data'"
      ],
      "metadata": {
        "id": "g-Irnr7lwXOW",
        "cellView": "form"
      },
      "execution_count": null,
      "outputs": []
    },
    {
      "cell_type": "code",
      "source": [
        "# @title\n",
        "#!rm -r weka\n",
        "#!rm -r data"
      ],
      "metadata": {
        "id": "ZDA_uh_swSNP",
        "cellView": "form"
      },
      "execution_count": null,
      "outputs": []
    },
    {
      "cell_type": "code",
      "source": [
        "# @title\n",
        "#jvm.stop()\n",
        "jvm.start(packages=True)"
      ],
      "metadata": {
        "id": "9gqo2Sdkrp1e",
        "colab": {
          "base_uri": "https://localhost:8080/"
        },
        "outputId": "aba13561-c7d2-4f77-c144-a13c0327d268",
        "collapsed": true,
        "cellView": "form"
      },
      "execution_count": null,
      "outputs": [
        {
          "output_type": "stream",
          "name": "stderr",
          "text": [
            "DEBUG:weka.core.jvm:Adding bundled jars\n",
            "DEBUG:weka.core.jvm:Classpath=['/usr/local/lib/python3.10/dist-packages/javabridge/jars/rhino-1.7R4.jar', '/usr/local/lib/python3.10/dist-packages/javabridge/jars/runnablequeue.jar', '/usr/local/lib/python3.10/dist-packages/javabridge/jars/cpython.jar', '/usr/local/lib/python3.10/dist-packages/weka/lib/core.jar', '/usr/local/lib/python3.10/dist-packages/weka/lib/python-weka-wrapper.jar', '/usr/local/lib/python3.10/dist-packages/weka/lib/mtj.jar', '/usr/local/lib/python3.10/dist-packages/weka/lib/weka.jar', '/usr/local/lib/python3.10/dist-packages/weka/lib/arpack_combined.jar']\n",
            "DEBUG:weka.core.jvm:MaxHeapSize=default\n",
            "DEBUG:weka.core.jvm:Package support enabled\n"
          ]
        }
      ]
    },
    {
      "cell_type": "code",
      "source": [
        "# @title\n",
        "# Preparing Datasets\n",
        "if not os.path.exists(data_dir):\n",
        "    !mkdir $data_dir\n",
        "    for file in ['airline.arff', 'breast-cancer.arff', 'contact-lenses.arff', 'cpu.arff', 'cpu.with.vendor.arff', 'credit-g.arff', 'diabetes.arff', 'glass.arff', 'hypothyroid.arff', 'ionosphere.arff', 'iris.2D.arff', 'iris.arff', 'labor.arff', 'segment-challenge.arff', 'segment-test.arff', 'soybean.arff', 'supermarket.arff', 'unbalanced.arff', 'vote.arff', 'weather.nominal.arff', 'weather.numeric.arff',]:\n",
        "        url = 'https://git.cms.waikato.ac.nz/weka/weka/-/raw/main/trunk/wekadocs/data/' + file\n",
        "        !wget -P $data_dir $url\n",
        "    loader = converters.Loader(classname=\"weka.core.converters.ArffLoader\")\n",
        "    saver = converters.Saver(classname=\"weka.core.converters.CSVSaver\")\n",
        "    for file in glob.glob(os.path.join(data_dir, '*.arff')):\n",
        "        dataset = loader.load_file(file)\n",
        "        filename, file_extension = os.path.splitext(file)\n",
        "        saver.save_file(dataset, filename + '.csv')\n",
        "    !wget -P $data_dir https://raw.githubusercontent.com/Rytuo/ITMO-CT/master/Others/AdvancedML/data/OpenML/data/1438.arff\n",
        "    !rm -r weka"
      ],
      "metadata": {
        "id": "KOJC_Fuhqvw7",
        "cellView": "form",
        "collapsed": true
      },
      "execution_count": null,
      "outputs": []
    },
    {
      "cell_type": "code",
      "source": [
        "# @title\n",
        "import weka.core.packages as packages\n",
        "packages.install_package(\"simpleEducationalLearningSchemes\")\n",
        "packages.install_package(\"generalizedSequentialPatterns\")\n",
        "packages.install_package(\"classAssociationRules\")\n",
        "packages.install_package(\"NNge\")\n",
        "packages.install_package(\"LibSVM\")\n",
        "\n",
        "from weka.core.converters import Loader\n",
        "loader = Loader(classname=\"weka.core.converters.ArffLoader\")"
      ],
      "metadata": {
        "collapsed": true,
        "id": "25QIdRrXuB5T"
      },
      "execution_count": null,
      "outputs": []
    },
    {
      "cell_type": "markdown",
      "source": [
        "# 8.1 Attribute Selection"
      ],
      "metadata": {
        "id": "LiE_vsjGMlXQ"
      }
    },
    {
      "cell_type": "markdown",
      "source": [
        "## Scheme-independent seletion"
      ],
      "metadata": {
        "id": "Bimq516Xr2m3"
      }
    },
    {
      "cell_type": "markdown",
      "source": [
        "_Fliteration_. By statistical correlation."
      ],
      "metadata": {
        "id": "b8GSJyO-9_mU"
      }
    },
    {
      "cell_type": "code",
      "source": [
        "import numpy as np\n",
        "import pandas as pd\n",
        "from sklearn.datasets import make_classification\n",
        "\n",
        "# Create a synthetic dataset\n",
        "X, y = make_classification(n_samples=1000, n_features=10, random_state=42)\n",
        "# Create a DataFrame from the features\n",
        "df = pd.DataFrame(X, columns=[f\"feature_{i}\" for i in range(X.shape[1])])\n",
        "\n",
        "# Calculate the correlation matrix\n",
        "correlation_matrix = df.corr()\n",
        "\n",
        "correlation_matrix"
      ],
      "metadata": {
        "colab": {
          "base_uri": "https://localhost:8080/"
        },
        "id": "AFeFgyzesgdX",
        "outputId": "5800981d-84ef-404b-a327-82cf901fa113"
      },
      "execution_count": null,
      "outputs": [
        {
          "output_type": "execute_result",
          "data": {
            "text/plain": [
              "           feature_0  feature_1  feature_2  feature_3  feature_4  feature_5  \\\n",
              "feature_0   1.000000   0.058172   0.935882   0.012282   0.027394   0.016197   \n",
              "feature_1   0.058172   1.000000   0.062426   0.022266  -0.031579  -0.026735   \n",
              "feature_2   0.935882   0.062426   1.000000   0.014551   0.012872  -0.000606   \n",
              "feature_3   0.012282   0.022266   0.014551   1.000000  -0.016467  -0.002439   \n",
              "feature_4   0.027394  -0.031579   0.012872  -0.016467   1.000000  -0.010388   \n",
              "feature_5   0.016197  -0.026735  -0.000606  -0.002439  -0.010388   1.000000   \n",
              "feature_6  -0.779008  -0.059525  -0.949966  -0.015008   0.001379   0.015440   \n",
              "feature_7  -0.028237   0.037916  -0.013006   0.032063  -0.039584  -0.017981   \n",
              "feature_8  -0.701895  -0.024690  -0.405943  -0.002441  -0.045036  -0.043242   \n",
              "feature_9  -0.035538  -0.048878  -0.025878  -0.043532   0.041455  -0.036535   \n",
              "\n",
              "           feature_6  feature_7  feature_8  feature_9  \n",
              "feature_0  -0.779008  -0.028237  -0.701895  -0.035538  \n",
              "feature_1  -0.059525   0.037916  -0.024690  -0.048878  \n",
              "feature_2  -0.949966  -0.013006  -0.405943  -0.025878  \n",
              "feature_3  -0.015008   0.032063  -0.002441  -0.043532  \n",
              "feature_4   0.001379  -0.039584  -0.045036   0.041455  \n",
              "feature_5   0.015440  -0.017981  -0.043242  -0.036535  \n",
              "feature_6   1.000000  -0.001887   0.100172   0.014548  \n",
              "feature_7  -0.001887   1.000000   0.046952  -0.039575  \n",
              "feature_8   0.100172   0.046952   1.000000   0.039866  \n",
              "feature_9   0.014548  -0.039575   0.039866   1.000000  "
            ],
            "text/html": [
              "\n",
              "  <div id=\"df-a2651a10-e2ac-4456-9ee6-fc12ca7a3ae4\" class=\"colab-df-container\">\n",
              "    <div>\n",
              "<style scoped>\n",
              "    .dataframe tbody tr th:only-of-type {\n",
              "        vertical-align: middle;\n",
              "    }\n",
              "\n",
              "    .dataframe tbody tr th {\n",
              "        vertical-align: top;\n",
              "    }\n",
              "\n",
              "    .dataframe thead th {\n",
              "        text-align: right;\n",
              "    }\n",
              "</style>\n",
              "<table border=\"1\" class=\"dataframe\">\n",
              "  <thead>\n",
              "    <tr style=\"text-align: right;\">\n",
              "      <th></th>\n",
              "      <th>feature_0</th>\n",
              "      <th>feature_1</th>\n",
              "      <th>feature_2</th>\n",
              "      <th>feature_3</th>\n",
              "      <th>feature_4</th>\n",
              "      <th>feature_5</th>\n",
              "      <th>feature_6</th>\n",
              "      <th>feature_7</th>\n",
              "      <th>feature_8</th>\n",
              "      <th>feature_9</th>\n",
              "    </tr>\n",
              "  </thead>\n",
              "  <tbody>\n",
              "    <tr>\n",
              "      <th>feature_0</th>\n",
              "      <td>1.000000</td>\n",
              "      <td>0.058172</td>\n",
              "      <td>0.935882</td>\n",
              "      <td>0.012282</td>\n",
              "      <td>0.027394</td>\n",
              "      <td>0.016197</td>\n",
              "      <td>-0.779008</td>\n",
              "      <td>-0.028237</td>\n",
              "      <td>-0.701895</td>\n",
              "      <td>-0.035538</td>\n",
              "    </tr>\n",
              "    <tr>\n",
              "      <th>feature_1</th>\n",
              "      <td>0.058172</td>\n",
              "      <td>1.000000</td>\n",
              "      <td>0.062426</td>\n",
              "      <td>0.022266</td>\n",
              "      <td>-0.031579</td>\n",
              "      <td>-0.026735</td>\n",
              "      <td>-0.059525</td>\n",
              "      <td>0.037916</td>\n",
              "      <td>-0.024690</td>\n",
              "      <td>-0.048878</td>\n",
              "    </tr>\n",
              "    <tr>\n",
              "      <th>feature_2</th>\n",
              "      <td>0.935882</td>\n",
              "      <td>0.062426</td>\n",
              "      <td>1.000000</td>\n",
              "      <td>0.014551</td>\n",
              "      <td>0.012872</td>\n",
              "      <td>-0.000606</td>\n",
              "      <td>-0.949966</td>\n",
              "      <td>-0.013006</td>\n",
              "      <td>-0.405943</td>\n",
              "      <td>-0.025878</td>\n",
              "    </tr>\n",
              "    <tr>\n",
              "      <th>feature_3</th>\n",
              "      <td>0.012282</td>\n",
              "      <td>0.022266</td>\n",
              "      <td>0.014551</td>\n",
              "      <td>1.000000</td>\n",
              "      <td>-0.016467</td>\n",
              "      <td>-0.002439</td>\n",
              "      <td>-0.015008</td>\n",
              "      <td>0.032063</td>\n",
              "      <td>-0.002441</td>\n",
              "      <td>-0.043532</td>\n",
              "    </tr>\n",
              "    <tr>\n",
              "      <th>feature_4</th>\n",
              "      <td>0.027394</td>\n",
              "      <td>-0.031579</td>\n",
              "      <td>0.012872</td>\n",
              "      <td>-0.016467</td>\n",
              "      <td>1.000000</td>\n",
              "      <td>-0.010388</td>\n",
              "      <td>0.001379</td>\n",
              "      <td>-0.039584</td>\n",
              "      <td>-0.045036</td>\n",
              "      <td>0.041455</td>\n",
              "    </tr>\n",
              "    <tr>\n",
              "      <th>feature_5</th>\n",
              "      <td>0.016197</td>\n",
              "      <td>-0.026735</td>\n",
              "      <td>-0.000606</td>\n",
              "      <td>-0.002439</td>\n",
              "      <td>-0.010388</td>\n",
              "      <td>1.000000</td>\n",
              "      <td>0.015440</td>\n",
              "      <td>-0.017981</td>\n",
              "      <td>-0.043242</td>\n",
              "      <td>-0.036535</td>\n",
              "    </tr>\n",
              "    <tr>\n",
              "      <th>feature_6</th>\n",
              "      <td>-0.779008</td>\n",
              "      <td>-0.059525</td>\n",
              "      <td>-0.949966</td>\n",
              "      <td>-0.015008</td>\n",
              "      <td>0.001379</td>\n",
              "      <td>0.015440</td>\n",
              "      <td>1.000000</td>\n",
              "      <td>-0.001887</td>\n",
              "      <td>0.100172</td>\n",
              "      <td>0.014548</td>\n",
              "    </tr>\n",
              "    <tr>\n",
              "      <th>feature_7</th>\n",
              "      <td>-0.028237</td>\n",
              "      <td>0.037916</td>\n",
              "      <td>-0.013006</td>\n",
              "      <td>0.032063</td>\n",
              "      <td>-0.039584</td>\n",
              "      <td>-0.017981</td>\n",
              "      <td>-0.001887</td>\n",
              "      <td>1.000000</td>\n",
              "      <td>0.046952</td>\n",
              "      <td>-0.039575</td>\n",
              "    </tr>\n",
              "    <tr>\n",
              "      <th>feature_8</th>\n",
              "      <td>-0.701895</td>\n",
              "      <td>-0.024690</td>\n",
              "      <td>-0.405943</td>\n",
              "      <td>-0.002441</td>\n",
              "      <td>-0.045036</td>\n",
              "      <td>-0.043242</td>\n",
              "      <td>0.100172</td>\n",
              "      <td>0.046952</td>\n",
              "      <td>1.000000</td>\n",
              "      <td>0.039866</td>\n",
              "    </tr>\n",
              "    <tr>\n",
              "      <th>feature_9</th>\n",
              "      <td>-0.035538</td>\n",
              "      <td>-0.048878</td>\n",
              "      <td>-0.025878</td>\n",
              "      <td>-0.043532</td>\n",
              "      <td>0.041455</td>\n",
              "      <td>-0.036535</td>\n",
              "      <td>0.014548</td>\n",
              "      <td>-0.039575</td>\n",
              "      <td>0.039866</td>\n",
              "      <td>1.000000</td>\n",
              "    </tr>\n",
              "  </tbody>\n",
              "</table>\n",
              "</div>\n",
              "    <div class=\"colab-df-buttons\">\n",
              "\n",
              "  <div class=\"colab-df-container\">\n",
              "    <button class=\"colab-df-convert\" onclick=\"convertToInteractive('df-a2651a10-e2ac-4456-9ee6-fc12ca7a3ae4')\"\n",
              "            title=\"Convert this dataframe to an interactive table.\"\n",
              "            style=\"display:none;\">\n",
              "\n",
              "  <svg xmlns=\"http://www.w3.org/2000/svg\" height=\"24px\" viewBox=\"0 -960 960 960\">\n",
              "    <path d=\"M120-120v-720h720v720H120Zm60-500h600v-160H180v160Zm220 220h160v-160H400v160Zm0 220h160v-160H400v160ZM180-400h160v-160H180v160Zm440 0h160v-160H620v160ZM180-180h160v-160H180v160Zm440 0h160v-160H620v160Z\"/>\n",
              "  </svg>\n",
              "    </button>\n",
              "\n",
              "  <style>\n",
              "    .colab-df-container {\n",
              "      display:flex;\n",
              "      gap: 12px;\n",
              "    }\n",
              "\n",
              "    .colab-df-convert {\n",
              "      background-color: #E8F0FE;\n",
              "      border: none;\n",
              "      border-radius: 50%;\n",
              "      cursor: pointer;\n",
              "      display: none;\n",
              "      fill: #1967D2;\n",
              "      height: 32px;\n",
              "      padding: 0 0 0 0;\n",
              "      width: 32px;\n",
              "    }\n",
              "\n",
              "    .colab-df-convert:hover {\n",
              "      background-color: #E2EBFA;\n",
              "      box-shadow: 0px 1px 2px rgba(60, 64, 67, 0.3), 0px 1px 3px 1px rgba(60, 64, 67, 0.15);\n",
              "      fill: #174EA6;\n",
              "    }\n",
              "\n",
              "    .colab-df-buttons div {\n",
              "      margin-bottom: 4px;\n",
              "    }\n",
              "\n",
              "    [theme=dark] .colab-df-convert {\n",
              "      background-color: #3B4455;\n",
              "      fill: #D2E3FC;\n",
              "    }\n",
              "\n",
              "    [theme=dark] .colab-df-convert:hover {\n",
              "      background-color: #434B5C;\n",
              "      box-shadow: 0px 1px 3px 1px rgba(0, 0, 0, 0.15);\n",
              "      filter: drop-shadow(0px 1px 2px rgba(0, 0, 0, 0.3));\n",
              "      fill: #FFFFFF;\n",
              "    }\n",
              "  </style>\n",
              "\n",
              "    <script>\n",
              "      const buttonEl =\n",
              "        document.querySelector('#df-a2651a10-e2ac-4456-9ee6-fc12ca7a3ae4 button.colab-df-convert');\n",
              "      buttonEl.style.display =\n",
              "        google.colab.kernel.accessAllowed ? 'block' : 'none';\n",
              "\n",
              "      async function convertToInteractive(key) {\n",
              "        const element = document.querySelector('#df-a2651a10-e2ac-4456-9ee6-fc12ca7a3ae4');\n",
              "        const dataTable =\n",
              "          await google.colab.kernel.invokeFunction('convertToInteractive',\n",
              "                                                    [key], {});\n",
              "        if (!dataTable) return;\n",
              "\n",
              "        const docLinkHtml = 'Like what you see? Visit the ' +\n",
              "          '<a target=\"_blank\" href=https://colab.research.google.com/notebooks/data_table.ipynb>data table notebook</a>'\n",
              "          + ' to learn more about interactive tables.';\n",
              "        element.innerHTML = '';\n",
              "        dataTable['output_type'] = 'display_data';\n",
              "        await google.colab.output.renderOutput(dataTable, element);\n",
              "        const docLink = document.createElement('div');\n",
              "        docLink.innerHTML = docLinkHtml;\n",
              "        element.appendChild(docLink);\n",
              "      }\n",
              "    </script>\n",
              "  </div>\n",
              "\n",
              "\n",
              "<div id=\"df-e9d28ef3-304c-48eb-bd78-a2db1c86947a\">\n",
              "  <button class=\"colab-df-quickchart\" onclick=\"quickchart('df-e9d28ef3-304c-48eb-bd78-a2db1c86947a')\"\n",
              "            title=\"Suggest charts\"\n",
              "            style=\"display:none;\">\n",
              "\n",
              "<svg xmlns=\"http://www.w3.org/2000/svg\" height=\"24px\"viewBox=\"0 0 24 24\"\n",
              "     width=\"24px\">\n",
              "    <g>\n",
              "        <path d=\"M19 3H5c-1.1 0-2 .9-2 2v14c0 1.1.9 2 2 2h14c1.1 0 2-.9 2-2V5c0-1.1-.9-2-2-2zM9 17H7v-7h2v7zm4 0h-2V7h2v10zm4 0h-2v-4h2v4z\"/>\n",
              "    </g>\n",
              "</svg>\n",
              "  </button>\n",
              "\n",
              "<style>\n",
              "  .colab-df-quickchart {\n",
              "      --bg-color: #E8F0FE;\n",
              "      --fill-color: #1967D2;\n",
              "      --hover-bg-color: #E2EBFA;\n",
              "      --hover-fill-color: #174EA6;\n",
              "      --disabled-fill-color: #AAA;\n",
              "      --disabled-bg-color: #DDD;\n",
              "  }\n",
              "\n",
              "  [theme=dark] .colab-df-quickchart {\n",
              "      --bg-color: #3B4455;\n",
              "      --fill-color: #D2E3FC;\n",
              "      --hover-bg-color: #434B5C;\n",
              "      --hover-fill-color: #FFFFFF;\n",
              "      --disabled-bg-color: #3B4455;\n",
              "      --disabled-fill-color: #666;\n",
              "  }\n",
              "\n",
              "  .colab-df-quickchart {\n",
              "    background-color: var(--bg-color);\n",
              "    border: none;\n",
              "    border-radius: 50%;\n",
              "    cursor: pointer;\n",
              "    display: none;\n",
              "    fill: var(--fill-color);\n",
              "    height: 32px;\n",
              "    padding: 0;\n",
              "    width: 32px;\n",
              "  }\n",
              "\n",
              "  .colab-df-quickchart:hover {\n",
              "    background-color: var(--hover-bg-color);\n",
              "    box-shadow: 0 1px 2px rgba(60, 64, 67, 0.3), 0 1px 3px 1px rgba(60, 64, 67, 0.15);\n",
              "    fill: var(--button-hover-fill-color);\n",
              "  }\n",
              "\n",
              "  .colab-df-quickchart-complete:disabled,\n",
              "  .colab-df-quickchart-complete:disabled:hover {\n",
              "    background-color: var(--disabled-bg-color);\n",
              "    fill: var(--disabled-fill-color);\n",
              "    box-shadow: none;\n",
              "  }\n",
              "\n",
              "  .colab-df-spinner {\n",
              "    border: 2px solid var(--fill-color);\n",
              "    border-color: transparent;\n",
              "    border-bottom-color: var(--fill-color);\n",
              "    animation:\n",
              "      spin 1s steps(1) infinite;\n",
              "  }\n",
              "\n",
              "  @keyframes spin {\n",
              "    0% {\n",
              "      border-color: transparent;\n",
              "      border-bottom-color: var(--fill-color);\n",
              "      border-left-color: var(--fill-color);\n",
              "    }\n",
              "    20% {\n",
              "      border-color: transparent;\n",
              "      border-left-color: var(--fill-color);\n",
              "      border-top-color: var(--fill-color);\n",
              "    }\n",
              "    30% {\n",
              "      border-color: transparent;\n",
              "      border-left-color: var(--fill-color);\n",
              "      border-top-color: var(--fill-color);\n",
              "      border-right-color: var(--fill-color);\n",
              "    }\n",
              "    40% {\n",
              "      border-color: transparent;\n",
              "      border-right-color: var(--fill-color);\n",
              "      border-top-color: var(--fill-color);\n",
              "    }\n",
              "    60% {\n",
              "      border-color: transparent;\n",
              "      border-right-color: var(--fill-color);\n",
              "    }\n",
              "    80% {\n",
              "      border-color: transparent;\n",
              "      border-right-color: var(--fill-color);\n",
              "      border-bottom-color: var(--fill-color);\n",
              "    }\n",
              "    90% {\n",
              "      border-color: transparent;\n",
              "      border-bottom-color: var(--fill-color);\n",
              "    }\n",
              "  }\n",
              "</style>\n",
              "\n",
              "  <script>\n",
              "    async function quickchart(key) {\n",
              "      const quickchartButtonEl =\n",
              "        document.querySelector('#' + key + ' button');\n",
              "      quickchartButtonEl.disabled = true;  // To prevent multiple clicks.\n",
              "      quickchartButtonEl.classList.add('colab-df-spinner');\n",
              "      try {\n",
              "        const charts = await google.colab.kernel.invokeFunction(\n",
              "            'suggestCharts', [key], {});\n",
              "      } catch (error) {\n",
              "        console.error('Error during call to suggestCharts:', error);\n",
              "      }\n",
              "      quickchartButtonEl.classList.remove('colab-df-spinner');\n",
              "      quickchartButtonEl.classList.add('colab-df-quickchart-complete');\n",
              "    }\n",
              "    (() => {\n",
              "      let quickchartButtonEl =\n",
              "        document.querySelector('#df-e9d28ef3-304c-48eb-bd78-a2db1c86947a button');\n",
              "      quickchartButtonEl.style.display =\n",
              "        google.colab.kernel.accessAllowed ? 'block' : 'none';\n",
              "    })();\n",
              "  </script>\n",
              "</div>\n",
              "    </div>\n",
              "  </div>\n"
            ]
          },
          "metadata": {},
          "execution_count": 4
        }
      ]
    },
    {
      "cell_type": "code",
      "source": [
        "# Drop features by a threshold\n",
        "\n",
        "# Set a correlation threshold (you can adjust this)\n",
        "correlation_threshold = 0.7\n",
        "\n",
        "# Find uncorrelated features\n",
        "uncorrelated_features = set()\n",
        "for i in range(len(correlation_matrix.columns)):\n",
        "    for j in range(i):\n",
        "        if abs(correlation_matrix.iloc[i, j]) < correlation_threshold:\n",
        "            colname = correlation_matrix.columns[i]\n",
        "            uncorrelated_features.add(colname)\n",
        "\n",
        "# Remove the uncorrelated features\n",
        "X_selected = df.drop(uncorrelated_features, axis=1).values\n",
        "\n",
        "# Now X_selected contains the features after removing highly correlated ones\n",
        "print(f\"Original number of features: {X.shape[1]}\")\n",
        "print(f\"Number of features after feature selection: {X_selected.shape[1]}\")"
      ],
      "metadata": {
        "colab": {
          "base_uri": "https://localhost:8080/"
        },
        "id": "pC9FdnOP9zzT",
        "outputId": "a4f8da46-4410-4727-bcd8-72a5e0cf39dc"
      },
      "execution_count": null,
      "outputs": [
        {
          "output_type": "stream",
          "name": "stdout",
          "text": [
            "Original number of features: 10\n",
            "Number of features after feature selection: 1\n"
          ]
        }
      ]
    },
    {
      "cell_type": "markdown",
      "source": [
        "_Wrapper_. By a machine learning algorithm."
      ],
      "metadata": {
        "id": "dQP8cA4-_p-k"
      }
    },
    {
      "cell_type": "code",
      "source": [
        "# Train a linear regression model\n",
        "# Select top k features by coefficients weights\n",
        "\n",
        "import numpy as np\n",
        "from sklearn.datasets import make_regression\n",
        "from sklearn.linear_model import LinearRegression\n",
        "from sklearn.model_selection import train_test_split\n",
        "from sklearn.metrics import mean_squared_error\n",
        "\n",
        "# Create a synthetic regression dataset\n",
        "X, y = make_regression(n_samples=1000, n_features=10, noise=0.1, random_state=42)\n",
        "\n",
        "# Split the data into training and testing sets\n",
        "X_train, X_test, y_train, y_test = train_test_split(X, y, test_size=0.2, random_state=42)\n",
        "\n",
        "# Train a linear regression model\n",
        "regressor = LinearRegression()\n",
        "regressor.fit(X_train, y_train)\n",
        "\n",
        "# Get the coefficients and corresponding feature names\n",
        "coefficients = regressor.coef_\n",
        "feature_names = [f\"feature_{i}\" for i in range(X.shape[1])]\n",
        "\n",
        "coefficients\n",
        "\n",
        "# Create a dictionary mapping feature names to their coefficients\n",
        "feature_coefficients = dict(zip(feature_names, coefficients))\n",
        "\n",
        "# Sort features based on their coefficients\n",
        "sorted_features = sorted(feature_coefficients.items(), key=lambda x: abs(x[1]), reverse=True)\n",
        "\n",
        "# Select the top k features based on absolute coefficient values\n",
        "k = 3\n",
        "selected_features = sorted_features[:k]\n",
        "\n",
        "selected_features"
      ],
      "metadata": {
        "colab": {
          "base_uri": "https://localhost:8080/"
        },
        "id": "iI-bYouWAoIh",
        "outputId": "a57d0556-4325-46d7-fa18-a4eea5980480"
      },
      "execution_count": null,
      "outputs": [
        {
          "output_type": "execute_result",
          "data": {
            "text/plain": [
              "[('feature_6', 76.33123133223371),\n",
              " ('feature_3', 75.31140259252764),\n",
              " ('feature_9', 58.29257430695129)]"
            ]
          },
          "metadata": {},
          "execution_count": 12
        }
      ]
    },
    {
      "cell_type": "markdown",
      "source": [
        "## Searching the Attribute Space"
      ],
      "metadata": {
        "id": "6B5hgaxBsZEe"
      }
    },
    {
      "cell_type": "markdown",
      "source": [
        "Recursive Feature Elimination"
      ],
      "metadata": {
        "id": "BWNQgAHYGKQH"
      }
    },
    {
      "cell_type": "code",
      "source": [
        "# This is achieved by fitting the given machine learning algorithm used in the core of the model\n",
        "# ranking features by importance,\n",
        "# discarding the least important features,\n",
        "# and re-fitting the model.\n",
        "# This process is repeated until a specified number of features remains.\n",
        "\n",
        "import pandas as pd\n",
        "from sklearn.model_selection import train_test_split\n",
        "from sklearn.ensemble import RandomForestClassifier\n",
        "from sklearn.feature_selection import RFE\n",
        "from sklearn.metrics import accuracy_score\n",
        "\n",
        "# Set a random seed for reproducibility\n",
        "np.random.seed(42)\n",
        "\n",
        "# Step 1: Generate a dummy dataset\n",
        "def generate_dummy_data(n_samples=1000):\n",
        "    data = {\n",
        "        'feature1': np.random.rand(n_samples),\n",
        "        'feature2': np.random.rand(n_samples),\n",
        "        'feature3': np.random.rand(n_samples),\n",
        "        'feature4': np.random.rand(n_samples),\n",
        "        'target': np.random.choice([0, 1], size=n_samples)\n",
        "    }\n",
        "    return pd.DataFrame(data)\n",
        "\n",
        "# Step 2: Split the dataset into training and testing sets\n",
        "def split_data(df):\n",
        "    X = df.drop('target', axis=1)\n",
        "    y = df['target']\n",
        "    return train_test_split(X, y, test_size=0.2, random_state=42)\n",
        "\n",
        "# Step 3: Build a model and evaluate it\n",
        "def train_and_evaluate_model(X_train, X_test, y_train, y_test):\n",
        "    model = RandomForestClassifier(n_estimators=100, random_state=42)\n",
        "    model.fit(X_train, y_train)\n",
        "    y_pred = model.predict(X_test)\n",
        "    accuracy = accuracy_score(y_test, y_pred)\n",
        "    return accuracy\n",
        "\n",
        "# Step 4: Run the RFE feature selection\n",
        "def rfe_feature_selection_demo(df, num_features_to_select=1):\n",
        "    X_train, X_test, y_train, y_test = split_data(df)\n",
        "\n",
        "    model = RandomForestClassifier(n_estimators=100, random_state=42)\n",
        "\n",
        "    # Create the RFE model and select features\n",
        "    rfe = RFE(model, n_features_to_select=num_features_to_select)\n",
        "    X_train_rfe = rfe.fit_transform(X_train, y_train)\n",
        "    X_test_rfe = rfe.transform(X_test)\n",
        "\n",
        "    # Train and evaluate the model on the selected features\n",
        "    model.fit(X_train_rfe, y_train)\n",
        "    y_pred = model.predict(X_test_rfe)\n",
        "    accuracy = accuracy_score(y_test, y_pred)\n",
        "\n",
        "    print(f'Selected Features: {X_train.columns[rfe.support_]}')\n",
        "    print(f'Accuracy with Selected Features: {accuracy:.4f}')\n",
        "\n",
        "# Step 5: Run the RFE feature selection demo\n",
        "dummy_data = generate_dummy_data()\n",
        "rfe_feature_selection_demo(dummy_data, num_features_to_select=2)"
      ],
      "metadata": {
        "colab": {
          "base_uri": "https://localhost:8080/"
        },
        "id": "5rWhw47pCH-7",
        "outputId": "8649f27f-d95e-41de-ae7b-d11980700358"
      },
      "execution_count": null,
      "outputs": [
        {
          "output_type": "stream",
          "name": "stdout",
          "text": [
            "Selected Features: Index(['feature2', 'feature4'], dtype='object')\n",
            "Accuracy with Selected Features: 0.5600\n"
          ]
        }
      ]
    },
    {
      "cell_type": "markdown",
      "source": [
        "## Scheme-specific Selection"
      ],
      "metadata": {
        "id": "ztiFGCjmsc6c"
      }
    },
    {
      "cell_type": "markdown",
      "source": [
        "**Task 8.1.1** Demonstrate the following quote from the book:\n",
        "\n",
        "> A simple method for accelerating scheme-specific search is to preselect a given number of attributes by ranking them first using a criterion like the information gain and discarding the rest before applying scheme-specific selection.\n",
        "\n",
        "e.g. ou can combine the statistical correlation with recursive feature elimination shown to you."
      ],
      "metadata": {
        "id": "TUTMa0TfHWg4"
      }
    },
    {
      "cell_type": "markdown",
      "source": [
        "# 8.2 Discretizing Numeric Attributes"
      ],
      "metadata": {
        "id": "NO1MVuFoNDOD"
      }
    },
    {
      "cell_type": "markdown",
      "source": [
        "Unsupervised equal-interval binning is demonstrated early."
      ],
      "metadata": {
        "id": "b3JKAUQYLNpF"
      }
    },
    {
      "cell_type": "markdown",
      "source": [
        "**Task 8.2.1** Search and demonstrate the following unsupervised discretization method.\n",
        "\n",
        "> the number of bins is chosen in a data-dependent fashion by setting it to the square root of the number of instances. This method is called _proportional k-interval discretization_."
      ],
      "metadata": {
        "id": "E_VaL8lNLzxA"
      }
    },
    {
      "cell_type": "markdown",
      "source": [
        "**Entropy-based**"
      ],
      "metadata": {
        "id": "MvHhbkvfM6uL"
      }
    },
    {
      "cell_type": "code",
      "source": [
        "# 'information' is the amount of information required to specify the individual values of yes and no given the split.\n",
        "# We seek a discretization that makes the subintervals as pure as possible\n",
        "# hence, we choose to split at the point where the information value is smallest.\n",
        "# in other words, where we don't need to specify a lot to reach yes and no instances.\n",
        "\n",
        "import numpy as np\n",
        "import pandas as pd\n",
        "from sklearn.preprocessing import KBinsDiscretizer\n",
        "\n",
        "# Generate some example numeric data\n",
        "np.random.seed(42)\n",
        "numeric_data = np.random.rand(100, 1) * 10  # Replace this with your own numeric data\n",
        "\n",
        "# Set the number of bins (adjust this based on your dataset)\n",
        "num_bins = 5\n",
        "\n",
        "# Create a KBinsDiscretizer with 'entropy' as the criterion\n",
        "kbd = KBinsDiscretizer(n_bins=num_bins, encode='ordinal', strategy='uniform', criterion='entropy')\n",
        "\n",
        "# Fit and transform the numeric data\n",
        "discretized_data = kbd.fit_transform(numeric_data)\n",
        "\n",
        "# Convert the result to a DataFrame for better visualization\n",
        "discretized_df = pd.DataFrame(discretized_data, columns=['Discretized'])\n",
        "\n",
        "# Display the original and discretized data side by side\n",
        "print(pd.DataFrame(np.hstack([numeric_data, discretized_data]), columns=['Original', 'Discretized']))"
      ],
      "metadata": {
        "id": "6w9zOTWWNCGn"
      },
      "execution_count": null,
      "outputs": []
    },
    {
      "cell_type": "markdown",
      "source": [
        "# 8.3 Projections"
      ],
      "metadata": {
        "id": "lhuXR8-DNKrb"
      }
    },
    {
      "cell_type": "markdown",
      "source": [
        "**Principal Component Analysis (PCA)**"
      ],
      "metadata": {
        "id": "sI5BQLONW4Lt"
      }
    },
    {
      "cell_type": "code",
      "source": [
        "import numpy as np\n",
        "import pandas as pd\n",
        "import matplotlib.pyplot as plt\n",
        "from sklearn.datasets import load_iris\n",
        "from sklearn.decomposition import PCA\n",
        "from sklearn.preprocessing import StandardScaler\n",
        "\n",
        "# Load the Iris dataset\n",
        "iris = load_iris()\n",
        "X = iris.data\n",
        "y = iris.target\n",
        "feature_names = iris.feature_names\n",
        "\n",
        "# 4 features\n",
        "X.shape"
      ],
      "metadata": {
        "colab": {
          "base_uri": "https://localhost:8080/"
        },
        "id": "xI-uMnt6VaFJ",
        "outputId": "2eef3dbd-4587-47bd-9470-032a2ecdb7f7"
      },
      "execution_count": null,
      "outputs": [
        {
          "output_type": "execute_result",
          "data": {
            "text/plain": [
              "(150, 4)"
            ]
          },
          "metadata": {},
          "execution_count": 16
        }
      ]
    },
    {
      "cell_type": "code",
      "source": [
        "# Standardize the data (important for PCA)\n",
        "scaler = StandardScaler()\n",
        "X_std = scaler.fit_transform(X)\n",
        "\n",
        "# Apply PCA\n",
        "pca = PCA(n_components=2)\n",
        "X_pca = pca.fit_transform(X_std)\n",
        "\n",
        "# 2 features in reduced data\n",
        "X_pca.shape"
      ],
      "metadata": {
        "colab": {
          "base_uri": "https://localhost:8080/"
        },
        "id": "nUiUuLGgSvrq",
        "outputId": "7eb12dc1-43d8-42f7-f3af-fad95e5f17bf"
      },
      "execution_count": null,
      "outputs": [
        {
          "output_type": "execute_result",
          "data": {
            "text/plain": [
              "(150, 2)"
            ]
          },
          "metadata": {},
          "execution_count": 17
        }
      ]
    },
    {
      "cell_type": "code",
      "source": [
        "# Create a DataFrame for visualization\n",
        "df_pca = pd.DataFrame(data=X_pca, columns=['Principal Component 1', 'Principal Component 2'])\n",
        "df_pca['Target'] = y\n",
        "\n",
        "# Visualize the results\n",
        "plt.figure(figsize=(10, 6))\n",
        "plt.xlabel('Principal Component 1')\n",
        "plt.ylabel('Principal Component 2')\n",
        "plt.title('PCA of Iris Dataset')\n",
        "\n",
        "plt.scatter(df_pca['Principal Component 1'], df_pca['Principal Component 2'], c = df_pca['Target'])\n",
        "\n",
        "plt.show()"
      ],
      "metadata": {
        "colab": {
          "base_uri": "https://localhost:8080/"
        },
        "id": "-8cPb3glVmYN",
        "outputId": "31170a5f-5e9b-4dfc-f245-ccb420ed26ed"
      },
      "execution_count": null,
      "outputs": [
        {
          "output_type": "display_data",
          "data": {
            "text/plain": [
              "<Figure size 1000x600 with 1 Axes>"
            ],
            "image/png": "[encoded data removed]"
          },
          "metadata": {}
        }
      ]
    },
    {
      "cell_type": "markdown",
      "source": [
        "**Task 8.3.1** Train a machine learning model before and after PCA. Compare evaluation metrics."
      ],
      "metadata": {
        "id": "3pg2uMosaE-E"
      }
    },
    {
      "cell_type": "markdown",
      "source": [
        "# 8.4 Sampling"
      ],
      "metadata": {
        "id": "zc03Rr-ONgt2"
      }
    },
    {
      "cell_type": "code",
      "source": [
        "# Reservoir Sampling\n",
        "\n",
        "# Generating a random sample of an input stream without storing all the instances beforehand\n",
        "# Fill the reservoir\n",
        "# The next one of stream will be included in the sample with probability r/(r+1)\n",
        "\n",
        "import random\n",
        "\n",
        "def reservoir_sampling(stream, k):\n",
        "    \"\"\"\n",
        "    Perform reservoir sampling on a data stream.\n",
        "\n",
        "    Parameters:\n",
        "    - stream: An iterable representing the data stream.\n",
        "    - k: The number of elements to sample.\n",
        "\n",
        "    Returns:\n",
        "    A list of k sampled elements.\n",
        "    \"\"\"\n",
        "\n",
        "    reservoir = []\n",
        "\n",
        "    # Fill the reservoir with the first k elements\n",
        "    for i, element in enumerate(stream):\n",
        "        if i < k:\n",
        "            reservoir.append(element)\n",
        "        else:\n",
        "            # Randomly replace elements in the reservoir\n",
        "            j = random.randint(0, i)\n",
        "            if j < k:\n",
        "                reservoir[j] = element\n",
        "\n",
        "    return reservoir\n",
        "\n",
        "# Example usage\n",
        "data_stream = range(1, 11)  # Example data stream from 1 to 100\n",
        "sample_size = 2\n",
        "\n",
        "\n",
        "reservoir_sampling(data_stream, sample_size)"
      ],
      "metadata": {
        "colab": {
          "base_uri": "https://localhost:8080/"
        },
        "id": "o0romSYkYBsz",
        "outputId": "7e878e46-6638-402d-eefb-b229df27bceb"
      },
      "execution_count": null,
      "outputs": [
        {
          "output_type": "execute_result",
          "data": {
            "text/plain": [
              "[6, 8]"
            ]
          },
          "metadata": {},
          "execution_count": 32
        }
      ]
    },
    {
      "cell_type": "markdown",
      "source": [
        "# 8.5 Cleansing"
      ],
      "metadata": {
        "id": "EEFV8KksNkAe"
      }
    },
    {
      "cell_type": "markdown",
      "source": [
        "**Task 8.5.1** Demonstrate the following.\n",
        "\n",
        "> decision trees induced from training data can often be simplified, without loss of accuracy, by discarding misclassified instances from the training set, relearning, and then repeating until there are no misclassified instances.\n",
        "\n",
        "You may find code snippets from the previous lab useful."
      ],
      "metadata": {
        "id": "Z0yXZGTBZULX"
      }
    },
    {
      "cell_type": "code",
      "source": [
        "# Media regression\n",
        "\n",
        "# Robust against outliers\n",
        "\n",
        "import numpy as np\n",
        "import statsmodels.api as sm\n",
        "import matplotlib.pyplot as plt\n",
        "\n",
        "# Generate some example data\n",
        "np.random.seed(42)\n",
        "X = np.random.rand(100, 1) * 10\n",
        "y = 2 * X + 3 + np.random.normal(0, 1, size=(100, 1))\n",
        "\n",
        "# Add some outliers to the data\n",
        "outliers = np.random.randint(0, 100, 10)\n",
        "y[outliers] += 20  # Introduce outliers\n",
        "\n",
        "# Perform L1 median regression\n",
        "X_with_intercept = sm.add_constant(X)\n",
        "median_model = sm.RLM(y, X_with_intercept, M=sm.robust.norms.TrimmedMean())\n",
        "median_results = median_model.fit()\n",
        "\n",
        "# Get the regression line parameters\n",
        "intercept, slope = median_results.params\n",
        "\n",
        "# Visualize the data and the regression line\n",
        "\n",
        "plt.scatter(X, y, label='Data')\n",
        "plt.plot(X, intercept + slope * X, color='red', label='L1 Median Regression Line')\n",
        "plt.title('L1 Median Regression')\n",
        "plt.xlabel('X')\n",
        "plt.ylabel('y')\n",
        "plt.legend()\n",
        "plt.show()"
      ],
      "metadata": {
        "colab": {
          "base_uri": "https://localhost:8080/"
        },
        "id": "2FRfs21ybzsN",
        "outputId": "2bf4b72e-a47b-451d-a81f-a0e43b5bbc6f"
      },
      "execution_count": null,
      "outputs": [
        {
          "output_type": "display_data",
          "data": {
            "text/plain": [
              "<Figure size 640x480 with 1 Axes>"
            ],
            "image/png": "[encoded data removed]"
          },
          "metadata": {}
        }
      ]
    },
    {
      "cell_type": "markdown",
      "source": [
        "**Task 8.5.2** Make a regression more robust against outliers by one of the following:\n",
        "- Train a regression model with absolute-value distance measure instead of the usual squared one.\n",
        "- Train a regression line and then eliminate the 10% of points that lie furthest from the line.\n",
        "\n",
        "Compare and evaluate with the standard approach."
      ],
      "metadata": {
        "id": "LC_h-joxajgL"
      }
    },
    {
      "cell_type": "markdown",
      "source": [
        "# 8.6 Transforming Multiple Classes to Binary Ones"
      ],
      "metadata": {
        "id": "_tSbZGa5OCp8"
      }
    },
    {
      "cell_type": "code",
      "source": [
        "# transform multiclass problems into multiple two-class one\n",
        "# the dataset is decomposed into several two-class problems\n",
        "# the algorithm is run on each one\n",
        "# outputs of the resulting classifiers are combined\n",
        "\n",
        "from sklearn.datasets import load_iris\n",
        "from sklearn.model_selection import train_test_split\n",
        "from sklearn.svm import SVC\n",
        "from sklearn.multiclass import OneVsRestClassifier\n",
        "\n",
        "# Load the Iris dataset\n",
        "iris = load_iris()\n",
        "X, y = iris.data, iris.target\n",
        "\n",
        "# Split the data into training and testing sets\n",
        "X_train, X_test, y_train, y_test = train_test_split(X, y, test_size=0.2, random_state=42)\n",
        "\n",
        "# Create a Support Vector Machine (SVM) classifier\n",
        "svm_classifier = SVC(kernel='linear', C=1.0)\n",
        "\n",
        "# One-vs-Rest strategy\n",
        "ovr_classifier = OneVsRestClassifier(svm_classifier)\n",
        "\n",
        "# Train the classifier using the one-vs-rest strategy\n",
        "ovr_classifier.fit(X_train, y_train)\n",
        "\n",
        "# Make predictions\n",
        "y_pred_ovr = ovr_classifier.predict(X_test)\n",
        "\n",
        "# print\n",
        "y_pred_ovr\n",
        "\n",
        "# Observe we have 3 classes"
      ],
      "metadata": {
        "colab": {
          "base_uri": "https://localhost:8080/"
        },
        "id": "wLTDC8DokB7z",
        "outputId": "25a83d71-f392-4e95-e905-3083622c87dd"
      },
      "execution_count": null,
      "outputs": [
        {
          "output_type": "execute_result",
          "data": {
            "text/plain": [
              "array([1, 0, 2, 1, 1, 0, 1, 2, 1, 1, 2, 0, 0, 0, 0, 2, 2, 1, 1, 2, 0, 2,\n",
              "       0, 2, 2, 2, 2, 2, 0, 0])"
            ]
          },
          "metadata": {},
          "execution_count": 34
        }
      ]
    },
    {
      "cell_type": "markdown",
      "source": [
        "**Task 8.6.1** Try _One Vs One_ strategy with by substituting line: `ovo_classifier = OneVsOneClassifier(svm_classifier)`. Evaluate and compare results.\n",
        "\n"
      ],
      "metadata": {
        "id": "hfFsDQYQkHWW"
      }
    }
  ]
}