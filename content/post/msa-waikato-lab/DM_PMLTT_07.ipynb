{
  "nbformat": 4,
  "nbformat_minor": 0,
  "metadata": {
    "colab": {
      "provenance": [],
      "collapsed_sections": [
        "asZS1eE_xFwl",
        "62Ii_1e1cMOb",
        "2KlP-2JJrpTC",
        "S_YkP-ynrgg2",
        "iYEd4xTQr8cR",
        "GbnlXiGrwxf9",
        "UQt7XtFA4Glg",
        "cZXTn22L4KQN",
        "hg-f9UoI4iPL",
        "NXQOuJgBkb9N",
        "Rdekrisc_Hhc"
      ]
    },
    "kernelspec": {
      "name": "python3",
      "display_name": "Python 3"
    },
    "language_info": {
      "name": "python"
    }
  },
  "cells": [
    {
      "cell_type": "markdown",
      "source": [
        "# Chapter Goals\n",
        "- Extending algorithms to overcome some shortcomings of naive methods.\n",
        "\n",
        "# General Lab Guidlines\n",
        "- Visualization.\n",
        "- Modifiable code snippets."
      ],
      "metadata": {
        "id": "vLMrmp4BwwpO"
      }
    },
    {
      "cell_type": "markdown",
      "source": [
        "---"
      ],
      "metadata": {
        "id": "Qk35Y1UNwutp"
      }
    },
    {
      "cell_type": "code",
      "source": [
        "# Loading a dataset\n",
        "# dataset names: \"airline\", \"breast-cancer\", \"contact-lenses\", \"cpu\", \"cpu.with.vendor\", \"credit-g\", \"diabetes\", \"glass\", \"hypothyroid\", \"ionosphere\", \"iris.2D\", \"iris\", \"labor\", \"segment-challenge\", \"segment-test\", \"soybean\", \"supermarket\", \"unbalanced\", \"vote\", \"weather.nominal\", \"weather.numeric\"\n",
        "# df = pd.read_csv(\"data/weather.numeric.csv\")\n",
        "# instances = loader.load_file(\"data/weather.numeric.arff\")"
      ],
      "metadata": {
        "id": "73iEUGIr6PvJ"
      },
      "execution_count": null,
      "outputs": []
    },
    {
      "cell_type": "markdown",
      "source": [
        "# Modules & Datasets Setup"
      ],
      "metadata": {
        "id": "asZS1eE_xFwl"
      }
    },
    {
      "cell_type": "code",
      "source": [
        "# @title\n",
        "!apt-get install default-jdk\n",
        "!apt install libgraphviz-dev"
      ],
      "metadata": {
        "id": "ybaGzIpGq_QT",
        "colab": {
          "base_uri": "https://localhost:8080/"
        },
        "outputId": "b5da691c-8d7c-4d6b-8d3c-f294fc8bae2f",
        "collapsed": true,
        "cellView": "form"
      },
      "execution_count": null,
      "outputs": [
        {
          "output_type": "stream",
          "name": "stdout",
          "text": [
            "Reading package lists... Done\n",
            "Building dependency tree... Done\n",
            "Reading state information... Done\n",
            "default-jdk is already the newest version (2:1.11-72build2).\n",
            "0 upgraded, 0 newly installed, 0 to remove and 15 not upgraded.\n",
            "Reading package lists... Done\n",
            "Building dependency tree... Done\n",
            "Reading state information... Done\n",
            "libgraphviz-dev is already the newest version (2.42.2-6).\n",
            "0 upgraded, 0 newly installed, 0 to remove and 15 not upgraded.\n"
          ]
        }
      ]
    },
    {
      "cell_type": "code",
      "source": [
        "# @title\n",
        "!pip install pygraphviz\n",
        "!pip install python-javabridge\n",
        "!pip install python-weka-wrapper3\n",
        "!pip install sklearn-weka-plugin"
      ],
      "metadata": {
        "id": "ofMkHDFknGUu",
        "colab": {
          "base_uri": "https://localhost:8080/"
        },
        "outputId": "6f56cbdf-8b51-48d2-a71b-f3c1dccfad8a",
        "collapsed": true,
        "cellView": "form"
      },
      "execution_count": null,
      "outputs": [
        {
          "output_type": "stream",
          "name": "stdout",
          "text": [
            "Requirement already satisfied: pygraphviz in /usr/local/lib/python3.10/dist-packages (1.11)\n",
            "Requirement already satisfied: python-javabridge in /usr/local/lib/python3.10/dist-packages (4.0.3)\n",
            "Requirement already satisfied: numpy>=1.20.1 in /usr/local/lib/python3.10/dist-packages (from python-javabridge) (1.23.5)\n",
            "Requirement already satisfied: python-weka-wrapper3 in /usr/local/lib/python3.10/dist-packages (0.2.14)\n",
            "Requirement already satisfied: python-javabridge>=4.0.0 in /usr/local/lib/python3.10/dist-packages (from python-weka-wrapper3) (4.0.3)\n",
            "Requirement already satisfied: numpy in /usr/local/lib/python3.10/dist-packages (from python-weka-wrapper3) (1.23.5)\n",
            "Requirement already satisfied: packaging in /usr/local/lib/python3.10/dist-packages (from python-weka-wrapper3) (23.2)\n",
            "Requirement already satisfied: configurable-objects in /usr/local/lib/python3.10/dist-packages (from python-weka-wrapper3) (0.0.1)\n",
            "Requirement already satisfied: simple-data-flow in /usr/local/lib/python3.10/dist-packages (from python-weka-wrapper3) (0.0.1)\n",
            "Collecting sklearn-weka-plugin\n",
            "  Using cached sklearn-weka-plugin-0.0.7.tar.gz (69 kB)\n",
            "  Preparing metadata (setup.py) ... \u001b[?25l\u001b[?25hdone\n",
            "Requirement already satisfied: numpy in /usr/local/lib/python3.10/dist-packages (from sklearn-weka-plugin) (1.23.5)\n",
            "Requirement already satisfied: python-weka-wrapper3>=0.2.5 in /usr/local/lib/python3.10/dist-packages (from sklearn-weka-plugin) (0.2.14)\n",
            "Collecting sklearn (from sklearn-weka-plugin)\n",
            "  Using cached sklearn-0.0.post12.tar.gz (2.6 kB)\n",
            "  \u001b[1;31merror\u001b[0m: \u001b[1msubprocess-exited-with-error\u001b[0m\n",
            "  \n",
            "  \u001b[31m×\u001b[0m \u001b[32mpython setup.py egg_info\u001b[0m did not run successfully.\n",
            "  \u001b[31m│\u001b[0m exit code: \u001b[1;36m1\u001b[0m\n",
            "  \u001b[31m╰─>\u001b[0m See above for output.\n",
            "  \n",
            "  \u001b[1;35mnote\u001b[0m: This error originates from a subprocess, and is likely not a problem with pip.\n",
            "  Preparing metadata (setup.py) ... \u001b[?25l\u001b[?25herror\n",
            "\u001b[1;31merror\u001b[0m: \u001b[1mmetadata-generation-failed\u001b[0m\n",
            "\n",
            "\u001b[31m×\u001b[0m Encountered error while generating package metadata.\n",
            "\u001b[31m╰─>\u001b[0m See above for output.\n",
            "\n",
            "\u001b[1;35mnote\u001b[0m: This is an issue with the package mentioned above, not pip.\n",
            "\u001b[1;36mhint\u001b[0m: See above for details.\n"
          ]
        }
      ]
    },
    {
      "cell_type": "code",
      "source": [
        "# @title\n",
        "#Restart runtime after installing the dependencies"
      ],
      "metadata": {
        "id": "K7AOVpj6tJCo",
        "cellView": "form"
      },
      "execution_count": null,
      "outputs": []
    },
    {
      "cell_type": "code",
      "source": [
        "# @title\n",
        "import os\n",
        "import glob\n",
        "import numpy as np\n",
        "import pandas as pd\n",
        "import weka.core.jvm as jvm\n",
        "from weka.core import converters\n",
        "import matplotlib.pyplot as plt"
      ],
      "metadata": {
        "id": "z3KWEJT_COnI",
        "cellView": "form"
      },
      "execution_count": null,
      "outputs": []
    },
    {
      "cell_type": "code",
      "source": [
        "# @title\n",
        "data_dir = 'data'"
      ],
      "metadata": {
        "id": "g-Irnr7lwXOW",
        "cellView": "form"
      },
      "execution_count": null,
      "outputs": []
    },
    {
      "cell_type": "code",
      "source": [
        "# @title\n",
        "#!rm -r weka\n",
        "#!rm -r data"
      ],
      "metadata": {
        "id": "ZDA_uh_swSNP",
        "cellView": "form"
      },
      "execution_count": null,
      "outputs": []
    },
    {
      "cell_type": "code",
      "source": [
        "# @title\n",
        "#jvm.stop()\n",
        "jvm.start(packages=True)"
      ],
      "metadata": {
        "id": "9gqo2Sdkrp1e",
        "colab": {
          "base_uri": "https://localhost:8080/"
        },
        "outputId": "aba13561-c7d2-4f77-c144-a13c0327d268",
        "collapsed": true,
        "cellView": "form"
      },
      "execution_count": null,
      "outputs": [
        {
          "output_type": "stream",
          "name": "stderr",
          "text": [
            "DEBUG:weka.core.jvm:Adding bundled jars\n",
            "DEBUG:weka.core.jvm:Classpath=['/usr/local/lib/python3.10/dist-packages/javabridge/jars/rhino-1.7R4.jar', '/usr/local/lib/python3.10/dist-packages/javabridge/jars/runnablequeue.jar', '/usr/local/lib/python3.10/dist-packages/javabridge/jars/cpython.jar', '/usr/local/lib/python3.10/dist-packages/weka/lib/core.jar', '/usr/local/lib/python3.10/dist-packages/weka/lib/python-weka-wrapper.jar', '/usr/local/lib/python3.10/dist-packages/weka/lib/mtj.jar', '/usr/local/lib/python3.10/dist-packages/weka/lib/weka.jar', '/usr/local/lib/python3.10/dist-packages/weka/lib/arpack_combined.jar']\n",
            "DEBUG:weka.core.jvm:MaxHeapSize=default\n",
            "DEBUG:weka.core.jvm:Package support enabled\n"
          ]
        }
      ]
    },
    {
      "cell_type": "code",
      "source": [
        "# @title\n",
        "# Preparing Datasets\n",
        "if not os.path.exists(data_dir):\n",
        "    !mkdir $data_dir\n",
        "    for file in ['airline.arff', 'breast-cancer.arff', 'contact-lenses.arff', 'cpu.arff', 'cpu.with.vendor.arff', 'credit-g.arff', 'diabetes.arff', 'glass.arff', 'hypothyroid.arff', 'ionosphere.arff', 'iris.2D.arff', 'iris.arff', 'labor.arff', 'segment-challenge.arff', 'segment-test.arff', 'soybean.arff', 'supermarket.arff', 'unbalanced.arff', 'vote.arff', 'weather.nominal.arff', 'weather.numeric.arff',]:\n",
        "        url = 'https://git.cms.waikato.ac.nz/weka/weka/-/raw/main/trunk/wekadocs/data/' + file\n",
        "        !wget -P $data_dir $url\n",
        "    loader = converters.Loader(classname=\"weka.core.converters.ArffLoader\")\n",
        "    saver = converters.Saver(classname=\"weka.core.converters.CSVSaver\")\n",
        "    for file in glob.glob(os.path.join(data_dir, '*.arff')):\n",
        "        dataset = loader.load_file(file)\n",
        "        filename, file_extension = os.path.splitext(file)\n",
        "        saver.save_file(dataset, filename + '.csv')\n",
        "    !wget -P $data_dir https://raw.githubusercontent.com/Rytuo/ITMO-CT/master/Others/AdvancedML/data/OpenML/data/1438.arff\n",
        "    !rm -r weka"
      ],
      "metadata": {
        "id": "KOJC_Fuhqvw7",
        "cellView": "form",
        "collapsed": true
      },
      "execution_count": null,
      "outputs": []
    },
    {
      "cell_type": "code",
      "source": [
        "# @title\n",
        "import weka.core.packages as packages\n",
        "packages.install_package(\"simpleEducationalLearningSchemes\")\n",
        "packages.install_package(\"generalizedSequentialPatterns\")\n",
        "packages.install_package(\"classAssociationRules\")\n",
        "packages.install_package(\"NNge\")\n",
        "packages.install_package(\"LibSVM\")\n",
        "\n",
        "from weka.core.converters import Loader\n",
        "loader = Loader(classname=\"weka.core.converters.ArffLoader\")"
      ],
      "metadata": {
        "collapsed": true,
        "id": "25QIdRrXuB5T"
      },
      "execution_count": null,
      "outputs": []
    },
    {
      "cell_type": "markdown",
      "source": [
        "# 7.1 Instance-based Learning"
      ],
      "metadata": {
        "id": "KIMKMMz0UUMF"
      }
    },
    {
      "cell_type": "markdown",
      "source": [
        "Sources\n",
        "- [NNge, Weka's sourceforge](https://weka.sourceforge.io/doc.packages/NNge/weka/classifiers/rules/NNge.html) - Build the Nearest-neighbor-like algorithm using non-nested eneralized exemplars. Hyperrectangles that can be viewed as if-then rules.\n",
        "- [SVC, Scikit-learn](https://scikit-learn.org/stable/modules/generated/sklearn.svm.SVC.html) - C-Support Vector Classification.\n",
        "\n"
      ],
      "metadata": {
        "id": "oefD0c-_6PwY"
      }
    },
    {
      "cell_type": "markdown",
      "source": [
        "## Weighted Attributes"
      ],
      "metadata": {
        "id": "62Ii_1e1cMOb"
      }
    },
    {
      "cell_type": "code",
      "source": [
        "# Weighted Euclidean Distance Function\n",
        "\n",
        "import numpy as np\n",
        "\n",
        "def weighted_euclidean_distance(x, y, weights):\n",
        "\n",
        "    # Calculate the squared differences, multiply by weights, and sum them up\n",
        "    squared_diff = np.sum(weights * (x - y)**2)\n",
        "\n",
        "    # Take the square root to get the final distance\n",
        "    distance = np.sqrt(squared_diff)\n",
        "\n",
        "    return distance"
      ],
      "metadata": {
        "id": "bXWil1s9cO0n"
      },
      "execution_count": null,
      "outputs": []
    },
    {
      "cell_type": "code",
      "source": [
        "# Distance computed\n",
        "\n",
        "x1 = np.array([1, 2, 3])\n",
        "y1 = np.array([4, 5, 6])\n",
        "weights1 = np.array([0.5, 1.0, 2.0])\n",
        "\n",
        "weighted_euclidean_distance(x1, y1, weights1)"
      ],
      "metadata": {
        "colab": {
          "base_uri": "https://localhost:8080/"
        },
        "id": "PZRCK8Y7dXYP",
        "outputId": "95e3556b-1af2-4eb3-b370-dc111dd97465"
      },
      "execution_count": null,
      "outputs": [
        {
          "output_type": "execute_result",
          "data": {
            "text/plain": [
              "5.612486080160912"
            ]
          },
          "metadata": {},
          "execution_count": 2
        }
      ]
    },
    {
      "cell_type": "code",
      "source": [
        "# Same instances but with different weights\n",
        "\n",
        "weights2 = np.array([1.0, 2.0, 3.0])\n",
        "\n",
        "weighted_euclidean_distance(x1, y1, weights2)"
      ],
      "metadata": {
        "colab": {
          "base_uri": "https://localhost:8080/"
        },
        "id": "EXWmobTLddM3",
        "outputId": "a96bbcb9-71d7-4ab7-eb51-9d68ff5b860d"
      },
      "execution_count": null,
      "outputs": [
        {
          "output_type": "execute_result",
          "data": {
            "text/plain": [
              "7.3484692283495345"
            ]
          },
          "metadata": {},
          "execution_count": 5
        }
      ]
    },
    {
      "cell_type": "markdown",
      "source": [
        "**Task 7.1.1** Select weights that yields a distance less than 5."
      ],
      "metadata": {
        "id": "3XvAmnVnNIpB"
      }
    },
    {
      "cell_type": "markdown",
      "source": [
        "## Reducing the number of exemplars"
      ],
      "metadata": {
        "id": "2KlP-2JJrpTC"
      }
    },
    {
      "cell_type": "code",
      "source": [
        "# Dummy SVC classifier\n",
        "\n",
        "from sklearn.datasets import make_classification\n",
        "from sklearn.model_selection import train_test_split\n",
        "from sklearn.svm import SVC\n",
        "from sklearn.metrics import accuracy_score\n",
        "\n",
        "# Generate dummy data\n",
        "X, y = make_classification(n_samples=1000, n_features=10, n_informative=5, n_clusters_per_class=2, random_state=42)\n",
        "\n",
        "# Split the data into training and testing sets\n",
        "X_train, X_test, y_train, y_test = train_test_split(X, y, test_size=0.2, random_state=42)\n",
        "\n",
        "# Train a Support Vector Machine classifier\n",
        "classifier = SVC(kernel='linear', random_state=42)\n",
        "classifier.fit(X_train, y_train)\n",
        "\n",
        "# Make predictions on the test set\n",
        "y_pred = classifier.predict(X_test)"
      ],
      "metadata": {
        "id": "_rX7e6OyQqMW"
      },
      "execution_count": null,
      "outputs": []
    },
    {
      "cell_type": "code",
      "source": [
        "# Only add misclassified instances to a new list\n",
        "\n",
        "# Loop through the data and add correctly classified rows to a list\n",
        "misclassified_data = []\n",
        "\n",
        "for i in range(len(X_test)):\n",
        "    if y_test[i] != y_pred[i]:\n",
        "        misclassified_data.append((X_test[i], y_test[i]))\n",
        "\n",
        "misclassified_data"
      ],
      "metadata": {
        "colab": {
          "base_uri": "https://localhost:8080/"
        },
        "id": "NsUADhETQvcA",
        "outputId": "90406500-20ab-46b0-d10a-c1d5f4b7ba24"
      },
      "execution_count": null,
      "outputs": [
        {
          "output_type": "execute_result",
          "data": {
            "text/plain": [
              "[(array([ 0.16451511, -0.38383538,  0.57212572, -0.50499976,  0.36080209,\n",
              "         -0.92793647, -0.66985931,  2.04225784,  0.27598449,  1.42747822]),\n",
              "  0),\n",
              " (array([ 1.92418868,  2.8212828 ,  0.80425627,  1.24720468,  1.81907914,\n",
              "          1.63973165,  4.55981909,  0.64265673, -1.29470518, -2.63876677]),\n",
              "  0),\n",
              " (array([ 1.93893246,  1.85237273, -0.36356204, -1.78003996,  1.94211163,\n",
              "         -0.72864596,  0.49785062, -1.08487878, -1.69349909,  1.97531423]),\n",
              "  1),\n",
              " (array([ 0.81464654,  1.87091519,  0.22650535, -0.42633922,  0.14788824,\n",
              "          0.48660587,  0.46576246,  0.46005434, -1.99508047, -1.03431896]),\n",
              "  0),\n",
              " (array([-0.7441206 , -0.1660458 ,  0.0552561 , -1.62385894,  1.00775365,\n",
              "         -1.30471297, -1.56555072, -0.48414713,  1.927813  ,  2.12633032]),\n",
              "  1),\n",
              " (array([ 1.78796655, -0.48391738, -1.18384264, -0.4064744 ,  0.73391788,\n",
              "         -0.31168967,  0.6396662 , -0.93644605, -0.03255022,  2.14965924]),\n",
              "  0),\n",
              " (array([ 0.26359651, -1.51824297, -0.7790524 , -2.08280932,  2.11393688,\n",
              "         -1.43050623, -0.83417809,  0.06116257,  0.22505789,  4.72987665]),\n",
              "  1),\n",
              " (array([-1.72163052, -2.22896228, -2.32563168,  0.50707536,  3.46962908,\n",
              "         -1.87269534,  1.674083  , -0.46655497, -0.37979424,  2.7896169 ]),\n",
              "  1),\n",
              " (array([ 2.28959543,  0.63059454, -1.65669252, -0.1778701 ,  2.08149681,\n",
              "          0.85547492,  3.01817218, -0.73480371,  1.54934093,  1.18950727]),\n",
              "  0),\n",
              " (array([ 1.61609292,  1.37520667, -0.47327615,  0.33462936,  1.22108177,\n",
              "          0.31978672,  2.2010775 ,  0.44373929,  0.16937505, -0.34334639]),\n",
              "  0),\n",
              " (array([ 1.45816903, -0.72942797, -0.46674581, -1.34112671,  0.46631153,\n",
              "         -0.47712829, -0.63783025,  0.45108821, -3.53885773,  2.9722253 ]),\n",
              "  0),\n",
              " (array([ 2.29349201, -0.23635538,  0.21522073, -0.70030565,  1.67376646,\n",
              "         -0.1200001 ,  1.52617108, -1.12623821, -0.41517528,  2.71204268]),\n",
              "  0),\n",
              " (array([ 1.83364858,  0.66049449, -0.97976195, -0.40254306,  1.7549046 ,\n",
              "          0.27983006,  2.02965684, -0.05324257,  0.68370954,  1.2584984 ]),\n",
              "  0),\n",
              " (array([ 2.56949215, -0.2661463 , -0.37910175,  0.39572427,  1.96906148,\n",
              "          0.57758371,  3.26211283, -0.38259338, -0.05605557,  1.73047172]),\n",
              "  0),\n",
              " (array([ 0.45821971,  0.51486386, -1.25031358, -0.69590294, -0.21587394,\n",
              "          0.52745917, -0.2852771 , -1.11150538, -0.09547264,  0.0589117 ]),\n",
              "  0),\n",
              " (array([-1.18660302, -1.41459786, -0.12151968, -1.44070926,  1.6302829 ,\n",
              "         -2.0346319 , -1.53745631, -1.42146469, -0.02833985,  3.41393228]),\n",
              "  1),\n",
              " (array([-0.71916725, -0.10340752,  0.19490721,  1.10217561, -0.7465228 ,\n",
              "          2.47356649,  1.5924911 ,  1.52742939, -0.93088524, -2.66314644]),\n",
              "  1),\n",
              " (array([ 1.09335798, -0.11538401, -0.33199446, -1.49487061,  2.47700014,\n",
              "         -1.54246525,  0.30140564,  1.3213162 , -0.20758435,  3.60644144]),\n",
              "  1),\n",
              " (array([ 0.11590163, -2.26719728, -0.61811143,  0.25967005,  5.94327219,\n",
              "         -1.73683959,  4.34180376,  0.27059772, -1.92068887,  4.87259496]),\n",
              "  1),\n",
              " (array([ 2.04693737, -1.45778913,  0.85699624, -1.60834187,  1.11439173,\n",
              "         -2.2270836 , -1.24772904, -0.41438979,  0.18379937,  5.21611015]),\n",
              "  0),\n",
              " (array([ 4.10744399, -3.34464986,  1.99386294, -0.51492095,  2.03395845,\n",
              "         -3.38926254,  0.30991538,  0.17380116, -0.08485904,  7.93394423]),\n",
              "  0),\n",
              " (array([ 1.07158215, -0.48764846,  0.90266029, -1.36831707, -0.56003549,\n",
              "          2.20873514, -0.01324189,  0.73572131,  0.03400925,  0.94665816]),\n",
              "  1),\n",
              " (array([ 1.79991328,  1.25799664, -0.77653634,  0.38453469,  0.87273974,\n",
              "          0.96898233,  2.38527056,  0.97010109, -0.23002531, -0.61486815]),\n",
              "  0),\n",
              " (array([ 1.63836865, -0.1736689 , -0.05936745, -0.35071715,  0.92718479,\n",
              "          0.59394113,  1.40208218, -0.35127204, -1.61994213,  1.39798358]),\n",
              "  0),\n",
              " (array([ 1.84429541,  0.4839725 ,  1.19853263, -0.66079564,  1.45940657,\n",
              "         -0.38086723,  1.11857868,  0.19163196,  1.05802239,  1.83948269]),\n",
              "  0),\n",
              " (array([ 1.49321377,  0.29564747,  0.80558047, -1.86585132,  2.88328509,\n",
              "         -0.33675584,  1.25277061, -0.94412756, -1.7602625 ,  3.3644354 ]),\n",
              "  1),\n",
              " (array([ 1.4667239 ,  1.68348286, -1.02492807,  0.54481642,  0.12640208,\n",
              "         -0.11890253,  1.10401448,  0.07541774,  0.80559383, -1.08149926]),\n",
              "  0),\n",
              " (array([ 1.62830732, -1.00972351, -1.44355703, -1.18774466,  0.67179917,\n",
              "         -1.76858268, -1.09235447,  0.31978999,  1.16034818,  3.85597173]),\n",
              "  0),\n",
              " (array([ 0.52435075, -0.40104859, -0.54922814, -1.86644796,  0.96932425,\n",
              "         -0.74784088, -1.08094133,  0.96231658,  0.60682987,  2.94675247]),\n",
              "  1),\n",
              " (array([ 2.75899229,  0.19497709, -0.62905673, -0.1450738 ,  2.35408563,\n",
              "          0.07789083,  2.9220002 , -0.25056037,  0.45650234,  2.26095186]),\n",
              "  0),\n",
              " (array([ 1.08080611,  2.0699942 , -0.59376156,  0.76244403,  0.58632364,\n",
              "          0.91779726,  2.25909684, -0.00480519,  0.4432381 , -2.12747213]),\n",
              "  0)]"
            ]
          },
          "metadata": {},
          "execution_count": 110
        }
      ]
    },
    {
      "cell_type": "markdown",
      "source": [
        "**Task 7.1.2** Train a model only on the subset of misclassified data. Compare evaluation metrics of it with the original dataset."
      ],
      "metadata": {
        "id": "YbIT28MXRDZe"
      }
    },
    {
      "cell_type": "markdown",
      "source": [
        "## Pruning Noisy Exemplars"
      ],
      "metadata": {
        "id": "S_YkP-ynrgg2"
      }
    },
    {
      "cell_type": "code",
      "source": [
        "# Dummy SVC classifier\n",
        "\n",
        "from sklearn.datasets import make_classification\n",
        "from sklearn.model_selection import train_test_split\n",
        "from sklearn.svm import SVC\n",
        "from sklearn.metrics import accuracy_score\n",
        "\n",
        "# Generate dummy data\n",
        "X, y = make_classification(n_samples=1000, n_features=10, n_informative=5, n_clusters_per_class=2, random_state=42)\n",
        "\n",
        "# Split the data into training and testing sets\n",
        "X_train, X_test, y_train, y_test = train_test_split(X, y, test_size=0.2, random_state=42)\n",
        "\n",
        "# Train a Support Vector Machine classifier\n",
        "classifier = SVC(kernel='linear', random_state=42)\n",
        "classifier.fit(X_train, y_train)\n",
        "\n",
        "# Make predictions on the test set\n",
        "y_pred = classifier.predict(X_test)"
      ],
      "metadata": {
        "id": "Lmjhx-anN2aU"
      },
      "execution_count": null,
      "outputs": []
    },
    {
      "cell_type": "code",
      "source": [
        "# Only add correctly classified instances\n",
        "\n",
        "# Loop through the data and add correctly classified rows to a list\n",
        "correctly_classified_data = []\n",
        "\n",
        "for i in range(len(X_test)):\n",
        "    if y_test[i] == y_pred[i]:\n",
        "        correctly_classified_data.append((X_test[i], y_test[i]))\n",
        "\n",
        "# Print the correctly classified data\n",
        "print(\"\\nCorrectly classified data:\")\n",
        "for data_point in correctly_classified_data:\n",
        "    print(f\"Features: {data_point[0]}, True Label: {data_point[1]}\")"
      ],
      "metadata": {
        "colab": {
          "base_uri": "https://localhost:8080/"
        },
        "id": "Kx7rY_5AN79F",
        "outputId": "ca95e31e-29d5-4e78-d897-9874dab6afbf"
      },
      "execution_count": null,
      "outputs": [
        {
          "output_type": "stream",
          "name": "stdout",
          "text": [
            "\n",
            "Correctly classified data:\n",
            "Features: [ 0.5378166   3.04473816 -0.86943275 -0.39387338  1.38778695  2.54467197\n",
            "  2.89093355  0.39856407  1.66701271 -2.74680967], True Label: 0\n",
            "Features: [ 1.17973229 -1.02175785 -0.01786658 -1.3618804  -1.22224382  0.29348953\n",
            " -1.80166455  1.19827604 -1.31477345  2.11574554], True Label: 1\n",
            "Features: [ 0.12080215  0.05518365  0.09293023 -2.94773011  0.11233761  0.35861598\n",
            " -2.19223012 -0.4286748   0.33736307  2.42252899], True Label: 0\n",
            "Features: [-2.29406671 -2.15676964  0.75880093  0.39214952  3.64558143  0.5103278\n",
            "  3.04138398  1.5749487   0.49462464  1.47917748], True Label: 0\n",
            "Features: [ 1.08886291  1.83506393 -0.4700715  -0.5677211   1.10867507  0.25247179\n",
            "  1.1434596   0.35140667  1.11162215 -0.26872452], True Label: 0\n",
            "Features: [ 0.63701621  1.09821927 -0.38187934 -0.96997451  0.79037445  0.80506646\n",
            "  0.65388853  1.21696886 -0.83953924  0.11651484], True Label: 0\n",
            "Features: [-0.91213648 -0.45535477 -0.36389379 -1.38009834  0.21566169  1.31679045\n",
            " -0.50703276  1.4704323   0.70227643  0.57380588], True Label: 0\n",
            "Features: [-1.94924340e+00  1.07732491e+00  9.75712538e-01  3.09376173e+00\n",
            " -1.81909458e+00  3.33612730e+00  2.59735642e+00 -5.27559711e-03\n",
            "  2.20418617e+00 -6.87832544e+00], True Label: 1\n",
            "Features: [ 1.49489139 -0.71372017  0.51906954 -2.18501145 -1.4755518  -0.25477792\n",
            " -2.9620502   1.70896405  2.98632938  2.8767545 ], True Label: 1\n",
            "Features: [ 1.15430693  0.20025946 -1.08724034 -0.57335665 -0.60851458  0.52627644\n",
            " -0.33615461  0.69063057 -0.78630405  0.45865044], True Label: 1\n",
            "Features: [ 1.43654173 -1.12403299  0.82223218 -0.69910484 -1.55624553  0.44886016\n",
            " -1.35601151  2.0905299  -1.58360793  1.57785518], True Label: 1\n",
            "Features: [ 0.6813526  -0.68862502  0.86844431  0.46977513  2.16160626 -0.70001937\n",
            "  2.07468514 -0.04809742 -0.55826488  1.70110371], True Label: 1\n",
            "Features: [ 0.20335952 -1.09265198 -0.5147917  -0.21775138  3.22353919 -2.14568472\n",
            "  1.34868477  0.72127813  1.97310487  3.46217019], True Label: 1\n",
            "Features: [-0.3145475  -1.43037498 -0.27464485 -0.03603285  2.31776601 -0.09393581\n",
            "  1.78216804 -1.0337358   1.71416436  2.04160159], True Label: 0\n",
            "Features: [ 0.32539025 -1.14135884 -0.12399297 -0.04983084  2.69750774 -1.96355817\n",
            "  1.17058347  0.56618694  1.30606146  3.14599426], True Label: 1\n",
            "Features: [-0.36489025  0.34345953  0.09427929  3.49079116 -2.17741779  0.65808875\n",
            "  1.39668998  1.21236812  1.01344576 -4.61373732], True Label: 1\n",
            "Features: [ 3.32238325  1.36853063 -1.68188036 -0.68441992 -0.36477115  3.20448419\n",
            "  2.22852187  0.61706304 -1.17954106 -0.48165678], True Label: 1\n",
            "Features: [ 0.39375409  0.56166153 -0.00350573  0.04192278  1.15945123  2.04773847\n",
            "  2.51990376 -0.27935328 -0.49895112 -0.8441584 ], True Label: 0\n",
            "Features: [-2.07940923 -2.47240687 -0.08504434 -0.37109836  3.02113153  0.20479445\n",
            "  1.67175908  1.07057947 -1.50608885  2.43909901], True Label: 0\n",
            "Features: [-2.2441462  -2.01973329  0.18441657 -2.0306235   0.70819784  1.01297374\n",
            " -1.35895056 -1.87397008 -1.58868813  2.13840349], True Label: 0\n",
            "Features: [ 0.77625832 -0.07659466  0.49316983 -1.75947191  0.4390264   4.41456454\n",
            "  1.85607716  1.14971533  0.07319863  0.10829567], True Label: 0\n",
            "Features: [-3.54705398 -2.70475245  1.69232972 -0.90695818  1.48088926 -2.34454585\n",
            " -2.24530336  1.18764114 -1.82039805  2.93355357], True Label: 0\n",
            "Features: [-1.38078736  1.07350441  0.05138541 -3.52677242  0.09673478  3.06989942\n",
            " -1.41664999  0.6787426  -1.27451911 -0.04919161], True Label: 0\n",
            "Features: [ 0.4542765   0.35778551 -1.00812996 -1.22125284 -1.83067192 -0.09071983\n",
            " -2.58903249 -0.21960209 -0.19692572  0.33349827], True Label: 1\n",
            "Features: [ 1.16647919  0.27512923 -1.02213624  0.76473747  2.96549324 -0.22704147\n",
            "  3.57364857 -0.91962694  0.59452613  0.92891644], True Label: 1\n",
            "Features: [ 0.04802164  1.81424804  0.97384626 -1.46314915  0.06824888  1.44360854\n",
            " -0.15608937 -0.34670953 -1.50046771 -0.97539239], True Label: 0\n",
            "Features: [-1.29318295 -0.54353375  0.43782377 -0.35965719  1.05516505  0.32949009\n",
            "  0.39018342  2.08541062  0.87044917  0.343243  ], True Label: 0\n",
            "Features: [-1.91683825 -2.28200726  0.23065793 -1.89052157  1.06852623  0.90095125\n",
            " -0.90029108 -0.40942257 -3.3475506   2.61173855], True Label: 0\n",
            "Features: [ 0.3762293   3.33088189  1.77070565 -1.04119717  1.8455182   3.9696101\n",
            "  3.59827483  0.67262576  0.66603457 -3.02204067], True Label: 0\n",
            "Features: [-1.90562858  0.83114909 -0.09662954  5.44201867 -2.49917032  1.60390355\n",
            "  2.94132691 -0.71522095  0.654128   -8.10261379], True Label: 1\n",
            "Features: [-3.80487368 -2.75566887  0.48571584 -2.12421181  0.20289324 -1.9777969\n",
            " -4.30593232  1.72928968  0.98404145  3.2412059 ], True Label: 0\n",
            "Features: [ 0.81205059  1.09487674  0.30556438 -0.98027534  0.99893216  2.76048171\n",
            "  2.10527316 -1.57391421 -0.85773888 -0.60793071], True Label: 0\n",
            "Features: [ 0.75060889 -0.08928507  0.76343818 -0.86307722 -1.40672517  0.27313396\n",
            " -1.61140396 -0.79286361  1.27366505  0.57028105], True Label: 1\n",
            "Features: [ 1.45064037  0.62003829  0.16781324 -0.24751029  1.28103008  1.40222576\n",
            "  2.31399412 -0.79632665 -0.2693521   0.26023484], True Label: 0\n",
            "Features: [ 2.80076038e+00  9.77355618e-01 -1.03247897e+00 -2.51660197e-03\n",
            " -4.67626533e-01  1.34484793e+00  1.37510666e+00  1.48229949e+00\n",
            "  8.29205593e-02 -1.72934269e-01], True Label: 1\n",
            "Features: [ 1.66863856 -1.46581189 -0.37274224 -0.43079668 -0.5845751   0.28181073\n",
            " -0.30774839 -0.12369319 -2.27756261  2.21411488], True Label: 1\n",
            "Features: [ 0.834784    0.66233575 -0.31949007 -2.061473    1.45131968  0.94428267\n",
            "  0.41561209  0.58187396  1.3333873   1.72838575], True Label: 0\n",
            "Features: [-3.58003347 -2.08567031  1.34202275 -0.72386337  1.20716203 -2.37218814\n",
            " -2.31249474  0.87529005  0.61178705  2.11913459], True Label: 0\n",
            "Features: [-0.07842477  0.24384745 -0.48735737 -0.16447136  0.72729613  0.36377733\n",
            "  0.73046074 -0.49529607  0.204516   -0.015433  ], True Label: 0\n",
            "Features: [-0.18301789 -1.18502391  0.4109902  -2.57055204 -0.733092    1.27419634\n",
            " -2.24384464 -0.69417674 -0.71524852  2.30022049], True Label: 0\n",
            "Features: [ 2.11837791  1.09652113  0.50279729 -1.65612921 -3.88928419  0.2596429\n",
            " -4.01404097 -0.52277495  0.3195541   0.00782723], True Label: 1\n",
            "Features: [-0.53544362 -0.72868274  0.87913832 -1.32979433  1.14223615  3.29881769\n",
            "  1.70113615 -1.25801991 -0.22380305  0.39971125], True Label: 0\n",
            "Features: [-1.23652769 -0.9762974  -0.78467539 -0.92035047  1.27227414  1.33879353\n",
            "  0.71196756 -0.04550186 -1.98399668  0.85243361], True Label: 0\n",
            "Features: [ 0.11589907  1.06995768  0.87818241 -2.68448393  1.67460575  3.53407179\n",
            "  1.49245932 -0.67441431  0.58679738  0.39973313], True Label: 0\n",
            "Features: [ 0.81639853  1.93226333  0.02251297 -1.2732468   1.51395885 -1.45760694\n",
            " -0.24913156 -1.51200631  0.82694346  1.04982602], True Label: 1\n",
            "Features: [-1.03238746 -0.70870224 -0.97777821 -0.93261669  1.26835532  2.41643034\n",
            "  1.4539864  -1.25160359 -0.79406226  0.23236768], True Label: 0\n",
            "Features: [-1.11289025 -0.85208994 -0.50146942 -0.49307223  1.44667336  0.79722311\n",
            "  0.95057608 -0.23893182 -1.65191818  0.75699699], True Label: 0\n",
            "Features: [ 4.06252507  1.04172547  1.73443309 -1.27997302 -0.58637119 -0.92356784\n",
            " -0.84996232  0.11758168  0.25695744  2.54731149], True Label: 1\n",
            "Features: [-2.44129013 -1.62630018  0.9952904  -1.80239868  0.1745079  -0.20388725\n",
            " -2.4301694  -0.06122938 -0.4996354   1.8533685 ], True Label: 0\n",
            "Features: [ 1.2398913   0.48739688  0.37709022 -1.15184742  1.53979869  0.83671085\n",
            "  1.3322699  -1.07821817 -1.03014227  1.40131337], True Label: 0\n",
            "Features: [ 2.29497434  2.31154157  0.17557206  2.06861052 -0.87149657  0.20834922\n",
            "  2.04445761  0.79834805  0.65930812 -3.03080911], True Label: 1\n",
            "Features: [ 1.57719066  0.47484184  0.31364037 -1.07149875  1.58153612  0.05337685\n",
            "  1.05711244  0.29100686 -1.76444817  1.90207406], True Label: 0\n",
            "Features: [-0.77992613  3.2654361  -1.61116946 -2.21782522  0.74166828  2.96985502\n",
            "  0.59309101  0.36098608  0.96810266 -2.5161637 ], True Label: 0\n",
            "Features: [ 8.94553316e-01  2.93207016e+00 -1.45668144e+00  1.88505488e-03\n",
            "  1.56038698e+00  2.42542211e+00  3.41921899e+00 -2.40623815e+00\n",
            " -1.70746639e-01 -2.67693918e+00], True Label: 0\n",
            "Features: [ 0.80670044 -1.02289714 -0.88449282 -2.3919792   0.67730351  1.05144758\n",
            " -0.63663202 -0.33984504  0.50179117  3.1581523 ], True Label: 0\n",
            "Features: [-0.85266137 -0.45237214  0.82610984 -0.76533497 -1.21931233 -1.54628137\n",
            " -3.02586613  0.6810396   1.88400114  0.86893902], True Label: 1\n",
            "Features: [-0.53421293 -0.30355689 -1.2098122  -0.51336393  0.73570785  0.29718794\n",
            "  0.2079499   2.10516138  0.10025649  0.56224909], True Label: 0\n",
            "Features: [ 1.67075984  2.32327493  0.72334822  0.10001742 -0.67108375  0.65912779\n",
            "  0.59998532  0.68706707  0.91803147 -1.81746827], True Label: 1\n",
            "Features: [ 0.77310787 -0.49361804  0.86515655  1.48678082 -2.25770215  1.42740516\n",
            "  0.35991969  1.29054823 -1.43294908 -1.92865256], True Label: 1\n",
            "Features: [-0.85571978  0.08418413 -0.34929547  2.91024498 -1.62627531  2.08924529\n",
            "  2.10412499 -0.7228852  -0.90596514 -4.6048    ], True Label: 1\n",
            "Features: [ 1.02226332  1.72160673  1.31861793  0.22374122  0.69973595  1.43732741\n",
            "  2.17184048  0.07486131  0.54287335 -1.58495501], True Label: 0\n",
            "Features: [-0.94321515 -1.35991874  1.73969741 -2.04617039  0.26283329  1.49288874\n",
            " -1.01197321  2.50749524  0.09885945  1.86961381], True Label: 0\n",
            "Features: [ 0.71346471 -1.19169856  0.42489815 -0.15148117  1.06811224 -0.68354037\n",
            "  0.53594838  1.43929348 -0.12443078  2.28455647], True Label: 1\n",
            "Features: [-0.68495044  2.21525339 -1.47646364 -2.54949871  0.31776201  2.5236621\n",
            " -0.40332671  1.09210296 -1.12465504 -1.19756773], True Label: 0\n",
            "Features: [ 6.45310920e-01  2.64176732e+00 -7.84829903e-01  2.67016018e-03\n",
            "  4.53411686e-01  2.17494725e+00  2.16940284e+00 -6.16633560e-01\n",
            " -5.74796418e-01 -2.84802488e+00], True Label: 0\n",
            "Features: [ 3.05456472 -0.29959379  1.49846732 -1.55503373  0.00861475 -0.26485469\n",
            " -0.56503106 -0.78570022  1.5227113   3.35528944], True Label: 1\n",
            "Features: [ 0.52048889 -1.06965207 -1.75784345  0.11949596  2.12004853 -0.63302134\n",
            "  1.69518639  0.0873287  -1.1828155   2.20855799], True Label: 1\n",
            "Features: [ 1.02233882 -0.33683675  0.97637367 -0.89314587  1.65891319 -1.98954442\n",
            " -0.22837569 -0.9858105   1.04848487  3.15164667], True Label: 1\n",
            "Features: [ 1.33278581  0.36421737  0.29674848 -1.24710291 -0.99557867 -0.18903389\n",
            " -1.64513988  0.34251897 -0.91150997  1.17438071], True Label: 1\n",
            "Features: [ 0.90331059  3.89581876 -0.90680773  0.45686685  1.70031346  3.28941234\n",
            "  4.55422017  0.62761121 -0.89037706 -4.26883245], True Label: 0\n",
            "Features: [ 0.54532939 -1.40031511 -0.52806111 -0.73791467  2.64393899 -1.39573563\n",
            "  0.92864915 -0.56079447  0.41818896  3.80108284], True Label: 1\n",
            "Features: [ 0.73516033  0.42927444 -0.92699439 -2.17551298  0.8248236   0.374716\n",
            " -0.64975451 -0.74984821  0.21757954  2.01157617], True Label: 0\n",
            "Features: [ 2.05310355  0.26307407  0.9933345   0.9492099  -0.84276322  1.85874557\n",
            "  1.89403279 -2.07117988 -0.34306254 -1.13147344], True Label: 1\n",
            "Features: [-0.64408565 -0.71234309 -0.23476535 -2.74289997 -1.44858398  0.92917152\n",
            " -3.36020607  0.65383322  0.85268038  1.67605786], True Label: 0\n",
            "Features: [-1.29178867 -1.25860758 -0.15582106 -1.72066616  0.04831083 -0.07477623\n",
            " -2.00090397 -0.22973533 -1.38862201  1.96166538], True Label: 0\n",
            "Features: [ 1.81967774 -3.5928405  -0.49052365 -1.8278222   2.31984901 -1.09642\n",
            "  0.1134976   2.71361978 -0.60398586  7.10634793], True Label: 1\n",
            "Features: [ 1.06317997 -0.13460626 -1.9792983  -0.04090866 -1.43349191  2.80292883\n",
            "  0.74944292  1.18259436 -1.80817792 -1.11261693], True Label: 1\n",
            "Features: [ 1.70796399 -0.02643242 -0.65031568 -0.74661461  1.80989973  0.84450218\n",
            "  2.04001845 -0.93711705 -0.32516273  1.85645315], True Label: 0\n",
            "Features: [-0.67887643 -0.91417873  0.59203683 -2.37951782 -0.58835496  1.46692905\n",
            " -1.9640336   1.03410999  0.9834819   1.59559759], True Label: 0\n",
            "Features: [ 1.33741286  0.95549677  0.57238523 -0.05847636 -0.37031816  0.65865711\n",
            "  0.52248412 -1.64897584  0.227767   -0.53041652], True Label: 1\n",
            "Features: [ 1.91294674  1.34852909 -0.09441826 -0.42380508 -0.28471277 -0.56920989\n",
            " -0.27090841 -0.76574532 -0.65721171  0.34191193], True Label: 1\n",
            "Features: [ 1.10063205 -0.20064401 -2.05287442 -2.30950509 -0.17610043 -0.79079345\n",
            " -2.32308569 -1.51105403 -0.87463981  3.04968399], True Label: 1\n",
            "Features: [ 4.72404577  2.32730647 -1.01437496 -2.33817826  0.40543768 -1.17073197\n",
            " -0.72530235  0.87845357  0.55133422  3.14915022], True Label: 1\n",
            "Features: [ 3.20362416 -4.08024598  0.59522777 -0.70018454  1.22990584 -0.33497784\n",
            "  0.98840346  0.56751346  0.5400242   6.54959715], True Label: 1\n",
            "Features: [-2.11085288 -1.19962274 -0.38851602 -1.95547391  0.25862226  1.38497733\n",
            " -1.36087913  0.86387166 -0.24307806  1.07565636], True Label: 0\n",
            "Features: [ 1.51745182 -2.07804459 -1.58070005 -0.27053411  2.38609075 -0.16558708\n",
            "  2.12464723  0.12647568  0.63229921  3.85355397], True Label: 1\n",
            "Features: [ 0.0920188   1.2273944  -2.88432437  3.18425824 -0.99731005  0.75179032\n",
            "  2.45994162 -0.46306394  0.01682507 -4.497379  ], True Label: 1\n",
            "Features: [-0.51620339  0.8787083  -0.32529892 -2.34249094 -0.56610894  0.8747846\n",
            " -2.09270817  0.4861686   0.68687522  0.33905103], True Label: 0\n",
            "Features: [-1.45485896 -1.70196922 -0.09020718 -1.6583183   2.01476659  4.038748\n",
            "  2.29540012  0.86357136 -0.23399757  1.03911266], True Label: 0\n",
            "Features: [ 2.77181538  1.33017686 -0.52481283 -1.33552426 -0.35891874  0.72486005\n",
            " -0.05291203 -0.668269   -0.92421896  0.97088475], True Label: 1\n",
            "Features: [-0.79016492  0.29117297  3.24013915  3.68451996 -2.05138205  1.02745273\n",
            "  1.7697446  -0.21691499 -1.34005689 -5.0846202 ], True Label: 1\n",
            "Features: [ 0.8573977   0.58926008 -0.01241322 -1.5451482   1.07840852  0.91953206\n",
            "  0.5152524   0.64503786 -0.33408816  1.23463659], True Label: 0\n",
            "Features: [ 1.44421016 -1.21725103  1.16040183 -1.54167085 -0.55592382 -0.286101\n",
            " -1.65206005  0.91425954 -1.10325071  3.10177164], True Label: 1\n",
            "Features: [ 2.00397663 -1.09727171 -2.26314679 -1.8634378   2.83021507 -0.89856663\n",
            "  0.91241214 -0.46738608  0.20838231  5.11401825], True Label: 1\n",
            "Features: [-0.95417644 -1.82361487  0.34669763 -1.20000192  1.48333805  0.4667805\n",
            "  0.1400474   1.08482774  0.65893535  2.47962423], True Label: 0\n",
            "Features: [-1.42323297 -2.65198393 -0.08507317 -1.97894101  1.82592469  2.45300605\n",
            "  0.79732794  0.23125775 -0.1205082   2.84152314], True Label: 0\n",
            "Features: [-0.80292371  0.75407922 -0.25215347 -3.9224706   0.42107748  2.04659566\n",
            " -1.9482734   0.39822095 -0.26373504  1.47799248], True Label: 0\n",
            "Features: [ 0.64149399  1.193086    0.16343176 -1.6493465   0.87193072  0.90320816\n",
            "  0.20713513  0.72551614 -0.72732122  0.60287487], True Label: 0\n",
            "Features: [-1.38265536  0.34288638 -0.59342061 -1.17166356 -1.04847779 -0.52766287\n",
            " -2.69751128  0.09674391  0.15434423 -0.18056361], True Label: 0\n",
            "Features: [-0.50125378 -0.5167838  -0.15742133  1.68698562 -1.25117645  2.13021339\n",
            "  1.47061383  1.12634753  1.64538183 -2.71028893], True Label: 1\n",
            "Features: [ 1.13629951 -2.52744096  0.35300618 -1.4885875   0.20697353 -0.52253642\n",
            " -1.26566165 -0.49181949  0.97412337  4.45090036], True Label: 1\n",
            "Features: [-3.37499713 -2.41230395 -1.62376835 -0.84613133  2.27696445  0.10198432\n",
            "  0.12271156 -1.08697525 -1.77024418  1.87422181], True Label: 0\n",
            "Features: [-2.0541312  -2.45577827 -0.40208148 -0.86546766  2.64718096  1.06917982\n",
            "  1.45466931 -0.8305123   1.45965483  2.32221989], True Label: 0\n",
            "Features: [-0.3346055   1.68000983  0.15303392 -1.54446603 -1.91668586 -0.31126581\n",
            " -3.2325911  -1.14259527 -0.89554588 -0.91466189], True Label: 1\n",
            "Features: [ 1.36819218  1.68078941 -0.76738081  1.81031982 -1.29564234 -0.24812647\n",
            "  0.81432567  2.39191993 -0.3863045  -2.68784489], True Label: 1\n",
            "Features: [-0.80608179 -1.56202581 -0.11129291 -0.44669849  2.15167269  0.44858942\n",
            "  1.44924431  2.97905496 -0.08825146  1.93605767], True Label: 0\n",
            "Features: [-0.8844313   0.13904016 -1.4524984   2.12580292 -2.96176943  2.14785842\n",
            "  0.25608774  0.40146414 -0.38776178 -4.51935815], True Label: 1\n",
            "Features: [-1.39041723 -1.58182498 -0.49549214 -1.8123417   1.0344568   2.26823974\n",
            "  0.20840134  1.90502308  0.79680483  1.55538448], True Label: 0\n",
            "Features: [-3.47317627 -2.30769002  1.58900576 -2.01706469  0.4299478  -0.43352042\n",
            " -2.90820467  0.01957676 -1.07990984  2.29560167], True Label: 0\n",
            "Features: [-0.08279502 -0.73031101 -0.00896633 -0.83122695  1.54194766  2.63707685\n",
            "  2.22334699 -0.02236886 -0.08102384  0.6698177 ], True Label: 0\n",
            "Features: [-1.8425476  -1.35914979  1.05717913 -2.86646674 -1.53600455 -0.45212202\n",
            " -4.83429676  0.32843299 -1.36852014  2.32721154], True Label: 0\n",
            "Features: [ 1.47144722  2.70244879  0.42513325  3.10147977 -0.7927229  -0.15151702\n",
            "  2.55724136  0.6164221  -0.40568838 -4.50799937], True Label: 1\n",
            "Features: [-0.90630336 -0.52716176 -1.51178715 -1.69716553 -0.58513067  0.16004568\n",
            " -2.22524922  1.48088629 -0.93415421  1.15167836], True Label: 0\n",
            "Features: [ 0.60990824  2.39092639 -0.03637662 -0.00325465  1.41565638 -1.14414616\n",
            "  0.93007486 -0.82352262  0.21861149 -0.7408507 ], True Label: 1\n",
            "Features: [ 0.84019998  0.87306277  0.35820663  0.92741627 -1.2040445  -0.9340804\n",
            " -0.52555432  2.03500911 -0.64031876 -1.14017751], True Label: 1\n",
            "Features: [ 0.99726588  1.0974018   0.91493339 -0.78139024  1.25419496  1.37728517\n",
            "  1.70410236  0.33653838 -0.33037606  0.05434304], True Label: 0\n",
            "Features: [ 1.25598828 -3.14096117  0.21876474 -1.17696841 -0.71159836 -0.8546195\n",
            " -2.03547989 -2.06763055  0.10045295  4.60477977], True Label: 1\n",
            "Features: [ 0.40418879  3.76178482 -0.53217246 -0.48335022  2.93228571  5.10468051\n",
            "  5.8067415  -0.58715416  0.08595739 -3.99156468], True Label: 0\n",
            "Features: [-0.34488823 -1.7896192  -1.71718913 -0.92850491  2.51212042  2.96714972\n",
            "  3.05176585 -0.70175044  0.25431563  1.76373245], True Label: 0\n",
            "Features: [ 1.5256663  -1.17446846  0.80634841 -1.21914767  2.37224054  5.06214732\n",
            "  4.61676421 -0.43064925 -0.40666872  1.43883121], True Label: 0\n",
            "Features: [-1.33798344  2.17702058  0.02346932 -1.12016819 -1.22729631 -1.68586719\n",
            " -3.38084644  1.11613429  1.31478849 -1.36131125], True Label: 1\n",
            "Features: [-1.11370753 -1.60791432 -0.08390186 -1.06980872  1.57613727  1.01807407\n",
            "  0.64582645 -1.65241239 -0.29813058  1.86979047], True Label: 0\n",
            "Features: [ 1.38762995  1.88064661 -1.34312527  0.69446354 -1.13705034  1.30585798\n",
            "  0.97744231 -1.92231411  0.71119245 -2.55868761], True Label: 1\n",
            "Features: [ 1.42235523  0.92869985 -0.78680666 -0.7627929   1.40636681  0.44894959\n",
            "  1.39996628 -0.10423798 -1.21918583  0.90213506], True Label: 0\n",
            "Features: [ 1.99568087  1.61464788 -2.32636156 -0.98539643  0.21785902 -0.64286241\n",
            " -0.30676324 -1.01652436 -0.21610437  0.85289728], True Label: 1\n",
            "Features: [-1.48873944 -1.15169055 -0.12065294 -1.93114091  0.22840047  1.29858157\n",
            " -1.22052169 -0.08092495  0.79838647  1.37236448], True Label: 0\n",
            "Features: [-4.26981582 -1.2462719  -0.49627753 -1.81346265 -1.03937689 -1.91109973\n",
            " -5.14146748  0.30360427  0.71453069  0.89105837], True Label: 0\n",
            "Features: [ 1.58996872 -2.4825268  -1.143989   -0.73429809  0.59227619  0.03627449\n",
            "  0.22979118  0.04175097 -2.8166108   3.88893806], True Label: 1\n",
            "Features: [ 0.78655992  0.63415678  0.90881241 -1.59760042  1.25436395  0.40033656\n",
            "  0.28527661 -0.7231313   0.20805503  1.50837179], True Label: 0\n",
            "Features: [ 0.92688294 -1.05372639 -0.94720301 -1.75665531  1.15112264 -1.74471745\n",
            " -1.36604311 -0.80139127 -0.24913925  4.17741385], True Label: 1\n",
            "Features: [ 0.06349188  0.83038076  0.35283364 -0.18100893  0.5935493   2.21387761\n",
            "  1.83809279  0.43558792 -0.19944372 -1.3552722 ], True Label: 0\n",
            "Features: [ 0.31094069 -0.69283185  1.0374611  -0.15422169  2.75374745  3.86231972\n",
            "  4.78920207  1.19033634 -0.22306981  0.14736589], True Label: 0\n",
            "Features: [-0.84652899  2.856794   -0.15437353 -1.97845321  0.99393673  4.02224855\n",
            "  1.63068702  1.08582132 -1.4104272  -2.78816383], True Label: 0\n",
            "Features: [-0.20056106  1.72035311 -0.78096971  1.73419864 -0.51079436  0.92916021\n",
            "  1.69352904  0.4725574   1.22279864 -3.74736989], True Label: 1\n",
            "Features: [-0.59917536 -0.21443001 -0.60130046 -1.2269521   0.18176375  1.67968979\n",
            " -0.06122333 -0.41234669  0.03486242  0.21376686], True Label: 0\n",
            "Features: [ 0.92172961 -1.72169116  0.87668748 -1.12858852  2.46859264  3.38722897\n",
            "  3.50599446  1.67352684  0.14153213  2.33883033], True Label: 0\n",
            "Features: [ 0.50984609  1.38869987  0.1343281   2.21215278 -0.40095007  2.31700896\n",
            "  3.27068573 -0.42670637 -1.23666297 -4.08746496], True Label: 1\n",
            "Features: [ 1.07315514 -1.33345985  0.54633171 -1.35342402  2.13072793 -0.85195439\n",
            "  0.44427384 -0.19544187  0.65186485  4.10819355], True Label: 1\n",
            "Features: [ 0.86951982 -0.95612257 -0.42160859 -2.8439248  -0.33522418 -1.89650019\n",
            " -3.74921121  0.23424404 -1.33080926  4.51113571], True Label: 1\n",
            "Features: [-2.12692004 -1.08859809 -1.17324569  2.93808234 -2.29147601  3.3771167\n",
            "  1.84248708 -1.87197091 -0.34477745 -5.10797566], True Label: 1\n",
            "Features: [-0.95297796  1.9164842  -1.43609151 -3.6144505   0.83658818  2.83501189\n",
            " -0.77558552  1.90729784 -0.74684826 -0.11130915], True Label: 0\n",
            "Features: [ 2.38366491  1.25442708  0.64170925 -2.50275165  1.07383373 -1.06480976\n",
            " -1.02336538 -0.28164738 -0.34658458  3.19749326], True Label: 1\n",
            "Features: [ 1.25133075 -0.06199863  0.32417731  0.04068142 -0.40824097  0.31846113\n",
            "  0.25783268  0.05991324 -0.08672225  0.38710402], True Label: 1\n",
            "Features: [ 1.64384021 -1.96471515 -0.4998396  -1.32394587  1.48943326 -1.08969127\n",
            " -0.12169383 -1.68089508  2.19360262  4.81985206], True Label: 1\n",
            "Features: [-0.11514408  0.19232471  1.04625721 -0.72808025  0.48190492  1.72154775\n",
            "  0.8512232  -0.50721555 -0.61160158 -0.2262993 ], True Label: 0\n",
            "Features: [-0.61135786 -2.25085978  0.23069732 -0.95132912  2.62626954  1.86486299\n",
            "  2.32841786  0.0161209  -1.19202634  2.6054006 ], True Label: 0\n",
            "Features: [ 2.25470224 -1.61957262 -0.33686621 -1.99064954  1.24823757 -2.02552467\n",
            " -1.28060416  0.94305145  0.59589746  5.75533265], True Label: 1\n",
            "Features: [ 0.55963821  1.77380112 -0.15865118 -1.32203178  1.79708912  2.72591702\n",
            "  2.47551063 -0.17898344 -1.37522512 -0.73951633], True Label: 0\n",
            "Features: [ 0.44065505 -0.27909062 -0.40609113 -0.69876188  1.71399626  3.91566319\n",
            "  3.4889949   0.48469078 -0.27720312 -0.09548473], True Label: 0\n",
            "Features: [-0.42620407 -1.74907959  1.79906423 -0.45558299  2.91015202 -2.33915747\n",
            "  0.49149414 -1.05538622  0.12949365  3.88793772], True Label: 1\n",
            "Features: [ 0.91679234  1.53706191 -0.44694773 -1.11211976  1.00464127  0.2687312\n",
            "  0.51055806  0.23053713  2.01807738  0.32594197], True Label: 0\n",
            "Features: [-0.9893656  -1.83190262 -0.25782938  0.83269106  4.44670193  2.12678287\n",
            "  5.5867384   0.02999424  1.09819612  1.05519645], True Label: 0\n",
            "Features: [-1.4087387  -2.0072841   0.73954521 -1.34613234  1.9307202   1.95106294\n",
            "  1.18176567  0.29056759  0.37994956  2.00426335], True Label: 0\n",
            "Features: [-0.45517329 -0.17234928  0.77002249 -0.87293256  1.12738291  2.94304357\n",
            "  1.93054065 -0.59144382  0.00396128 -0.28514598], True Label: 0\n",
            "Features: [-0.24740705  0.50142557 -0.5643881   0.73634582  2.23357752 -0.62870225\n",
            "  2.21244868  0.57510782 -0.13197764 -0.08719306], True Label: 1\n",
            "Features: [ 1.15885885  0.76323456 -0.92705009  1.2196398  -0.68204603  1.58372658\n",
            "  1.85736389 -1.60521702  0.56065252 -2.09749604], True Label: 1\n",
            "Features: [ 0.92538188 -0.24184769  0.39573546 -0.85781792 -0.66686067 -0.00975562\n",
            " -1.07539209 -0.67759243  0.31445082  1.20113534], True Label: 1\n",
            "Features: [ 0.86389604  0.93965043 -0.14990111  0.34062339 -1.28917732  2.461181\n",
            "  1.01623607 -0.49057083 -0.35845551 -2.28953913], True Label: 1\n",
            "Features: [-1.13271369 -1.69329919  0.08528407  0.53513775  3.9494233   2.13097263\n",
            "  4.84998835  1.73966525  1.70013491  0.92412378], True Label: 0\n",
            "Features: [ 3.93485167 -2.29777457 -0.08839992 -1.18292122 -0.42955501  0.50162881\n",
            " -0.03210153  0.55750382 -3.2160572   4.76290106], True Label: 1\n",
            "Features: [-0.71470869 -0.5231772  -1.86727355 -0.97868644  0.65530286  1.19932168\n",
            "  0.22005427  1.0078569   1.64632921  0.61263778], True Label: 0\n",
            "Features: [ 2.7069226   0.26221191  1.41464267 -0.3156287  -0.96378327  1.2802725\n",
            "  0.5335704  -0.06362684 -0.49961332  0.52726945], True Label: 1\n",
            "Features: [-1.95499348 -1.04442511 -0.42279885 -1.67666491 -0.13882681 -0.06663793\n",
            " -2.31878614  0.6596523  -0.79637448  1.30668881], True Label: 0\n",
            "Features: [-0.91045351  3.66512663 -0.02855198 -1.05886677  0.62341419  4.13618858\n",
            "  2.20878679 -0.00836211 -0.57761422 -4.52164295], True Label: 0\n",
            "Features: [-2.23046426 -1.35730002 -1.56049816  0.48229528  2.80235561  0.1160707\n",
            "  2.19822284 -1.38177024  0.06354005  0.59374421], True Label: 0\n",
            "Features: [-0.17952682  0.15299336 -1.72168257 -0.70447077  0.84356869  2.76306642\n",
            "  1.8217983   1.06028864 -1.62789785 -0.59445925], True Label: 0\n",
            "Features: [ 0.54391341 -1.47036747  0.9775452  -1.25314651 -1.46669607 -0.94611108\n",
            " -2.93393676  0.22011387 -0.54501973  2.56666829], True Label: 1\n",
            "Features: [ 1.49208175  1.0126672   0.64644937 -1.48977766  0.8939649  -0.82507506\n",
            " -0.45622881  0.98608389  0.279748    1.88933545], True Label: 1\n",
            "Features: [ 1.41842775  2.43556318 -1.08984359  0.64611398 -0.3003987  -0.60991474\n",
            "  0.54507539 -2.98939302 -0.05926802 -1.79410584], True Label: 1\n"
          ]
        }
      ]
    },
    {
      "cell_type": "markdown",
      "source": [
        "**Task 7.1.3** Train a model on some dataset, Compute the accuracy, Apply the given technique, Then re-compute the accuracy."
      ],
      "metadata": {
        "id": "F7_NT9eUPiu0"
      }
    },
    {
      "cell_type": "markdown",
      "source": [
        "## Generalizing Exemplars"
      ],
      "metadata": {
        "id": "iYEd4xTQr8cR"
      }
    },
    {
      "cell_type": "code",
      "source": [
        "# load data\n",
        "instances = loader.load_file(\"data/ionosphere.arff\")"
      ],
      "metadata": {
        "id": "doW61GCFtb_6"
      },
      "execution_count": null,
      "outputs": []
    },
    {
      "cell_type": "code",
      "source": [
        "instances"
      ],
      "metadata": {
        "colab": {
          "base_uri": "https://localhost:8080/"
        },
        "id": "l-zNqTG_tkWV",
        "outputId": "3820f7d9-3a3b-4840-c0fe-d9d543964ea0"
      },
      "execution_count": null,
      "outputs": [
        {
          "output_type": "execute_result",
          "data": {
            "text/plain": [
              "@relation ionosphere\n",
              "\n",
              "@attribute a01 numeric\n",
              "@attribute a02 numeric\n",
              "@attribute a03 numeric\n",
              "@attribute a04 numeric\n",
              "@attribute a05 numeric\n",
              "@attribute a06 numeric\n",
              "@attribute a07 numeric\n",
              "@attribute a08 numeric\n",
              "@attribute a09 numeric\n",
              "@attribute a10 numeric\n",
              "@attribute a11 numeric\n",
              "@attribute a12 numeric\n",
              "@attribute a13 numeric\n",
              "@attribute a14 numeric\n",
              "@attribute a15 numeric\n",
              "@attribute a16 numeric\n",
              "@attribute a17 numeric\n",
              "@attribute a18 numeric\n",
              "@attribute a19 numeric\n",
              "@attribute a20 numeric\n",
              "@attribute a21 numeric\n",
              "@attribute a22 numeric\n",
              "@attribute a23 numeric\n",
              "@attribute a24 numeric\n",
              "@attribute a25 numeric\n",
              "@attribute a26 numeric\n",
              "@attribute a27 numeric\n",
              "@attribute a28 numeric\n",
              "@attribute a29 numeric\n",
              "@attribute a30 numeric\n",
              "@attribute a31 numeric\n",
              "@attribute a32 numeric\n",
              "@attribute a33 numeric\n",
              "@attribute a34 numeric\n",
              "@attribute class {b,g}\n",
              "\n",
              "@data\n",
              "1,0,0.99539,-0.05889,0.85243,0.02306,0.83398,-0.37708,1,0.0376,0.85243,-0.17755,0.59755,-0.44945,0.60536,-0.38223,0.84356,-0.38542,0.58212,-0.32192,0.56971,-0.29674,0.36946,-0.47357,0.56811,-0.51171,0.41078,-0.46168,0.21266,-0.3409,0.42267,-0.54487,0.18641,-0.453,g\n",
              "1,0,1,-0.18829,0.93035,-0.36156,-0.10868,-0.93597,1,-0.04549,0.50874,-0.67743,0.34432,-0.69707,-0.51685,-0.97515,0.05499,-0.62237,0.33109,-1,-0.13151,-0.453,-0.18056,-0.35734,-0.20332,-0.26569,-0.20468,-0.18401,-0.1904,-0.11593,-0.16626,-0.06288,-0.13738,-0.02447,b\n",
              "1,0,1,-0.03365,1,0.00485,1,-0.12062,0.88965,0.01198,0.73082,0.05346,0.85443,0.00827,0.54591,0.00299,0.83775,-0.13644,0.75535,-0.0854,0.70887,-0.27502,0.43385,-0.12062,0.57528,-0.4022,0.58984,-0.22145,0.431,-0.17365,0.60436,-0.2418,0.56045,-0.38238,g\n",
              "1,0,1,-0.45161,1,1,0.71216,-1,0,0,0,0,0,0,-1,0.14516,0.54094,-0.3933,-1,-0.54467,-0.69975,1,0,0,1,0.90695,0.51613,1,1,-0.20099,0.25682,1,-0.32382,1,b\n",
              "1,0,1,-0.02401,0.9414,0.06531,0.92106,-0.23255,0.77152,-0.16399,0.52798,-0.20275,0.56409,-0.00712,0.34395,-0.27457,0.5294,-0.2178,0.45107,-0.17813,0.05982,-0.35575,0.02309,-0.52879,0.03286,-0.65158,0.1329,-0.53206,0.02431,-0.62197,-0.05707,-0.59573,-0.04608,-0.65697,g\n",
              "1,0,0.02337,-0.00592,-0.09924,-0.11949,-0.00763,-0.11824,0.14706,0.06637,0.03786,-0.06302,0,0,-0.04572,-0.1554,-0.00343,-0.10196,-0.11575,-0.05414,0.01838,0.03669,0.01519,0.00888,0.03513,-0.01535,-0.0324,0.09223,-0.07859,0.00732,0,0,-0.00039,0.12011,b\n",
              "1,0,0.97588,-0.10602,0.94601,-0.208,0.92806,-0.2835,0.85996,-0.27342,0.79766,-0.47929,0.78225,-0.50764,0.74628,-0.61436,0.57945,-0.68086,0.37852,-0.73641,0.36324,-0.76562,0.31898,-0.79753,0.22792,-0.81634,0.13659,-0.8251,0.04606,-0.82395,-0.04262,-0.81318,-0.13832,-0.80975,g\n",
              "0,0,0,0,0,0,1,-1,0,0,-1,-1,0,0,0,0,1,1,-1,-1,0,0,0,0,1,1,1,1,0,0,1,1,0,0,b\n",
              "1,0,0.96355,-0.07198,1,-0.14333,1,-0.21313,1,-0.36174,0.9257,-0.43569,0.9451,-0.40668,0.90392,-0.46381,0.98305,-0.35257,0.84537,-0.6602,0.75346,-0.60589,0.69637,-0.64225,0.85106,-0.6544,0.57577,-0.69712,0.25435,-0.63919,0.45114,-0.72779,0.38895,-0.7342,g\n",
              "1,0,-0.01864,-0.08459,0,0,0,0,0.1147,-0.2681,-0.45663,-0.38172,0,0,-0.33656,0.38602,-0.37133,0.15018,0.63728,0.22115,0,0,0,0,-0.14803,-0.01326,0.20645,-0.02294,0,0,0.16595,0.24086,-0.08208,0.38065,b\n",
              "1,0,1,0.06655,1,-0.18388,1,-0.2732,1,-0.43107,1,-0.41349,0.96232,-0.51874,0.90711,-0.59017,0.8923,-0.66474,0.69876,-0.70997,0.70645,-0.7632,0.63081,-0.80544,0.55867,-0.89128,0.47211,-0.865,0.40303,-0.83675,0.30996,-0.89093,0.22995,-0.89158,g\n",
              "1,0,1,-0.5421,1,-1,1,-1,1,0.36217,1,-0.41119,1,1,1,-1,1,-0.29354,1,-0.93599,1,1,1,1,1,-0.40888,1,-0.62745,1,-1,1,-1,1,-1,b\n",
              "1,0,1,-0.16316,1,-0.10169,0.99999,-0.15197,1,-0.19277,0.94055,-0.35151,0.95735,-0.29785,0.93719,-0.34412,0.94486,-0.28106,0.90137,-0.43383,0.86043,-0.47308,0.82987,-0.5122,0.8408,-0.47137,0.76224,-0.5837,0.65723,-0.68794,0.68714,-0.64537,0.64727,-0.67226,g\n",
              "1,0,1,-0.86701,1,0.2228,0.85492,-0.39896,1,-0.1209,1,0.35147,1,0.07772,1,-0.14767,1,-1,1,-1,0.61831,0.15803,1,0.62349,1,-0.17012,1,0.35924,1,-0.66494,1,0.88428,1,-0.18826,b\n",
              "1,0,1,0.0738,1,0.0342,1,-0.05563,1,0.08764,1,0.19651,1,0.20328,1,0.12785,1,0.10561,1,0.27087,1,0.44758,1,0.4175,1,0.20033,1,0.36743,0.95603,0.48641,1,0.32492,1,0.46712,g\n",
              "1,0,0.50932,-0.93996,1,0.26708,-0.0352,-1,1,-1,0.43685,-1,0,0,-1,-0.34265,-0.37681,0.03623,1,-1,0,0,0,0,-0.16253,0.92236,0.39752,0.26501,0,0,1,0.23188,0,0,b\n",
              "1,0,0.99645,0.06468,1,-0.01236,0.97811,0.02498,0.96112,0.02312,0.99274,0.07808,0.89323,0.10346,0.94212,0.05269,0.88809,0.1112,0.86104,0.08631,0.81633,0.1183,0.83668,0.14442,0.81329,0.13412,0.79476,0.13638,0.7911,0.15379,0.77122,0.1593,0.70941,0.12015,g\n",
              "0,0,0,0,-1,-1,1,1,-1,1,-1,1,1,-1,1,1,-1,-1,-1,1,1,-1,-1,1,-1,1,1,-1,-1,1,-1,-1,1,-1,b\n",
              "1,0,0.67065,0.02528,0.66626,0.05031,0.57197,0.18761,0.08776,0.34081,0.63621,0.12131,0.62099,0.14285,0.78637,0.10976,0.58373,0.18151,0.14395,0.41224,0.53888,0.21326,0.5142,0.22625,0.48838,0.23724,0.46167,0.24618,0.43433,0.25306,0.40663,0.25792,1,0.33036,g\n",
              "0,0,1,-1,0,0,0,0,1,1,1,-1,-0.71875,1,0,0,-1,1,1,1,-1,1,1,0.5625,-1,1,1,1,1,-1,1,1,1,1,b\n",
              "1,0,1,-0.00612,1,-0.09834,1,-0.07649,1,-0.10605,1,-0.11073,1,-0.39489,1,-0.15616,0.92124,-0.31884,0.86473,-0.34534,0.91693,-0.44072,0.9606,-0.46866,0.81874,-0.40372,0.82681,-0.42231,0.75784,-0.38231,0.80448,-0.40575,0.74354,-0.45039,g\n",
              "0,0,1,1,0,0,0,0,-1,-1,0,0,0,0,-1,-1,-1,-1,-1,1,-1,1,0,0,0,0,1,-1,-1,1,-1,1,-1,1,b\n",
              "1,0,0.96071,0.07088,1,0.04296,1,0.09313,0.90169,-0.05144,0.89263,0.0258,0.8325,-0.06142,0.87534,0.09831,0.76544,0.0028,0.75206,-0.05295,0.65961,-0.07905,0.64158,-0.05929,0.55677,-0.07705,0.58051,-0.02205,0.49664,-0.01251,0.5131,-0.00015,0.52099,-0.00182,g\n",
              "0,0,-1,1,0,0,0,0,-1,1,1,1,0,0,0,0,1,-1,-1,1,1,1,0,0,-1,-1,1,-1,1,1,-1,1,0,0,b\n",
              "1,0,1,-0.06182,1,0.02942,1,-0.05131,1,-0.01707,1,-0.11726,0.84493,-0.05202,0.93392,-0.06598,0.6917,-0.07379,0.65731,-0.20367,0.9491,-0.31558,0.80852,-0.31654,0.84932,-0.34838,0.72529,-0.29174,0.73094,-0.38576,0.54356,-0.26284,0.64207,-0.39487,g\n",
              "1,0,1,0.5782,1,-1,1,-1,1,-1,1,-1,1,-1,1,-1,1,-1,1,-1,1,-0.62796,1,-1,1,-1,1,-1,1,-1,1,-1,1,-1,b\n",
              "1,0,1,-0.08714,1,-0.17263,0.86635,-0.81779,0.94817,0.61053,0.95473,-0.41382,0.88486,-0.31736,0.87937,-0.23433,0.81051,-0.6218,0.12245,-1,0.90284,0.11053,0.62357,-0.78547,0.55389,-0.82868,0.48136,-0.86583,0.4065,-0.89674,0.32984,-0.92128,-0.13341,-1,g\n",
              "0,0,-1,-1,0,0,-1,1,1,-0.375,0,0,0,0,0,0,1,-1,-1,-1,1,-1,0,0,1,-1,-1,1,-1,-1,0,0,-1,1,b\n",
              "1,0,1,0.0838,1,0.17387,1,-0.13308,0.98172,0.6452,1,0.47904,1,0.59113,1,0.70758,1,0.82777,1,0.95099,1,1,0.98042,1,0.91624,1,0.83899,1,0.74822,1,0.64358,1,0.52479,1,g\n",
              "0,0,-1,-1,1,1,1,-1,-1,1,1,-1,-1,-1,0,0,1,1,-1,-1,1,-1,1,-1,1,1,1,-1,1,-1,-1,1,1,-1,b\n",
              "1,0,1,-0.14236,1,-0.16256,1,-0.23656,1,-0.07514,1,-0.2501,1,-0.26161,1,-0.21975,1,-0.38606,1,-0.46162,1,-0.35519,1,-0.59661,1,-0.47643,0.9882,-0.49687,1,-0.7582,1,-0.75761,1,-0.84437,g\n",
              "1,0,1,-1,1,1,1,-1,1,-1,1,-1,1,-0.0184,1,-1,1,1,1,-0.85583,1,1,1,-1,0,0,1,1,1,-0.79141,1,1,1,1,b\n",
              "1,0,0.88208,-0.14639,0.93408,-0.11057,0.921,-0.1645,0.88307,-0.17036,0.88462,-0.31809,0.85269,-0.31463,0.82116,-0.35924,0.80681,-0.33632,0.75243,-0.47022,0.70555,-0.47153,0.6615,-0.50085,0.61297,-0.48086,0.56804,-0.54629,0.50179,-0.59854,0.47075,-0.57377,0.42189,-0.58086,g\n",
              "1,0,0.71253,-0.02595,0.41287,-0.23067,0.98019,-0.09473,0.99709,-0.10236,1,-0.10951,0.58965,1,0.83726,-1,0.8227,-0.17863,0.8076,-0.28257,-0.25914,0.9273,0.51933,0.05456,0.65493,-0.20392,0.93124,-0.41307,0.63811,-0.21901,0.86136,-0.87354,-0.23186,-1,b\n",
              "1,0,1,-0.15899,0.72314,0.27686,0.83443,-0.58388,1,-0.28207,1,-0.49863,0.79962,-0.12527,0.76837,0.14638,1,0.39337,1,0.2659,0.96354,-0.01891,0.92599,-0.91338,1,0.14803,1,-0.11582,1,-0.11129,1,0.53372,1,-0.57758,g\n",
              "1,0,0.66161,-1,1,1,1,-0.67321,0.80893,-0.40446,1,-1,1,-0.89375,1,0.73393,0.17589,0.70982,1,0.78036,1,0.85268,1,-1,1,0.85357,1,-0.08571,0.95982,-0.3625,1,0.65268,1,0.34732,b\n",
              "1,0,1,0.00433,1,-0.01209,1,-0.0296,1,-0.07014,0.97839,-0.06256,1,-0.06544,0.97261,-0.07917,0.92561,-0.13665,0.94184,-0.14327,0.99589,-0.14248,0.94815,-0.13565,0.89469,-0.20851,0.89067,-0.17909,0.85644,-0.18552,0.83777,-0.20101,0.83867,-0.20766,g\n",
              "0,0,1,1,1,-1,0,0,0,0,-1,-1,0,0,0,0,-1,1,1,1,-1,1,-1,1,1,-1,1,1,-1,1,1,1,0,0,b\n",
              "1,0,0.91241,0.04347,0.94191,0.0228,0.94705,0.05345,0.93582,0.01321,0.91911,0.06348,0.92766,0.12067,0.92048,0.06211,0.88899,0.12722,0.83744,0.14439,0.80983,0.11849,0.77041,0.14222,0.75755,0.11299,0.7355,0.13282,0.66387,0.153,0.70925,0.10754,0.65258,0.11447,g\n",
              "1,0,1,0.02461,0.99672,0.04861,0.97545,0.07143,0.61745,-1,0.91036,0.11147,0.88462,0.5364,0.82077,0.14137,0.76929,0.15189,1,0.41003,0.6585,0.16371,0.60138,0.16516,0.54446,0.1639,0.48867,0.16019,0.43481,0.15436,0.38352,0.14677,1,1,b\n",
              "1,0,1,0.06538,1,0.20746,1,0.26281,0.93051,0.32213,0.86773,0.39039,0.75474,0.50082,0.79555,0.52321,0.65954,0.60756,0.57619,0.62999,0.47807,0.67135,0.40553,0.6884,0.34384,0.72082,0.27712,0.72386,0.19296,0.70682,0.11372,0.72688,0.0699,0.71444,g\n",
              "1,0,-1,-1,1,1,1,-0.14375,0,0,-1,1,1,1,0.17917,-1,-1,-1,0.0875,-1,1,-1,-1,1,-1,-1,1,-1,-1,-1,1,1,0,0,b\n",
              "1,0,0.90932,0.08791,0.86528,0.16888,1,0.16598,0.55187,0.68154,0.70207,0.36719,0.16286,0.42739,0.5762,0.46086,0.51067,0.49618,0.31639,0.12967,0.37824,0.54462,0.31274,0.55826,0.24856,0.56527,0.18626,0.56605,0.12635,0.56101,0.06927,0.55061,0.12137,0.67739,g\n",
              "1,0,-0.64286,-1,1,0.82857,1,-1,1,-0.23393,1,0.96161,1,-0.37679,1,-1,1,0.13839,1,-1,1,-0.03393,-0.84286,1,0.5375,0.85714,1,1,1,-1,1,-1,1,-1,b\n",
              "1,0,0.99025,-0.05785,0.99793,-0.13009,0.98663,-0.1943,0.99374,-0.25843,0.92738,-0.3013,0.92651,-0.37965,0.89812,-0.43796,0.84922,-0.52064,0.87433,-0.57075,0.79016,-0.59839,0.74725,-0.64615,0.68282,-0.68479,0.65247,-0.73174,0.6101,-0.75353,0.54752,-0.80278,0.49195,-0.83245,g\n",
              "0,0,0,0,0,0,0,0,1,1,1,1,0,0,0,0,-0.375,-1,-1,-1,0,0,0,0,-1,-1,-1,-1,-1,1,1,0,0,0,b\n",
              "1,0,1,-0.0373,1,-0.07383,0.99601,-0.11039,0.99838,-0.09931,0.98941,-0.13814,0.96674,-0.21695,0.95288,-0.25099,0.91236,-0.344,0.90581,-0.32152,0.89991,-0.34691,0.87874,-0.37643,0.86213,-0.4299,0.83172,-0.43122,0.81433,-0.42593,0.77919,-0.47977,0.75115,-0.50152,g\n",
              "1,0,0.94598,-0.02685,-1,0.26131,-0.36393,0.35639,0.69258,-0.63427,1,-0.03353,-0.2902,-0.0055,-0.54852,0.15452,0.91921,-0.4627,1,-0.50424,-0.29735,-0.31454,-0.73864,0.37361,0.83872,-0.46734,0.52208,-0.5813,1,-0.61393,-0.09634,0.20477,-0.06117,0.41913,b\n",
              "1,0,0.98166,0.00874,0.98103,-0.03818,0.97565,-0.05699,0.95947,-0.06971,0.99004,-0.04507,0.94713,-0.11102,0.93369,-0.1279,0.94217,-0.11583,0.79682,-0.192,0.88274,-0.17387,0.86257,-0.18739,0.88487,-0.19689,0.81813,-0.21136,0.78546,-0.23864,0.76911,-0.23095,0.74323,-0.23902,g\n",
              "1,0,0,0,1,0.51724,0,0,0.10991,-1,0,0,0,0,-1,-0.22414,-0.55711,-0.83297,0.7694,0.63147,0,0,0.53448,0.35668,-0.90302,0.44828,1,-1,-1,0.81573,0,0,0,0,b\n",
              "1,0,0.84134,-0.18362,0.43644,0.02919,0.93421,-0.00267,0.87947,0.13795,0.81121,-0.01789,0.88559,0.54991,0.91714,-0.57486,0.75,-0.2952,0.86676,-0.20104,1,1,0.4661,-0.1629,0.90066,-0.02778,0.93358,-0.01158,0.61582,-0.32298,0.84463,-0.25706,0.93323,-0.01425,g\n",
              "0,0,1,1,1,-1,0,0,0,0,1,1,1,1,-1,-1,1,-1,-1,1,0,0,1,-1,1,-1,1,1,-1,-1,0,0,0,0,b\n",
              "1,0,1,1,1,1,0.9101,1,-0.2697,1,-0.83152,1,-1,1,-1,0.72526,-1,-0.57779,-1,-0.42052,-1,-1,-0.52838,-1,0.90014,-1,1,-1,1,-1,1,-0.34686,1,0.34845,g\n",
              "1,0,-0.67935,-1,-1,1,1,0.63317,0.03515,-1,-1,-1,1,1,0.88683,-1,-1,1,0.8384,1,1,-1,-1,-1,-0.18856,1,1,-1,-1,-1,-1,1,1,0.33611,b\n",
              "1,0,0.95659,0.08143,0.97487,-0.05667,0.97165,-0.08484,0.96097,-0.06561,0.94717,0.01279,0.95436,-0.16795,0.94612,-0.19497,0.9963,-0.32268,0.90343,-0.35902,0.91428,-0.27316,0.9014,-0.29807,0.99899,-0.40747,0.87244,-0.34586,0.92059,-0.30619,0.83951,-0.39061,0.82166,-0.41173,g\n",
              "1,0,0.08333,-0.20685,-1,1,-1,1,0.71875,0.47173,-0.82143,-0.62723,-1,-1,-1,1,-0.02753,0.59152,-0.42113,-0.42113,-0.74628,-1,-1,-0.46801,-1,0.2381,1,-1,-1,-0.38914,-1,-1,-1,0.61458,b\n",
              "1,0,1,-0.02259,1,-0.04494,1,-0.06682,1,-0.08799,1,0.56173,1,-0.12738,1,-0.14522,1,0.32407,1,-0.17639,0.99484,-0.18949,0.95601,-0.20081,1,-0.92284,0.8728,-0.21793,0.8292,-0.2237,0.78479,-0.22765,0.73992,-0.22981,g\n",
              "0,0,-1,1,1,-1,-1,1,0,0,1,1,-1,-0.1875,1,1,-1,-1,1,-1,-1,-1,1,1,1,-1,1,1,1,1,0,0,-1,-1,b\n",
              "1,0,1,0.05812,0.94525,0.07418,0.99952,0.13231,1,-0.01911,0.94846,0.07033,0.95713,0.14644,0.94862,0.11224,0.90896,0.20119,0.96741,0.16265,0.99695,0.14258,0.90784,0.1641,0.91667,0.22431,0.88423,0.23571,0.88568,0.22511,0.78324,0.29576,0.83574,0.31166,g\n",
              "1,0,0.17188,-1,-1,1,0,0,0,0,-1,1,0,0,-0.61354,-0.67708,0.80521,0.36146,0.51979,0.14375,0,0,-1,-0.27083,-0.84792,0.9625,1,1,-1,0.67708,0,0,0,0,b\n",
              "1,0,1,0.09771,1,0.12197,1,0.22574,0.98602,0.09237,0.9493,0.19211,0.92992,0.24288,0.89241,0.28343,0.85529,0.26721,0.83656,0.33129,0.83393,0.31698,0.74829,0.39597,0.76193,0.34658,0.68452,0.42746,0.62764,0.46031,0.56791,0.47033,0.54252,0.50903,g\n",
              "1,0,0.01667,-0.35625,0,0,0,0,0,0,0,0,0,0,0.12292,-0.55,0.22813,0.82813,1,-0.42292,0,0,0.08333,-1,-0.10625,-0.16667,1,-0.76667,-1,0.18854,0,0,1,-0.27292,b\n",
              "1,0,1,0.16801,0.99352,0.16334,0.94616,0.33347,0.91759,0.2261,0.91408,0.37107,0.8425,0.46899,0.81011,0.49225,0.78473,0.48311,0.65091,0.56977,0.56553,0.58071,0.55586,0.6472,0.48311,0.55236,0.43317,0.69129,0.35684,0.76147,0.33921,0.66844,0.22101,0.78685,g\n",
              "1,0,0.63816,1,0.20833,-1,1,1,0.87719,0.30921,-0.66886,1,-0.05921,0.58772,0.01754,0.05044,-0.51535,-1,0.14254,-0.03289,0.32675,-0.4386,-1,1,0.80921,-1,1,-0.0614,1,1,0.20614,-1,1,1,b\n",
              "1,0,1,-0.41457,1,0.76131,0.8706,0.18593,1,-0.09925,0.93844,0.4799,0.65452,-0.1608,1,0.00879,0.97613,-0.50126,0.80025,-0.24497,0.88065,-0.19095,1,-0.12312,0.93593,0.10678,0.9289,-0.07249,1,-0.27387,0.4397,0.19849,0.51382,-0.05402,g\n",
              "1,0,0.84783,0.10598,1,0.3913,1,-1,0.66938,0.08424,1,0.27038,1,0.60598,1,0.35507,1,0.02672,0.58424,-0.43025,1,0.63496,0.8913,0.26585,0.91033,-0.33333,1,0.15942,0.37681,-0.01947,1,0.22464,1,0.37409,b\n",
              "1,0,1,0.28046,1,0.02477,1,0.07764,1,0.04317,0.98762,0.33266,1,0.05489,1,0.04384,0.9575,-0.24598,0.84371,-0.08668,1,0.0415,0.99933,0.27376,1,-0.39056,0.96414,-0.02174,0.86747,0.2336,0.94578,-0.22021,0.80355,-0.07329,g\n",
              "0,0,1,-1,1,-1,1,-1,1,-1,1,1,1,1,1,-1,1,1,1,1,1,1,1,-1,1,-1,1,-1,1,0.65625,0,0,1,-1,b\n",
              "1,0,1,0.67784,0.81309,0.82021,0.43019,1,0.20619,0.80541,-0.43872,1,-0.79135,0.77092,-1,0.40268,-0.39046,-0.58634,-0.97907,-0.42822,-0.73083,-0.76339,-0.37671,-0.97491,0.41366,-1,0.41778,-0.93296,0.25773,-1,0.9357,-0.35222,0.98816,0.03446,g\n",
              "1,0,1,1,1,-1,1,-1,1,1,1,1,1,1,1,-1,1,1,1,1,1,1,1,1,1,1,1,0.5,0,0,1,-1,1,-1,b\n",
              "1,0,1,0.03529,1,0.18281,1,0.26968,1,0.25068,1,0.28778,1,0.38643,1,0.31674,1,0.65701,1,0.53846,1,0.61267,1,0.59457,0.89593,0.68326,0.89502,0.71374,0.85611,0.67149,0.74389,0.85611,0.71493,0.75837,g\n",
              "0,0,1,-1,1,1,-1,-1,1,-1,0,0,0,0,-1,1,1,-1,1,-1,-0.75,1,1,-1,1,-1,1,-1,-1,-1,0,0,1,-1,b\n",
              "1,0,0.96087,0.0862,0.9676,0.19279,0.96026,0.27451,0.98044,0.35052,0.92867,0.46281,0.86265,0.52517,0.8282,0.58794,0.73242,0.69065,0.69003,0.7314,0.54473,0.6882,0.48339,0.76197,0.40615,0.74689,0.33401,0.83796,0.24944,0.86061,0.13756,0.86835,0.09048,0.86285,g\n",
              "1,0,0.69444,0.38889,0,0,-0.32937,0.69841,0,0,0,0,0,0,0.20635,-0.24206,0.21032,0.19444,0.46429,0.78175,0,0,0,0,0.73413,0.27381,0.7619,0.63492,0,0,0,0,0,0,b\n",
              "1,0,1,0.0507,1,0.10827,1,0.19498,1,0.28453,1,0.34826,1,0.38261,0.94575,0.42881,0.89126,0.50391,0.75906,0.58801,0.80644,0.59962,0.79578,0.62758,0.66643,0.63942,0.59417,0.69435,0.49538,0.72684,0.47027,0.71689,0.33381,0.75243,g\n",
              "0,0,1,1,0,0,1,-1,1,-1,1,1,1,1,1,-1,1,1,1,1,1,-1,-1,-1,1,-1,1,-1,1,1,0,0,1,-1,b\n",
              "1,0,1,0.04078,1,0.11982,1,0.16159,1,0.27921,0.98703,0.30889,0.92745,0.37639,0.91118,0.39749,0.81939,0.46059,0.78619,0.46994,0.794,0.56282,0.70331,0.58129,0.67077,0.59723,0.58903,0.6099,0.53952,0.60932,0.45312,0.63636,0.40442,0.62658,g\n",
              "0,0,1,1,1,-1,1,1,1,1,1,1,1,1,1,1,1,-1,-1,1,-1,1,-1,1,1,-1,1,1,-1,1,-1,-1,-1,1,b\n",
              "1,0,1,0.24168,1,0.4859,1,0.72973,1,1,1,1,1,1,1,0.77128,1,1,1,1,0.74468,1,0.89647,1,0.64628,1,0.38255,1,0.10819,1,-0.1737,1,-0.81383,1,g\n",
              "0,0,1,1,1,-1,1,1,-1,1,0,0,1,1,0,0,0,0,-1,1,-1,1,1,1,1,-1,1,1,1,1,1,-1,-1,1,b\n",
              "1,0,1,-0.06604,1,0.62937,1,0.09557,1,0.2028,1,-1,1,-0.40559,1,-0.15851,1,0.04895,1,-0.61538,1,-0.26573,1,-1,1,-0.58042,1,-0.81372,1,-1,1,-0.78555,1,-0.48252,g\n",
              "0,0,1,-1,1,1,1,1,1,1,1,1,1,-1,1,-1,1,1,1,-1,1,1,1,1,1,-1,1,1,1,-1,1,1,1,-1,b\n",
              "1,0,0.92277,0.07804,0.92679,0.16251,0.89702,0.24618,0.84111,0.35197,0.78801,0.42196,0.70716,0.46983,0.70796,0.56476,0.60459,0.642,0.51247,0.64924,0.39903,0.66975,0.34232,0.68343,0.23693,0.76146,0.18765,0.73885,0.09694,0.71038,0.02735,0.77072,-0.04023,0.69509,g\n",
              "1,0,0.68198,-0.17314,0.82332,0.21908,0.46643,0.32862,0.25795,0.58304,1,-0.15194,0.0106,0.44523,0.0106,0.38869,0.18681,0.41168,0.10567,0.36353,0.04325,0.30745,-0.00083,0.24936,-0.02862,0.19405,-0.04314,0.14481,-0.04779,0.10349,-0.04585,0.07064,-0.04013,0.04586,b\n",
              "1,0,0.74852,-0.02811,0.6568,-0.05178,0.80621,0.02811,0.85947,0.02515,0.63462,0.08728,0.71598,0.0784,0.73077,0.05178,0.7855,-0.27811,0.65976,-0.01479,0.78698,0.06953,0.34615,-0.18639,0.65385,0.02811,0.61009,-0.06637,0.5355,-0.21154,0.59024,-0.14053,0.56361,0.02959,g\n",
              "1,0,0.39179,-0.06343,0.97464,0.04328,1,1,0.35821,0.15299,0.54478,0.1306,0.61567,-0.8209,0.57836,0.6791,0.66791,-0.10448,0.46642,-0.11567,0.65574,0.14792,0.83209,0.45522,0.47015,0.16418,0.49309,0.1463,0.32463,-0.02612,0.39118,0.13521,0.34411,0.12755,b\n",
              "1,0,0.67547,0.04528,0.76981,-0.10566,0.77358,0.03774,0.66038,-0.04528,0.64528,0.01132,0.66792,-0.13962,0.72075,-0.02264,0.76981,0.08679,0.61887,-0.07925,0.75849,-0.23774,0.73962,-0.14717,0.84906,-0.15094,0.73886,-0.05801,0.66792,0.02264,0.86415,0.03774,0.73208,0.00755,g\n",
              "1,0,0.72727,-0.05,0.89241,0.03462,1,0.72727,0.66364,-0.05909,0.48182,-0.16818,0.81809,0.09559,0.56818,1,0.50455,0.21818,0.66818,0.1,1,-0.3,0.98636,-1,0.57273,0.32727,0.56982,0.14673,0.42273,0.08182,0.48927,0.14643,1,1,b\n",
              "1,0,0.57647,-0.01569,0.40392,0,0.38431,0.12941,0.4,-0.05882,0.56471,0.14118,0.46667,0.08235,0.52549,-0.0549,0.58039,0.01569,0.50196,0,0.45882,0.06667,0.58039,0.08235,0.49804,0.00392,0.48601,0.10039,0.46275,0.08235,0.45098,0.23529,0.43137,0.17255,g\n",
              "1,0,0.41932,0.12482,0.35,0.125,0.23182,0.27955,-0.03636,0.44318,0.04517,0.36194,-0.19091,0.33636,-0.1335,0.27322,0.02727,0.40455,-0.34773,0.12727,-0.20028,0.05078,-0.18636,0.36364,-0.14003,-0.04802,-0.09971,-0.07114,-1,-1,-0.02916,-0.07464,-0.00526,-0.06314,b\n",
              "1,0,0.88305,-0.21996,1,0.36373,0.82403,0.19206,0.85086,0.05901,0.90558,-0.04292,0.85193,0.25,0.77897,0.25322,0.69206,0.5794,0.7103,0.39056,0.73176,0.27575,1,0.34871,0.5676,0.52039,0.69811,0.53235,0.80901,0.58584,0.43026,0.70923,0.52361,0.54185,g\n",
              "1,0,0.84557,-0.0858,-0.31745,-0.80553,-0.08961,-0.56435,0.80648,0.04576,0.89514,-0.00763,-0.18494,0.63966,-0.20019,-0.68065,0.85701,-0.11344,0.77979,-0.15729,-0.06959,0.5081,-0.34128,0.80934,0.78932,-0.03718,0.70882,-0.25288,0.77884,-0.14109,-0.21354,-0.7817,-0.18494,-0.59867,b\n",
              "1,0,0.7087,-0.24783,0.64348,0.04348,0.45217,0.38261,0.65217,0.18261,0.5,0.26957,0.57826,-0.23043,0.50435,0.37826,0.38696,-0.42609,0.36087,-0.26087,0.26957,0.11739,0.53246,-0.03845,0.31304,-0.12174,0.4993,-0.04264,0.48348,-0.04448,0.64348,-0.25217,0.50435,0.14783,g\n",
              "1,0,-0.5418,0.14861,-0.33746,0.73375,0.52012,-0.13932,0.31889,-0.06811,0.20743,-0.1517,0.47368,0.08978,0.56347,-0.1548,0.16409,0.45201,0.33746,0.03406,0.50464,0.07121,-0.63777,-0.6161,1,0.65635,0.41348,-0.40116,-0.1517,0.11146,0.02399,0.5582,0.52632,-0.08978,b\n",
              "1,0,0.29202,0.13582,0.45331,0.16808,0.51783,-0.00509,0.52632,0.20883,0.52462,-0.16638,0.47368,-0.04754,0.55518,0.03905,0.81664,-0.22411,0.42445,-0.04244,0.34975,0.06621,0.28183,-0.20883,0.51731,-0.03176,0.50369,-0.03351,0.34635,0.09847,0.70798,-0.01868,0.39559,-0.03226,g\n",
              "1,0,0.79157,0.16851,0,0,0.56541,0.06874,0.39468,1,0.38359,0.99557,-0.02439,0.53215,0.23725,0.1286,-0.02661,0.95122,-0.50998,0.84922,-0.102,0.38803,-0.42572,0.23725,-0.91574,0.8071,-0.34146,0.88248,-1,0.69401,-1,0.1286,0,0,b\n",
              "1,0,0.90116,0.16607,0.79299,0.37379,0.7299,0.50515,0.59784,0.72997,0.44303,0.81152,0.24412,0.87493,0.06438,0.85038,-0.12611,0.87396,-0.28739,0.79617,-0.46635,0.65924,-0.57135,0.53805,-0.68159,0.39951,-0.71844,0.25835,-0.72369,0.11218,-0.71475,-0.05525,-0.67699,-0.19904,g\n",
              "1,0,0.97714,0.19049,0.82683,0.46259,0.71771,0.58732,0.47968,0.84278,0.31409,0.92643,0.10289,0.93945,-0.13254,0.8429,-0.3202,0.91624,-0.52145,0.79525,-0.68274,0.49508,-0.77408,0.33537,-0.85376,0.17849,-0.83314,-0.01358,-0.82366,-0.19321,-0.67289,-0.33662,-0.59943,-0.497,g\n",
              "1,0,-1,-1,0,0,0.50814,-0.78502,0.60586,0.32899,-1,-0.41368,0,0,0,0,1,-0.2671,0.36482,-0.63518,0.97068,-1,-1,-1,1,-0.59609,-1,-1,-1,-1,1,-1,0,0,b\n",
              "1,0,0.74084,0.04974,0.79074,0.02543,0.78575,0.03793,0.6623,0.09948,0.67801,0.31152,0.75934,0.07348,0.74695,0.08442,0.70681,-0.07853,0.63613,0,0.70021,0.11355,0.68183,0.12185,0.67016,0.15445,0.64158,0.13608,0.65707,0.17539,0.59759,0.14697,0.57455,0.15114,g\n",
              "1,0,1,-1,0,0,0.77941,-0.99265,0.80882,0.55147,-0.41912,-0.94853,0,0,0,0,0.72059,-0.77206,0.73529,-0.60294,0,0,0.18382,-1,-1,-1,-1,-1,1,-1,1,-1,0,0,b\n",
              "1,0,1,0.01709,0.96215,-0.03142,1,-0.03436,1,-0.05071,0.99026,-0.07092,0.99173,-0.09002,1,-0.15727,1,-0.14257,0.9831,-0.11813,1,-0.18519,1,-0.19272,0.98971,-0.22083,0.9649,-0.20243,0.94599,-0.17123,0.96436,-0.22561,0.87011,-0.23296,g\n",
              "0,0,0,0,0,0,0,0,0,0,0,0,0,0,0,0,0,0,0,0,0,0,0,0,0,0,1,-1,0,0,0,0,0,0,b\n",
              "1,0,0.95704,-0.12095,0.63318,-0.1269,0.96365,-0.18242,0.97026,0.0846,0.92003,-0.01124,0.83543,-0.24719,1,-0.31395,0.99273,-0.21216,0.98678,-0.21018,1,-0.27165,0.93126,-0.39458,1,-0.19233,0.88793,-0.31565,0.81428,-0.23728,0.89095,-0.31857,0.69531,-0.41573,g\n",
              "1,0,0.28409,-0.31818,0,0,0.68182,-1,0.30682,0.95833,0.64394,0.06439,0.34848,-0.84848,0,0,0.59091,-0.35985,0.45076,-0.80682,0,0,0,0,0.24242,0.17803,1,-0.23864,0.06061,-0.48485,0.16288,-0.70076,0,0,b\n",
              "1,0,0.9449,-0.49311,1,-0.03692,0.98898,-0.87052,0.90083,0.66942,1,-0.10104,1,-0.12493,1,-0.15017,1,-0.17681,1,-0.20491,1,-0.23452,1,-0.26571,1,-0.29852,1,-0.33304,1,-0.36931,1,-0.4074,1,-0.44739,g\n",
              "1,0,0,0,0,0,0,0,0,0,0.62195,1,0,0,0,0,0.36585,-0.71951,0.56098,-1,0,0,0,0,0,0,1,0.10976,0,0,0,0,0,0,b\n",
              "1,0,0.99449,0.00526,0.84082,-0.11313,0.88237,-0.16431,0.99061,-0.06257,0.96484,-0.07496,0.85221,0.02966,0.87161,-0.20848,0.93881,-0.12977,0.98298,-0.08935,0.89876,0.00075,0.87836,-0.05882,0.93368,-0.19872,0.87579,-0.17806,0.94294,-0.16581,0.80253,-0.25741,0.76586,-0.27794,g\n",
              "1,0,0.10135,0.10811,0,0,0,0,0.5473,0.82432,0.31081,1,0,0,0,0,0.37162,-1,0.33108,-1,0,0,0,0,-0.42568,-1,1,-1,0.55405,-0.23649,0,0,0,0,b\n",
              "1,0,1,-0.57224,0.9915,-0.73371,0.89518,-0.9745,1,-0.35818,1,-0.23229,0.6289,-0.86402,1,-0.57535,1,-0.79603,0.76771,-0.88952,0.96601,-1,0.7012,-0.74896,0.61946,-0.76904,0.53777,-0.77986,0.8102,-1,1,-1,0.30445,-0.76112,g\n",
              "1,0,0.65909,-0.62879,0,0,0,0,0.77273,1,1,-0.2803,0,0,0,0,0.62121,-0.22727,0.84091,-1,1,-1,0,0,0,0,1,-0.93939,-0.12879,-0.93182,0,0,0,0,b\n",
              "1,0,0.86284,0.1931,0.8092,0.41149,0.67203,0.55785,0.54559,0.69962,0.36705,0.81533,0.19617,0.85671,-0.04061,0.86284,-0.17241,0.75785,-0.341,0.65747,-0.48199,0.56092,-0.6023,0.40996,-0.59234,0.25747,-0.63038,0.08818,-0.57241,-0.07816,-0.54866,-0.19923,-0.42912,-0.31954,g\n",
              "1,0,0.42,-0.61,0,0,1,-1,0.9,1,0.43,0.64,0,0,0,0,0.67,-0.29,0.84,-1,0,0,0,0,0.21,0.68,1,0.22,0,0,0,0,0,0,b\n",
              "1,0,1,0.23395,0.91404,0.52013,0.7802,0.72144,0.4766,0.84222,0.27639,0.9173,0.09467,0.88248,-0.2198,0.91404,-0.34168,0.75517,-0.5136,0.64527,-0.64527,0.44614,-0.74102,0.29162,-0.70838,0.03591,-0.71731,-0.11943,-0.64962,-0.28183,-0.51251,-0.44505,-0.37432,-0.53319,g\n",
              "1,0,0.91353,0.81586,-0.72973,1,-0.39466,0.55735,0.05405,0.2973,-0.18599,-0.10241,-0.03158,-0.0897,0.01401,-0.03403,0.01108,-0.00537,0.00342,0.00097,0.00048,0.00075,-0.00003,0.00019,-0.00003,0.00002,-0.00001,0,0,0,0,0,0,0,b\n",
              "1,0,0.21429,-0.09524,0.33333,0.07143,0.19048,0.19048,0.2381,0.09524,0.40476,0.02381,0.30952,-0.04762,0.30952,-0.04762,0.28571,-0.11905,0.33333,0.04762,0.30952,0,0.21429,-0.11905,0.35714,-0.04762,0.22109,-0.0229,0.19048,0,0.16997,-0.02034,0.14694,-0.01877,g\n",
              "1,0,1,-0.14754,1,0.04918,0.57377,-0.01639,0.65574,0.01639,0.85246,-0.03279,0.72131,0,0.68852,-0.16393,0.19672,-0.14754,0.65558,-0.17176,0.67213,0.03279,1,-0.29508,0.31148,-0.34426,0.52385,-0.20325,0.32787,-0.03279,0.27869,-0.44262,0.4918,-0.06557,b\n",
              "1,0,0.98182,0,0.88627,0.03131,0.86249,0.04572,0.8,0,0.69091,0.04545,0.79343,0.08436,0.77118,0.09579,0.62727,0.25455,0.68182,0.12727,0.70674,0.12608,0.68604,0.13493,0.74545,0.22727,0.64581,0.15088,0.67273,0.02727,0.60715,0.16465,0.5884,0.17077,g\n",
              "1,0,0.39286,0.52381,-0.78824,0.11342,-0.16628,-0.76378,0.66667,0.0119,0.82143,0.40476,-0.6723,0.30729,-0.34797,-0.63668,0.46429,0.15476,0.54762,0.05952,-0.5183,0.44961,-0.47651,-0.47594,0.32143,0.70238,0.51971,0.38848,0.57143,0.39286,-0.54891,-0.29915,0.25441,-0.55837,b\n",
              "1,0,0.86889,-0.07111,1,-0.02494,1,-0.06889,0.87778,0.00222,0.83556,-0.06444,1,-0.07287,1,-0.2,0.86889,0.05333,0.88,-0.03778,1,-0.11526,1,-0.18667,0.84444,0.03556,1,-0.14162,0.82222,-0.14667,1,-0.15609,1,-0.44222,g\n",
              "1,0,0.43636,-0.12727,0.58182,-0.14545,0.18182,-0.67273,0.34545,-0.03636,0.29091,-0.05455,0.29091,0.29091,0.36364,-0.41818,0.2,-0.01818,0.36364,0.05455,0.12727,0.49091,0.61818,0.16364,0.32727,0.16364,0.41098,-0.07027,0.34545,-0.05455,0.12727,-0.36364,0.29091,-0.29091,b\n",
              "1,0,1,-0.92453,1,0.75472,0.49057,-0.0566,0.62264,0,1,-0.00054,0.45283,0.07547,0.62264,-0.0566,0.98878,-0.00085,0.5283,0,0.5283,0.07547,0.9519,-0.00112,1,0.79245,0.92192,-0.00128,0.9434,-1,1,0.43396,0.43396,-0.11321,g\n",
              "1,0,0.7381,0.83333,-0.7619,-0.2381,0.33333,-0.14286,0.45238,-0.14286,-0.67285,0.12808,0.33333,0,0.28571,-0.07143,-0.38214,0.51163,0.2381,0.02381,0.45238,0.04762,0.16667,-0.2619,-0.57255,-0.10234,0.24889,-0.51079,1,0,-0.66667,-0.04762,0.2619,0.02381,b\n",
              "1,0,0.4375,0.04167,0.58333,-0.10417,0.39583,0,0.33333,-0.0625,0.47917,0,0.29167,0.10417,0.54167,0.02083,0.4375,-0.22917,0.35417,-0.22917,0.33333,0.08333,0.25,0.1875,0.39583,-0.1875,0.44012,-0.10064,0.41667,-0.08333,0.58333,-0.3125,0.33333,-0.0625,g\n",
              "1,0,1,1,0,0,0,0,0,0,0.47744,-0.89098,-0.51504,0.45489,-0.95489,0.28571,0.64662,1,0,0,0,0,0.6203,0.20301,-1,-1,1,-1,1,1,0,0,0,0,b\n",
              "1,0,0.95217,0.06595,0.93614,0.1303,0.90996,0.19152,0.84881,-0.49962,0.90023,0.6132,0.77937,0.34328,0.72254,0.37988,0.66145,0.40844,0.95472,0.59862,0.53258,0.44088,0.46773,0.44511,0.4044,0.44199,0.34374,0.43221,0.9033,1,0.23405,0.3962,0.18632,0.37191,g\n",
              "1,0,0.5984,0.40332,0.82809,0.80521,0.76001,0.70709,0.8401,-0.10984,0.97311,0.07981,0.95824,-0.85727,0.91962,0.88444,0.95452,-0.05206,0.88673,0.18135,0.98484,-0.69594,0.8667,-0.85755,0.28604,-0.30063,1,0.17076,0.62958,0.42677,0.87757,0.81007,0.81979,0.68822,b\n",
              "1,0,0.95882,0.10129,1,-0.01918,0.98313,0.02555,0.96974,-0.09316,0.98955,-0.02716,0.9798,-0.03096,1,-0.05343,1,-0.05179,0.9384,0.01557,0.9762,-0.09284,0.97889,-0.05318,0.91567,-0.15675,0.95677,-0.06995,0.90978,0.01307,1,-0.10797,0.93144,-0.06888,g\n",
              "1,0,0,0,-0.33672,0.85388,0,0,0.68869,-1,0.97078,0.31385,-0.26048,-0.59212,-0.30241,0.65565,0.94155,0.16391,0,0,0,0,-0.18043,-1,0,0,1,-1,0,0,0.04447,0.61881,0,0,b\n",
              "1,0,0.96933,0.00876,1,0.00843,0.98658,-0.00763,0.97868,-0.02844,0.9982,-0.0351,1,-0.01271,1,-0.02581,1,-0.01175,0.98485,0.00025,1,-0.02612,1,-0.04744,0.96019,-0.04527,0.99188,-0.03473,0.9702,-0.02478,1,-0.03855,0.9842,-0.04112,g\n",
              "1,0,0,0,0.98919,-0.22703,0.18919,-0.05405,0,0,0.93243,0.07297,1,-0.2,1,0.07027,1,-0.11351,0,0,1,-0.21081,1,-0.41622,0,0,1,-0.17568,0,0,1,-0.25946,0.28919,-0.15676,b\n",
              "1,0,0.64122,0.01403,0.34146,-0.02439,0.52751,0.03466,0.19512,0.12195,0.43313,0.04755,0.21951,0.04878,0.29268,0,0.36585,0,0.31707,0.07317,0.26829,0.12195,0.23698,0.05813,0.21951,0.09756,0.19304,0.05641,0.1741,0.05504,0.19512,0,0.17073,0.07317,g\n",
              "1,0,1,1,1,-1,0,0,0,0,1,1,1,-1,1,1,1,-1,0,0,0,0,1,-0.27778,0,0,1,-1,1,1,1,-1,0,0,b\n",
              "1,0,0.34694,0.20408,0.46939,0.2449,0.40816,0.20408,0.46939,0.44898,0.30612,0.59184,0.12245,0.55102,0,0.5102,-0.06122,0.55102,-0.20408,0.55102,-0.28571,0.44898,-0.28571,0.32653,-0.61224,0.22449,-0.46579,0.14895,-0.59184,0.18367,-0.34694,0,-0.26531,-0.2449,g\n",
              "1,0,0,0,1,-1,0,0,0,0,1,1,1,-0.25342,1,0.23288,1,-1,0,0,0,0,1,1,0,0,1,-1,0,0,1,-1,0,0,b\n",
              "1,0,0.89706,0.38235,0.91176,0.375,0.74265,0.67647,0.45588,0.77941,0.19118,0.88971,-0.02206,0.86029,-0.20588,0.82353,-0.375,0.67647,-0.5,0.47794,-0.73529,0.38235,-0.86029,0.08824,-0.74265,-0.125,-0.67925,-0.24131,-0.55147,-0.42647,-0.44118,-0.50735,-0.28676,-0.56618,g\n",
              "1,0,-1,0.28105,0.22222,0.15033,-0.75693,-0.70984,-0.30719,0.71242,-1,1,-0.81699,0.33987,-0.79085,-0.02614,-0.98039,-0.83007,-0.60131,-0.54248,-0.04575,-0.83007,0.94118,-0.94118,-1,-0.43137,0.74385,0.09176,-1,0.05229,0.18301,0.02614,-0.40201,-0.48241,b\n",
              "1,0,0.26667,-0.1,0.53333,0,0.33333,-0.13333,0.36667,0.11667,0.56667,0.01667,0.71667,0.08333,0.7,-0.06667,0.53333,0.2,0.41667,-0.01667,0.31667,0.2,0.7,0,0.25,0.13333,0.46214,0.05439,0.4,0.03333,0.46667,0.03333,0.41667,-0.05,g\n",
              "1,0,-0.26667,0.4,-0.27303,0.12159,-0.17778,-0.04444,0.06192,-0.06879,0.04461,0.02575,-0.00885,0.02726,-0.01586,-0.00166,-0.00093,-0.00883,0.0047,-0.00153,0.00138,0.00238,-0.00114,0.00102,-0.00069,-0.0005,0.00019,-0.00043,0.00026,0.00005,0,0.00015,-0.00008,0.00002,b\n",
              "1,0,1,-0.37838,0.64865,0.2973,0.64865,-0.24324,0.86486,0.18919,1,-0.27027,0.51351,0,0.62162,-0.05405,0.32432,-0.21622,0.71833,-0.17666,0.62162,0.05405,0.75676,0.13514,0.35135,-0.2973,0.61031,-0.22163,0.58478,-0.23027,0.72973,-0.59459,0.51351,-0.24324,g\n",
              "1,0,0.94531,-0.03516,-1,-0.33203,-1,-0.01563,0.97266,0.01172,0.93359,-0.01953,-1,0.16406,-1,-0.00391,0.95313,-0.03516,0.92188,-0.02734,-0.99219,0.11719,-0.93359,0.34766,0.95703,-0.00391,0.82041,0.13758,0.90234,-0.06641,-1,-0.1875,-1,-0.34375,b\n",
              "1,0,0.95202,0.02254,0.93757,-0.01272,0.93526,0.01214,0.96705,-0.01734,0.96936,0.0052,0.95665,-0.03064,0.9526,-0.00405,0.9948,-0.02659,0.99769,0.01792,0.93584,-0.04971,0.93815,-0.0237,0.97052,-0.04451,0.96215,-0.01647,0.97399,0.01908,0.95434,-0.0341,0.95838,0.00809,g\n",
              "1,0,1,-0.05529,1,-1,0.5,-0.11111,0.36111,-0.22222,1,-0.25712,0.16667,-0.11111,1,-0.3466,1,-0.38853,1,-0.42862,0,-0.25,1,-0.50333,1,-0.27778,1,-0.57092,1,-0.27778,1,-0.63156,1,-0.65935,b\n",
              "1,0,0.31034,-0.10345,0.24138,-0.10345,0.2069,-0.06897,0.07405,-0.05431,0.03649,-0.03689,0.01707,-0.02383,0.00741,-0.01482,0.00281,-0.00893,0.00078,-0.00523,-0.00003,-0.00299,-0.00028,-0.00166,-0.00031,-0.0009,-0.00025,-0.00048,-0.00018,-0.00024,-0.00012,-0.00012,-0.00008,-0.00006,g\n",
              "1,0,0.62745,-0.07843,0.72549,0,0.60784,-0.07843,0.62745,-0.11765,0.68627,-0.11765,0.66667,-0.13725,0.64706,-0.09804,0.54902,-0.11765,0.54902,-0.21569,0.58824,-0.19608,0.66667,-0.23529,0.45098,-0.2549,0.52409,-0.24668,0.56863,-0.31373,0.43137,-0.21569,0.47059,-0.27451,b\n",
              "1,0,0.25,0.16667,0.46667,0.26667,0.19036,0.23966,0.07766,0.19939,0.0107,0.14922,-0.02367,0.10188,-0.03685,0.06317,-0.03766,0.03458,-0.0323,0.01532,-0.02474,0.00357,-0.01726,-0.00273,-0.01097,-0.00539,-0.00621,-0.00586,-0.00294,-0.0052,-0.00089,-0.00408,0.00025,-0.00291,g\n",
              "1,0,-0.65625,0.15625,0.0625,0,0,0.0625,0.625,0.0625,0.1875,0,-0.03125,0.09375,0.0625,0,0.15625,-0.15625,0.4375,-0.375,0,-0.09375,0,0,0.03125,-0.46875,0.03125,0,-0.71875,0.03125,-0.03125,0,0,0.09375,b\n",
              "1,0,1,-0.01081,1,-0.02703,1,-0.06486,0.95135,-0.01622,0.98919,-0.03243,0.98919,0.08649,1,-0.06486,0.95135,0.09189,0.97838,-0.00541,1,0.06486,1,0.04324,0.97838,0.09189,0.98556,0.01251,1,-0.03243,1,0.02703,1,-0.07027,g\n",
              "1,0,0.85271,0.05426,1,0.08069,1,1,0.91473,-0.00775,0.83721,0.03876,1,0.27153,1,1,0.81395,0.04651,0.90698,0.11628,1,0.5067,1,-1,0.8062,0.03876,1,0.71613,0.84496,0.06977,1,0.87317,1,1,b\n",
              "1,0,0.90374,-0.01604,1,0.08021,1,0.01604,0.93048,0.00535,0.93583,-0.01604,1,0,1,0.06417,1,0.04813,0.91444,0.04278,0.96791,0.02139,0.9893,-0.01604,0.96257,0.05348,0.96974,0.04452,0.87701,0.0107,1,0.09091,0.97861,0.06417,g\n",
              "1,0,-0.205,0.2875,0.23,0.1,0.2825,0.3175,0.3225,0.35,0.36285,-0.34617,0.0925,0.275,-0.095,0.21,-0.0875,0.235,-0.34187,0.31408,-0.48,-0.08,0.29908,0.33176,-0.58,-0.24,0.3219,-0.28475,-0.47,0.185,-0.27104,-0.31228,0.40445,0.0305,b\n",
              "1,0,0.6,0.03333,0.63333,0.06667,0.7,0.06667,0.7,0,0.63333,0,0.8,0,0.73333,0,0.7,0.1,0.66667,0.1,0.73333,-0.03333,0.76667,0,0.63333,0.13333,0.65932,0.10168,0.6,0.13333,0.6,0.16667,0.63333,0.16667,g\n",
              "1,0,0.05866,-0.00838,0.06704,0.00838,0,-0.01117,0.00559,-0.03911,0.01676,-0.07542,-0.00559,0.05307,0.06425,-0.03352,0,0.09497,-0.06425,0.07542,-0.04749,0.02514,0.02793,-0.00559,0.00838,0.00559,0.10335,-0.00838,0.03073,-0.00279,0.04469,0,0.04749,-0.03352,b\n",
              "1,0,0.94653,0.28713,0.72554,0.67248,0.47564,0.82455,0.01267,0.89109,-0.24871,0.84475,-0.47644,0.56079,-0.75881,0.41743,-0.66455,0.07208,-0.65426,-0.19525,-0.52475,-0.44,-0.30851,-0.55089,-0.04119,-0.64792,0.16085,-0.5642,0.36752,-0.41901,0.46059,-0.22535,0.50376,-0.0598,g\n",
              "1,0,0.0546,0.01437,-0.02586,0.04598,0.01437,0.04598,-0.07759,0.00862,0.01724,-0.06609,-0.03736,0.0431,-0.08333,-0.04598,-0.09483,0.08046,-0.04023,0.05172,0.02011,0.02299,-0.03736,-0.01149,0.03161,-0.00862,0.00862,0.01724,0.02586,0.01149,0.02586,0.01149,-0.04598,-0.00575,b\n",
              "1,0,0.72414,-0.01084,0.79704,0.01084,0.8,0.00197,0.79015,0.01084,0.78424,-0.00985,0.8335,0.03251,0.85123,0.01675,0.80099,-0.00788,0.79113,-0.02956,0.75961,0.0335,0.74778,0.05517,0.72611,-0.01478,0.78041,0.00612,0.74089,-0.05025,0.82956,0.02956,0.79015,0.00788,g\n",
              "1,0,0.03852,0.02568,0.00428,0,0.01997,-0.01997,0.0214,-0.04993,-0.0485,-0.01284,0.01427,-0.02282,0,-0.03281,-0.04708,-0.02853,-0.01712,0.03566,0.0214,0.00428,0.05136,-0.02282,0.05136,0.01854,0.03994,0.01569,0.01997,0.00713,-0.02568,-0.01854,-0.01427,0.01997,b\n",
              "1,0,0.4709,0.22751,0.42328,0.33598,0.25661,0.47619,0.01852,0.49471,-0.02116,0.53968,-0.34127,0.31217,-0.4127,0.3254,-0.51587,0.06878,-0.5,-0.1164,-0.14815,-0.1455,-0.14815,-0.38095,-0.2328,0.00265,0.03574,-0.31739,0.15873,-0.21693,0.24868,-0.24339,0.2672,0.04233,g\n",
              "1,0,0.08696,0.00686,0.13959,-0.04119,0.10526,-0.08238,0.12586,-0.06178,0.23341,-0.01144,0.12357,0.0778,0.14645,-0.13501,0.29062,-0.04805,0.18993,0.07323,0.1167,0,0.11213,-0.00229,0.15103,-0.10297,0.08467,0.01373,0.11213,-0.06636,0.09611,-0.07323,0.1167,-0.06865,b\n",
              "1,0,0.94333,0.38574,0.48263,0.64534,0.21572,0.77514,-0.55941,0.64899,-0.73675,0.42048,-0.76051,0,-0.62706,-0.31079,-0.38391,-0.62157,-0.12797,-0.69287,0.49909,-0.6362,0.71481,-0.3766,0.73857,-0.05484,0.60098,0.30384,0.45521,0.60512,0.02742,0.54479,-0.21572,0.50457,g\n",
              "1,0,0.01975,0.00705,0.0409,-0.00846,0.02116,0.01128,0.01128,0.04372,0.00282,0.00141,0.01975,-0.03103,-0.01975,0.06065,-0.0409,0.0268,-0.02398,-0.00423,0.04372,-0.02539,0.01834,0,0,-0.01269,0.01834,-0.01128,0.00564,-0.01551,-0.01693,-0.02398,0.00705,0,b\n",
              "1,0,0.85736,0.00075,0.81927,-0.05676,0.77521,-0.04182,0.84317,0.09037,0.86258,0.11949,0.88051,-0.06124,0.78342,0.0351,0.83719,-0.06796,0.8357,-0.1419,0.88125,0.01195,0.90515,0.0224,0.79686,-0.01942,0.82383,-0.03678,0.88125,-0.06423,0.73936,-0.01942,0.79089,-0.09186,g\n",
              "1,0,1,-1,1,1,-1,1,1,-1,1,-1,-1,-1,-1,1,1,1,1,1,-1,1,1,-1,1,-1,1,1,1,1,-1,1,-1,1,b\n",
              "1,0,0.85209,0.39252,0.38887,0.76432,0.08858,0.98903,-0.42625,0.88744,-0.76229,0.4998,-0.93092,0.10768,-0.859,-0.31044,-0.6603,-0.55262,-0.1926,-0.86063,0.28444,-0.80496,0.64649,-0.3523,0.77814,-0.23324,0.71698,0.21343,0.3783,0.5831,0.19667,0.66315,-0.11215,0.64933,g\n",
              "1,0,1,1,1,0.5125,0.625,-1,1,1,0.025,0.03125,1,1,0,0,1,-1,1,1,1,1,0.3125,1,1,1,1,1,1,1,-0.94375,1,0,0,b\n",
              "1,0,1,0.54902,0.62745,1,0.01961,1,-0.4902,0.92157,-0.82353,0.58824,-1,0.11765,-0.96078,-0.33333,-0.64706,-0.68627,-0.23529,-0.86275,0.35294,-1,0.7451,-0.72549,0.92157,-0.21569,0.92874,0.21876,0.72549,0.56863,0.23529,0.90196,-0.11765,0.90196,g\n",
              "1,0,0,0,-1,-1,-1,1,0,0,-1,1,1,1,1,-1,0,0,0,0,-1,-1,-1,1,1,0.4375,1,-1,0,0,-1,-1,-1,1,b\n",
              "1,0,0.44444,0.44444,0.53695,0.90763,-0.22222,1,-0.33333,0.88889,-1,0.33333,-1,-0.11111,-1,-0.22222,-0.66667,-0.77778,0.55556,-1,-0.22222,-0.77778,0.77778,-0.22222,0.33333,0,0.9212,0.45019,0.57454,0.84353,0.22222,1,-0.55556,1,g\n",
              "0,0,0,0,0,0,0,0,0,0,0,0,0,0,0,0,0,0,0,0,0,0,0,0,0,0,1,0,0,0,0,0,0,0,b\n",
              "1,0,1,0,1,0,0.5,0.5,0.75,0,0.91201,0.12094,0.89067,0.1421,0.86922,0.16228,0.75,0.25,0.75,0.5,0.75,0,1,-0.25,0.5,0.5,0.73944,0.26388,0.75,0.25,0.69635,0.29074,0.67493,0.30293,g\n",
              "0,0,-1,1,1,1,0,0,1,-1,1,-1,1,-1,-1,-1,0,0,-1,-1,0,0,0,0,-1,-1,1,-1,1,1,-1,-1,0,0,b\n",
              "1,0,1,0,1,0,0.66667,0.11111,1,-0.11111,0.88889,-0.11111,1,-0.22222,0.77778,0,0.77778,0,1,-0.11111,0.77778,-0.11111,0.66667,-0.11111,0.66667,0,0.90347,-0.05352,1,0.11111,0.88889,-0.11111,1,0,g\n",
              "0,0,0,0,0,0,0,0,0,0,0,0,-1,-1,0,0,1,0.75,0,0,0,0,-1,1,0,0,1,-1,-1,-1,1,1,0,0,b\n",
              "1,0,1,0.45455,1,-0.45455,1,0.09091,1,-0.09091,1,0,1,-0.27273,1,-0.18182,1,0.09091,1,0,1,-0.36364,1,0.09091,1,-0.09091,1,-0.04914,1,0.45455,1,-0.27273,1,-0.18182,g\n",
              "1,0,0.62121,-0.63636,0,0,0,0,0.3447,0.28788,0.42803,0.39394,-0.07576,0.51894,0.36364,0.31439,-0.53788,0.32955,0.12121,-0.14773,0.01894,-0.53409,-0.57576,0.17803,0.29167,-0.27273,0.25758,-0.57576,0.43182,0.24242,0.18182,-0.02273,0.17045,-0.41667,b\n",
              "1,0,1,0.11765,1,0.23529,1,0.41176,1,0.05882,1,0.23529,1,0.11765,1,0.47059,1,-0.05882,1,-0.11765,1,0.35294,1,0.41176,1,-0.11765,1,0.20225,1,0.05882,1,0.35294,1,0.23529,g\n",
              "1,0,0,0,-1,-0.62766,1,0.51064,0.07979,-0.23404,-1,-0.3617,0.12766,-0.59043,1,-1,0,0,0.82979,-0.07979,-0.25,1,0.17021,-0.70745,0,0,-0.19149,-0.46809,-0.2234,-0.48936,0.74468,0.90426,-0.67553,0.45745,b\n",
              "1,0,0.91667,0.29167,0.83333,-0.16667,0.70833,0.25,0.875,-0.08333,0.91667,0.04167,0.83333,0.125,0.70833,0,0.875,0.04167,1,0.08333,0.66667,-0.08333,0.75,0.16667,0.83333,-0.125,0.83796,0.05503,1,0.20833,0.70833,0,0.70833,0.04167,g\n",
              "1,0,0.1859,-0.16667,0,0,0,0,0,0,0,0,0.11538,-0.19071,0,0,0,0,0,0,0,0,-0.05128,-0.06571,0.07853,0.08974,0.17308,-0.10897,0.125,0.09615,0.02564,-0.04808,0.16827,0.19551,b\n",
              "1,0,1,-0.08183,1,-0.11326,0.99246,-0.29802,1,-0.33075,0.96662,-0.34281,0.85788,-0.47265,0.91904,-0.4817,0.73084,-0.65224,0.68131,-0.63544,0.8245,-0.78316,0.58829,-0.74785,0.67033,-0.96296,0.48757,-0.85669,0.37941,-0.83893,0.24117,-0.88846,0.29221,-0.89621,g\n",
              "1,0,1,1,-1,1,-1,-0.82456,0.34649,0.21053,0.46053,0.07018,0.22807,0.05702,0.35088,0.34649,0.72807,-0.03947,0.22807,0.5307,0,0,-0.29825,-0.16228,1,-0.66667,1,-1,1,-0.24561,0.35088,0.20175,0.82895,0.07895,b\n",
              "1,0,1,0.24077,0.99815,0.00369,0.80244,-0.30133,0.89919,-0.23486,0.70643,-0.24077,0.73855,-0.30539,0.71492,-0.36078,0.47194,-0.61189,0.40473,-0.55059,0.61041,-0.39328,0.53176,-0.32681,0.23966,-0.52142,0.29208,-0.4839,0.12777,-0.39143,0.15657,-0.51329,0.18353,-0.46603,g\n",
              "0,0,-1,1,1,-1,0,0,0,0,1,-1,1,1,0,0,1,-1,0,0,0,0,1,1,-1,1,1,-1,-1,1,-1,-1,0,0,b\n",
              "1,0,0.92247,-0.19448,0.96419,-0.17674,0.87024,-0.22602,0.81702,-0.2707,0.79271,-0.28909,0.70302,-0.49639,0.63338,-0.49967,0.37254,-0.70729,0.2707,-0.72109,0.40506,-0.54172,0.33509,-0.59691,0.1475,-0.63601,0.09312,-0.59589,-0.07162,-0.54928,-0.0184,-0.54074,-0.07457,-0.47898,g\n",
              "1,0,-1,-1,-0.50694,1,1,-1,1,0.53819,0,0,0.23958,-1,1,1,0,0,1,1,1,1,0,0,-0.71528,1,0.33333,-1,1,-1,0.69792,-1,0.47569,1,b\n",
              "1,0,0.84177,0.4346,0.5,0.7616,0.09916,0.9346,-0.37764,0.88186,-0.72363,0.61181,-0.93882,0.19409,-0.86709,-0.25527,-0.62869,-0.65612,-0.25105,-0.85654,0.16245,-0.86498,0.51477,-0.66878,0.74895,-0.28903,0.77937,0.07933,0.64135,0.42827,0.31435,0.62447,-0.00422,0.69409,g\n",
              "1,0,1,1,0,0,1,-1,-1,-1,1,1,1,-1,0,0,1,-1,1,1,0,0,1,-1,-1,-1,1,1,-1,1,-1,1,0,0,b\n",
              "1,0,1,0.63548,1,1,0.77123,1,-0.33333,1,-1,1,0,1,-1,1,-1,0,-1,-0.66667,-1,-0.92536,-1,-0.33333,-0.33333,-1,0.19235,-1,1,-1,0,-1,1,-0.66667,g\n",
              "0,0,-1,1,-1,-1,0,0,-1,1,1,-1,-1,-1,-1,1,0,0,-1,-1,-1,1,0,0,1,-1,1,1,1,-1,1,1,0,0,b\n",
              "1,0,1,0.06843,1,0.14211,1,0.22108,1,-0.125,1,0.39495,1,0.48981,1,0.58986,-0.375,1,1,0,1,0.92001,1,1,1,1,1,1,1,0.25,1,1,1,1,g\n",
              "0,0,-1,-1,0,0,0,0,0,0,0,0,0,0,1,-1,0,0,-1,-1,0,0,1,1,1,-1,1,-1,0,0,0,0,0,0,b\n",
              "1,0,0.64947,-0.07896,0.58264,-0.1438,-0.13129,-0.21384,0.29796,0.04403,0.38096,-0.26339,0.28931,-0.31997,0.03459,-0.18947,0.20269,-0.29441,0.15196,-0.29052,0.09513,-0.31525,0.06556,-0.26795,0.03004,-0.25124,-0.00046,-0.2321,-0.02612,-0.21129,-0.04717,-0.1895,0.01336,-0.27201,g\n",
              "1,0,0,0,0,0,0,0,0,0,1,-0.33333,0.16667,0.26042,0,0,0,0,0,0,-0.19792,-0.21875,-0.16667,0.90625,-1,0.5,0.04167,0.75,-0.22917,-1,-0.125,-0.27083,-0.19792,-0.9375,b\n",
              "1,0,1,0.05149,0.99363,0.10123,0.96142,0.14756,0.95513,-0.26496,0.66026,0.54701,0.80426,0.25283,0.73781,0.2738,0.66775,0.28714,0.59615,0.29304,0.52494,0.292,0.45582,0.28476,0.39023,0.27226,0.3293,0.25553,0.27381,0.23568,0.22427,0.21378,0.18086,0.19083,g\n",
              "1,0,1,-0.09524,-1,-1,-1,-1,1,0.31746,0.81349,0.7619,-1,-1,-1,1,0.47364,1,1,1,0.68839,-1,-1,-1,0.82937,0.36508,1,1,1,0.50794,-1,-0.3254,-1,0.72831,b\n",
              "1,0,0.93669,-0.0019,0.60761,0.43204,0.92314,-0.40129,0.93123,0.16828,0.96197,0.09061,0.99676,0.08172,0.91586,0.05097,0.84628,-0.25324,0.87379,-0.14482,0.84871,0.26133,0.75081,-0.03641,0.84547,-0.02589,0.87293,-0.02302,0.98544,0.09385,0.78317,-0.10194,0.85841,-0.14725,g\n",
              "1,0,1,-1,1,1,1,1,1,-0.5,1,1,1,1,1,1,0,0,1,1,1,1,1,-1,1,1,1,0.625,1,-0.75,-0.75,1,1,1,b\n",
              "1,0,1,0.23058,1,-0.78509,1,-0.10401,1,0.15414,1,0.2782,0.9812,-0.06861,1,0.0661,0.95802,-0.18954,0.83584,-0.15633,0.974,0.03728,0.99624,0.09242,1,-0.01253,0.96238,-0.04597,0.91165,0.03885,1,-0.13722,0.96523,-0.11717,g\n",
              "1,0,0.36876,-1,-1,-1,-0.07661,1,1,0.95041,0.74597,-0.3871,-1,-0.79313,-0.09677,1,0.48684,0.46502,0.31755,-0.27461,-0.14343,-0.20188,-0.11976,0.06895,0.03021,0.06639,0.03443,-0.01186,-0.00403,-0.01672,-0.00761,0.00108,0.00015,0.00325,b\n",
              "1,0,0.79847,0.38265,0.80804,-0.16964,1,-0.07653,0.98151,-0.07398,0.70217,0.20663,0.99745,0.02105,0.98214,0.02487,1,-0.13074,0.95663,0.07717,1,0.00191,0.90306,0.30804,1,-0.14541,1,-0.00394,0.75638,0.07908,1,-0.1875,1,-0.0574,g\n",
              "0,0,0,0,0,0,0,0,0,0,0,0,1,1,1,1,1,-1,0,0,1,1,1,-1,1,1,1,0,1,1,1,-1,0,0,b\n",
              "1,0,1,-0.28428,1,-0.25346,0.94623,-0.35094,1,-0.30566,0.92736,-0.49057,0.90818,-0.44119,0.75723,-0.58899,0.69748,-0.58019,0.59623,-0.57579,0.68459,-0.70975,0.54465,-0.87327,0.49214,-0.73333,0.35504,-0.76054,0.26352,-0.78239,0.16604,-0.73145,0.13994,-0.7,g\n",
              "1,0,0,0,0,0,0,0,-0.85,-1,0,0,1,-1,0,0,-1,-1,-1,-1,1,-1,-0.6,-1,1,1,-1,-0.2,1,-1,0,1,0,0,b\n",
              "1,0,1,0.09091,0.95455,-0.09091,0.77273,0,1,0,0.95455,0,1,0.04545,0.90909,-0.04545,1,0,1,0,0.86364,0.09091,0.77273,0.09091,0.90909,0.04545,0.91541,0.02897,0.95455,0.09091,0.86364,-0.09091,0.86364,0.04545,g\n",
              "0,0,0,0,-1,1,1,1,-1,-1,0,0,-1,-1,-1,-0.3125,-1,-1,1,-1,1,-1,0,0,1,-1,-1,-1,0,0,1,-1,0,0,b\n",
              "1,0,0.91176,-0.08824,0.97059,0.17647,0.82353,0.08824,0.91176,-0.02941,0.97059,-0.17647,0.97059,0.14706,0.94118,0.02941,1,0,1,0,0.76471,0.11765,0.88235,0.02941,0.85294,0.02941,0.92663,0.026,0.94118,-0.11765,0.97059,0.05882,0.91176,0.05882,g\n",
              "1,0,-1,1,-1,0.15244,0.28354,1,-1,1,-1,-1,1,1,-1,-0.23476,0.28301,-1,1,1,-0.31402,-1,-1,-1,1,-1,-1,-0.03578,1,-1,-1,-0.32317,0.14939,1,b\n",
              "1,0,0.47368,-0.10526,0.83781,0.01756,0.83155,0.02615,0.68421,-0.05263,0.68421,0,0.79856,0.05028,0.78315,0.05756,0.84211,0.47368,1,0.05263,0.7255,0.07631,0.70301,0.08141,0.42105,0.21053,0.65419,0.08968,0.52632,-0.21053,0.6015,0.09534,0.57418,0.09719,g\n",
              "1,0,-0.00641,-0.5,0,0,-0.01923,1,0,0,0,0,0,0,0,0,0,0,0.3141,0.92949,-0.35256,0.74359,-0.34615,-0.80769,0,0,-0.61538,-0.51282,0,0,0,0,0,0,b\n",
              "1,0,1,0.45455,1,0.54545,0.81818,0.63636,1,-0.09091,1,0,0.81818,-0.45455,0.63636,0.27273,1,-0.63636,1,-0.27273,0.90909,-0.45455,1,0.0775,1,-0.09091,1,0.08867,1,0.36364,1,0.63636,0.72727,0.27273,g\n",
              "0,0,-1,-1,1,-1,-1,1,0,0,1,-1,1,-1,0,0,0,0,0,0,-1,1,1,-1,-1,1,1,1,0,0,1,0.5,0,0,b\n",
              "1,0,0.45455,0.09091,0.63636,0.09091,0.27273,0.18182,0.63636,0,0.36364,-0.09091,0.45455,-0.09091,0.48612,-0.01343,0.63636,-0.18182,0.45455,0,0.36364,-0.09091,0.27273,0.18182,0.36364,-0.09091,0.34442,-0.01768,0.27273,0,0.36364,0,0.28985,-0.01832,g\n",
              "1,0,-1,-0.59677,0,0,-1,0.64516,-0.87097,1,0,0,0,0,0,0,0,0,0,0,-1,-1,0,0,0.29839,0.23387,1,0.51613,0,0,0,0,0,0,b\n",
              "1,0,1,0.14286,1,0.71429,1,0.71429,1,-0.14286,0.85714,-0.14286,1,0.02534,1,0,0.42857,-0.14286,1,0.03617,1,-0.28571,1,0,0.28571,-0.28571,1,0.04891,1,0.05182,1,0.57143,1,0,g\n",
              "0,0,1,1,1,-1,1,1,1,1,1,1,1,-1,1,1,1,-1,1,-1,1,1,1,1,1,-1,1,1,1,1,1,1,1,1,b\n",
              "1,0,0.87032,0.46972,0.53945,0.82161,0.1038,0.95275,-0.38033,0.87916,-0.73939,0.58226,-0.92099,0.16731,-0.82417,-0.24942,-0.59383,-0.63342,-0.24012,-0.82881,0.18823,-0.78699,0.51557,-0.5743,0.69274,-0.24843,0.69097,0.10484,0.52798,0.39762,0.25974,0.56573,-0.06739,0.57552,g\n",
              "0,0,1,-1,1,1,1,-1,1,1,1,-1,1,-1,1,-1,1,1,1,1,1,1,1,-1,1,1,1,1,1,1,1,1,1,-1,b\n",
              "1,0,0.92657,0.04174,0.89266,0.15766,0.86098,0.19791,0.83675,0.36526,0.80619,0.40198,0.76221,0.40552,0.66586,0.4836,0.60101,0.51752,0.53392,0.5218,0.48435,0.54212,0.42546,0.55684,0.3334,0.55274,0.26978,0.54214,0.22307,0.53448,0.14312,0.49124,0.11573,0.46571,g\n",
              "0,0,1,1,1,-1,1,-1,1,1,0,0,1,-1,0,0,0,0,0,0,-1,1,1,1,0,0,1,1,0,0,-1,-1,0,0,b\n",
              "1,0,0.93537,0.13645,0.93716,0.25359,0.85705,0.38779,0.79039,0.47127,0.72352,0.59942,0.6526,0.75,0.5083,0.73586,0.41629,0.82742,0.25539,0.85952,0.13712,0.85615,0.00494,0.88869,-0.07361,0.7978,-0.20995,0.78004,-0.33169,0.71454,-0.38532,0.64363,-0.47419,0.55835,g\n",
              "0,0,1,-1,-1,1,-1,1,1,1,1,1,-1,-1,-1,-1,1,1,1,-1,-1,-1,-1,-1,1,0,1,-1,1,-1,-1,1,-1,1,b\n",
              "1,0,0.80627,0.13069,0.73061,0.24323,0.64615,0.19038,0.36923,0.45577,0.44793,0.46439,0.25,0.57308,0.25192,0.37115,0.15215,0.51877,-0.09808,0.575,-0.03462,0.42885,-0.08856,0.44424,-0.14943,0.40006,-0.1994,0.34976,-0.23832,0.29541,-0.26634,0.23896,-0.23846,0.31154,g\n",
              "0,0,1,-1,1,1,1,-1,1,1,1,-1,1,1,1,-1,1,-1,1,1,1,1,1,-1,1,-1,1,-1,1,1,1,-1,1,1,b\n",
              "1,0,0.97467,0.13082,0.9412,0.20036,0.88783,0.32248,0.89009,0.32711,0.8555,0.45217,0.72298,0.52284,0.69946,0.5882,0.58548,0.66893,0.48869,0.70398,0.44245,0.68159,0.35289,0.75622,0.26832,0.7621,0.16813,0.78541,0.07497,0.80439,-0.02962,0.77702,-0.10289,0.74242,g\n",
              "0,0,0,0,1,1,0,0,1,1,0,0,1,-1,0,0,0,0,0,0,0,0,0,0,0,0,1,-1,0,0,-1,1,0,0,b\n",
              "1,0,0.92308,0.15451,0.86399,0.29757,0.72582,0.3679,0.70588,0.5683,0.57449,0.62719,0.4327,0.74676,0.31705,0.67697,0.19128,0.76818,0.04686,0.76171,-0.12064,0.76969,-0.18479,0.71327,-0.29291,0.65708,-0.38798,0.58553,-0.46799,0.50131,-0.53146,0.40732,-0.56231,0.35095,g\n",
              "0,0,0,0,1,1,1,1,0,0,0,0,-1,-1,0,0,-1,-1,0,0,0,0,1,1,0,0,1,1,0,0,-1,1,0,0,b\n",
              "1,0,0.88804,0.38138,0.65926,0.69431,0.29148,0.87892,-0.06726,0.90135,-0.39597,0.80441,-0.64574,0.56502,-0.8296,0.26906,-0.7894,-0.08205,-0.6278,-0.30942,-0.46637,-0.55605,-0.16449,-0.64338,0.09562,-0.61055,0.30406,-0.48392,0.43227,-0.29838,0.47029,-0.09461,0.42152,0.12556,g\n",
              "0,0,1,-1,1,1,1,1,1,1,1,1,1,-1,1,1,1,1,1,-1,1,-1,1,-1,1,-1,1,1,1,-1,1,1,1,1,b\n",
              "1,0,0.73523,-0.38293,0.80151,0.10278,0.78826,0.15266,0.5558,0.05252,1,0.21225,0.71947,0.28954,0.68798,0.32925,0.49672,0.17287,0.64333,-0.02845,0.57399,0.42528,0.5312,0.44872,0.9453,0.57549,0.44174,0.482,0.12473,1,0.3507,0.49721,0.30588,0.49831,g\n",
              "0,0,0,0,0,0,0,0,0,0,0,0,0,0,0,0,0,0,0,0,0,0,0,0,0,0,1,1,0,0,0,0,0,0,b\n",
              "1,0,0.94649,0.00892,0.97287,-0.0026,0.98922,0.00372,0.95801,0.01598,0.94054,0.0353,0.97213,0.04719,0.98625,0.01858,0.94277,0.07135,0.98551,-0.00706,0.9777,0.0498,0.96358,0.07098,0.93274,0.08101,0.95243,0.04356,0.97473,0.00818,0.97845,0.07061,1,-0.0026,g\n",
              "0,0,1,1,-1,-1,-1,-1,0,0,0,0,-1,-1,0,0,0,0,0,0,-1,1,1,1,0,0,1,-1,0,0,-1,-1,-1,-1,b\n",
              "1,0,0.50466,-0.169,0.71442,0.01513,0.71063,0.02258,0.68065,0.01282,0.34615,0.05594,0.6905,0.04393,0.68101,0.05058,0.67023,0.05692,0.63403,-0.04662,0.64503,0.06856,0.63077,0.07381,0.84033,0.18065,0.59935,0.08304,0.38228,0.0676,0.56466,0.09046,0.54632,0.09346,g\n",
              "1,0,0.68729,1,0.91973,-0.76087,0.81773,0.04348,0.76087,0.10702,0.86789,0.73746,0.70067,0.18227,0.7592,0.13712,0.93478,-0.25084,0.70736,0.18729,0.64883,0.24582,0.60201,0.77425,1,-0.53846,0.89262,0.22216,0.7107,0.53846,1,-0.06522,0.56522,0.23913,b\n",
              "1,0,0.76296,-0.07778,1,-0.2963,1,-0.85741,0.8,0.06111,0.45556,-0.42778,1,-0.12581,1,-0.83519,0.49259,0.01852,0.82222,-0.05926,0.98215,-0.19938,1,0.22037,0.6963,-0.26481,0.92148,-0.24549,0.78889,0.02037,0.87492,-0.27105,1,-0.57037,g\n",
              "1,0,0.38521,0.15564,0.41245,0.07393,0.26459,0.24125,0.23346,0.1323,0.19455,0.25292,0.24514,0.36965,0.08949,0.22957,-0.03891,0.36965,0.05058,0.24903,0.24903,0.09728,0.07782,0.29961,-0.02494,0.28482,-0.06024,0.26256,-0.14786,0.14786,-0.09339,0.31128,-0.19066,0.28794,b\n",
              "1,0,0.5754,-0.03175,0.75198,-0.05357,0.61508,-0.0119,0.53968,0.03373,0.61706,0.09921,0.59127,-0.02381,0.62698,0.0119,0.70833,0.02579,0.60317,0.01587,0.47817,-0.02778,0.59127,0.0377,0.5,0.03968,0.61291,-0.01237,0.61706,-0.13492,0.68849,-0.01389,0.625,-0.03175,g\n",
              "1,0,0.06404,-0.15271,-0.04433,0.05911,0.08374,-0.02463,-0.01478,0.18719,0.06404,0,0.12315,-0.09852,0.05911,0,0.0197,-0.02956,-0.12808,-0.2069,0.06897,0.01478,0.06897,0.02956,0.07882,0.16256,0.28079,-0.04926,-0.05911,-0.0936,0.04433,0.05419,0.07389,-0.10837,b\n",
              "1,0,0.61857,0.1085,0.70694,-0.06935,0.70358,0.01678,0.74273,0.00224,0.71029,0.15772,0.71588,-0.00224,0.79754,0.066,0.83669,-0.16555,0.6868,-0.0906,0.62528,-0.01342,0.60962,0.11745,0.71253,-0.09508,0.69845,-0.01673,0.63311,0.0481,0.78859,-0.05145,0.65213,-0.04698,g\n",
              "1,0,0.25316,0.35949,0,0,-0.2962,-1,0,0,0.07595,-0.07342,0,0,0,0,0,0,0,0,0.00759,0.68101,-0.2,0.33671,-0.1038,0.35696,0.0557,-1,0,0,0.06329,-1,0,0,b\n",
              "1,0,0.88103,-0.00857,0.89818,-0.02465,0.94105,-0.01822,0.89175,-0.12755,0.82208,-0.10932,0.88853,0.01179,0.90782,-0.13719,0.87138,-0.06109,0.90782,-0.02358,0.87996,-0.14577,0.82851,-0.12433,0.90139,-0.19507,0.88245,-0.14903,0.84352,-0.12862,0.88424,-0.18542,0.91747,-0.16827,g\n",
              "1,0,0.42708,-0.5,0,0,0,0,0.46458,0.51042,0.58958,0.02083,0,0,0,0,0.16458,-0.45417,0.59167,-0.18333,0,0,0,0,0.9875,-0.40833,-1,-1,-0.27917,-0.75625,0,0,0,0,b\n",
              "1,0,0.88853,0.01631,0.92007,0.01305,0.92442,0.01359,0.89179,-0.10223,0.90103,-0.08428,0.9304,-0.01033,0.93094,-0.08918,0.86025,-0.05057,0.89451,-0.04024,0.88418,-0.12126,0.88907,-0.11909,0.8298,-0.14138,0.86453,-0.11808,0.85536,-0.13051,0.83524,-0.12452,0.86786,-0.12235,g\n",
              "1,0,0,0,1,0.12889,0.88444,-0.02,0,0,1,-0.42444,1,0.19556,1,-0.05333,1,-0.81556,0,0,1,-0.04,1,-0.18667,0,0,1,-1,0,0,1,0.11778,0.90667,-0.09556,b\n",
              "1,0,0.81143,0.03714,0.85143,-0.00143,0.79,0.00714,0.79571,-0.04286,0.87571,0,0.85571,-0.06714,0.86429,0.00286,0.82857,-0.05429,0.81,-0.11857,0.76857,-0.08429,0.84286,-0.05,0.77,-0.06857,0.81598,-0.08669,0.82571,-0.10429,0.81429,-0.05,0.82143,-0.15143,g\n",
              "1,0,0,0,0,0,0,0,0,0,0,0,-1,1,1,0.55172,0,0,0,0,0,0,0,0,0,0,1,1,0,0,0,0,0,0,b\n",
              "1,0,0.4987,0.01818,0.43117,-0.0961,0.50649,-0.04156,0.5013,0.0961,0.44675,0.05974,0.55844,-0.11948,0.51688,-0.03636,0.52727,-0.05974,0.55325,-0.01039,0.48571,-0.03377,0.49091,-0.01039,0.59221,0,0.53215,-0.0328,0.43117,0.03377,0.54545,-0.05455,0.58961,-0.08571,g\n",
              "0,0,0,0,0,0,0,0,0,0,0,0,0,0,0,0,0,0,0,0,0,0,0,0,0,0,1,-1,0,0,0,0,0,0,b\n",
              "1,0,1,0.5,1,0.25,0.25,1,0.16851,0.9118,-0.13336,0.80454,-0.34107,0.60793,-0.4382,0.37856,-0.43663,0.16709,-0.36676,0.00678,-0.26477,-0.09025,-0.16178,-0.12964,-0.07782,-0.12744,-0.02089,-0.10242,0.01033,-0.07036,0.02224,-0.04142,0.02249,-0.02017,g\n",
              "1,0,0,0,0,0,1,1,-1,-1,0,0,1,-0.11111,0,0,0,0,-1,1,1,1,1,-1,0,0,1,-1,0,0,0,0,1,1,b\n",
              "1,0,0.87048,0.38027,0.64099,0.69212,0.31347,0.86625,-0.03933,0.9074,-0.42173,0.79346,-0.70561,0.5156,-0.81049,0.22735,-0.81136,-0.12539,-0.67474,-0.38102,-0.38334,-0.62861,-0.13013,-0.70762,0.15552,-0.66421,0.38544,-0.51568,0.52573,-0.29897,0.56239,-0.05938,0.5146,0.16645,g\n",
              "1,0,0,0,0,0,0,0,-1,1,0,0,1,0.37333,-0.12,-0.12,0,0,-1,-1,0,0,1,-1,0,0,1,0.22667,0,0,0,0,0,0,b\n",
              "1,0,0.88179,0.43491,0.59573,0.77655,0.19672,0.94537,-0.24103,0.92544,-0.62526,0.71257,-0.86443,0.33652,-0.92384,-0.05338,-0.77356,-0.44707,-0.4695,-0.73285,-0.10237,-0.82217,0.26384,-0.7757,0.55984,-0.5591,0.72147,-0.24433,0.72478,0.09599,0.58137,0.38915,0.34749,0.57656,g\n",
              "1,0,0.32834,0.0252,0.15236,0.21278,0.14919,0.74003,-0.25706,0.92324,-0.10312,0.1938,-0.61352,0.25786,-0.94053,-0.05409,-0.13117,-0.14329,-0.30315,-0.44615,-0.11409,-0.85597,0.02668,-0.22786,0.27942,-0.06295,0.33737,-0.11876,0.27657,-0.11409,0.15078,0.13296,0.12197,0.20468,g\n",
              "1,0,0.83427,0.39121,0.5404,0.78579,0.12326,0.89402,-0.33221,0.83578,-0.70086,0.59564,-0.86622,0.21909,-0.84442,-0.24164,-0.59714,-0.61894,-0.19354,-0.87787,0.12439,-0.89064,0.51109,-0.72454,0.79143,-0.27734,0.83008,0.08718,0.66592,0.49079,0.37542,0.70011,-0.03983,0.79444,g\n",
              "1,0,0.62335,-0.0349,0.59085,0.00481,0.60409,-0.07461,0.63177,0.00963,0.62455,-0.07461,0.67028,0.0722,0.62936,-0.08424,0.67509,0.09146,0.67148,0,0.58965,0.10108,0.5006,0.03129,0.65945,0.14079,0.60463,0.02019,0.51384,0.04452,0.61733,-0.00963,0.61372,-0.09146,g\n",
              "1,0,0.74449,-0.0239,0.70772,0.03309,0.72243,0.16912,0.79228,0.07721,0.81434,0.43934,0.63787,0.00551,0.70772,0.21691,1,0.06066,0.61029,0.05147,0.67463,0.04228,0.52022,-0.25,0.72978,-0.15809,0.61727,0.07124,0.30882,0.0864,0.55916,0.07458,0.60294,0.21691,g\n",
              "1,0,0.61538,0.18923,0.78157,0.0178,0.77486,0.02647,0.65077,-0.10308,0.77538,0.08,0.73961,0.0506,0.72322,0.05776,0.68615,-0.08923,0.61692,0.16308,0.66233,0.07573,0.63878,0.08041,0.60154,-0.07231,0.58803,0.08767,0.55077,0.25692,0.53389,0.09207,0.50609,0.09322,g\n",
              "1,0,0.68317,0.05375,0.84803,0.00202,0.84341,0.00301,0.843,0.09901,0.75813,0.04102,0.81892,0.00585,0.80738,0.00673,0.80622,-0.12447,0.77935,-0.03536,0.76365,0.00909,0.74635,0.00978,0.79632,-0.04243,0.70824,0.01096,0.62235,0.11598,0.66624,0.0119,0.64407,0.01227,g\n",
              "1,0,0.5,0,0.38696,0.10435,0.4913,0.06522,0.46957,-0.03913,0.35652,-0.12609,0.45652,0.04783,0.50435,0.02609,0.35652,0.19565,0.42174,0.14783,0.42174,-0.02609,0.32174,-0.11304,0.47391,-0.0087,0.41789,0.06908,0.38696,0.03913,0.35217,0.14783,0.44783,0.17391,g\n",
              "1,0,0.7983,0.09417,0.78129,0.20656,0.71628,0.28068,0.6932,0.41252,0.65917,0.50122,0.57898,0.60814,0.4921,0.58445,0.33354,0.67861,0.29587,0.63548,0.09599,0.68104,0.02066,0.72236,-0.08748,0.63183,-0.11925,0.60696,-0.18226,0.56015,-0.25516,0.51701,-0.27339,0.42467,g\n",
              "1,0,1,0.09802,1,0.25101,0.9839,0.33044,0.80365,0.5302,0.74977,0.60297,0.56937,0.71942,0.55311,0.74079,0.29452,0.82193,0.21137,0.79777,0.09709,0.82162,-0.01734,0.7987,-0.15144,0.75596,-0.22839,0.69187,-0.31713,0.60948,-0.40291,0.54522,-0.42815,0.44534,g\n",
              "1,0,0.8941,0.13425,0.87001,0.31543,0.78896,0.43388,0.63388,0.59975,0.54003,0.71016,0.39699,0.76161,0.24266,0.79523,0.09134,0.79598,-0.09159,0.76261,-0.20201,0.66926,-0.30263,0.6261,-0.40552,0.50489,-0.46215,0.40753,-0.50314,0.27252,-0.52823,0.19172,-0.48808,0.05972,g\n",
              "1,0,0.94631,0.17498,0.90946,0.33143,0.85096,0.4996,0.73678,0.63842,0.59215,0.73838,0.48698,0.83614,0.30459,0.90665,0.17959,0.93429,-0.00701,0.93109,-0.1888,0.89383,-0.33023,0.82492,-0.46534,0.76482,-0.58563,0.66335,-0.67929,0.52564,-0.75321,0.42488,-0.8121,0.26092,g\n",
              "1,0,0.91767,0.18198,0.8609,0.35543,0.72873,0.45747,0.60425,0.69865,0.50376,0.74922,0.361,0.81795,0.15664,0.83558,0.00396,0.8521,-0.1639,0.77853,-0.35996,0.76193,-0.43087,0.65385,-0.5314,0.53886,-0.60328,0.40972,-0.64511,0.27338,-0.6571,0.13667,-0.64056,0.05394,g\n",
              "1,0,0.76627,0.21106,0.63935,0.38112,0.48409,0.525,0.15,0.22273,0.13753,0.59565,-0.07727,0.44545,0,0.48636,-0.27491,0.42014,-0.56136,0.36818,-0.36591,0.18864,-0.40533,0.07588,-0.38483,-0.03229,-0.33942,-0.12486,-0.2754,-0.19714,-0.19962,-0.24648,-0.11894,-0.27218,g\n",
              "1,0,0.5894,-0.60927,0.8543,0.55298,0.81126,0.07285,0.56623,0.16225,0.32781,0.24172,0.50331,0.12252,0.63907,0.19868,0.71854,0.42715,0.54305,0.13907,0.65232,0.27815,0.68874,0.07285,0.51872,0.26653,0.49013,0.27687,0.46216,0.28574,0.43484,0.29324,0.40821,0.29942,g\n",
              "1,0,1,0.11385,0.70019,-0.12144,0.81594,0.09677,0.71157,0.01139,0.56167,-0.0778,0.6907,0.12524,0.58634,0.03985,0.53131,-0.03416,0.6945,0.16888,0.72676,0.07211,0.32068,0.05882,0.53321,0.37381,0.4909,0.17951,0.1518,0.32448,0.44141,0.18897,0.56167,0.1518,g\n",
              "1,0,0.84843,0.06794,0.80562,-0.02299,0.77031,-0.03299,0.66725,-0.0662,0.59582,-0.07666,0.6726,-0.05771,0.6426,-0.06438,0.39199,0.0453,0.71254,0.01394,0.5597,-0.08039,0.5343,-0.08453,0.47038,-0.22822,0.48659,-0.09128,0.52613,-0.08537,0.44277,-0.09621,0.42223,-0.09808,g\n",
              "1,0,1,0.08013,0.96775,-0.00482,0.96683,-0.00722,0.8798,-0.03923,1,0.01419,0.96186,-0.01436,0.95947,-0.01671,0.98497,0.01002,0.91152,-0.08848,0.95016,-0.02364,0.94636,-0.02591,0.98164,0.02003,0.93772,-0.03034,1,-0.05843,0.92774,-0.03464,0.92226,-0.03673,g\n",
              "1,0,0.47938,-0.12371,0.42784,-0.12371,0.70103,-0.39175,0.73196,0.07216,0.26289,-0.21649,0.49485,0.15979,0.45361,-0.11856,0.42268,0.06186,0.5,-0.2732,0.54639,0.18557,0.42268,0.08247,0.70619,0.19588,0.53396,-0.12447,0.15464,-0.26289,0.47423,0.04124,0.45361,-0.51546,g\n",
              "1,0,0.6351,-0.04388,0.7653,0.02968,0.61432,0.36028,0.65358,-0.00462,0.64203,0.08314,0.79446,-0.43418,0.72517,0.54965,0.59584,0.13857,0.6351,0.2194,0.63279,-0.25404,0.70951,0.15359,0.64665,0.23095,0.68775,0.17704,0.61663,0.07621,0.66316,0.19841,0.69053,0.36721,g\n",
              "1,0,0.50112,-0.03596,0.61124,0.01348,0.58876,0.01573,0.58876,0.02472,0.66742,-0.00449,0.71685,-0.04719,0.66517,0.00899,0.57303,0.02472,0.64719,-0.07416,0.56854,0.14157,0.57528,-0.03596,0.46517,0.04944,0.56588,0.00824,0.4764,-0.03596,0.54607,0.10562,0.60674,-0.0809,g\n",
              "1,0,0.71521,-0.00647,0.66667,-0.04207,0.63107,-0.05178,0.77994,0.08091,0.67314,0.09709,0.64725,0.15858,0.60194,-0.01942,0.54369,-0.04531,0.46926,-0.10032,0.64725,0.14887,0.39159,0.21683,0.52427,-0.05502,0.45105,0.0004,0.31392,-0.06796,0.49191,-0.1068,0.30421,-0.05178,g\n",
              "1,0,0.68148,0.1037,0.77037,0.03457,0.65185,0.08148,0.60988,-0.00494,0.79012,0.11852,0.59753,0.04938,0.62469,0.0963,0.78272,-0.17531,0.73827,-0.10864,0.48642,0.00988,0.60988,0.08148,0.66667,-0.1284,0.63773,-0.02451,0.76543,0.02222,0.61235,-0.0716,0.51358,-0.04691,g\n",
              "1,0,0.60678,-0.02712,0.67119,0.04068,0.52881,-0.04407,0.50508,0.03729,0.70508,-0.07797,0.57966,-0.02034,0.5322,0.07797,0.64068,0.11864,0.56949,-0.02373,0.5322,0.00678,0.71525,-0.0339,0.52881,-0.0339,0.57262,0.0075,0.58644,-0.00339,0.58983,-0.02712,0.50169,0.0678,g\n",
              "1,0,0.49515,0.09709,0.29612,0.05825,0.34951,0,0.57282,-0.02427,0.58252,0.02427,0.33495,0.04854,0.52427,0.00485,0.47087,-0.1068,0.43204,0.00485,0.34951,0.05825,0.18932,0.25728,0.31068,-0.15049,0.36547,0.03815,0.3932,0.17476,0.26214,0,0.37379,-0.01942,g\n",
              "1,0,0.98822,0.02187,0.93102,0.341,0.83904,0.35222,0.74706,0.48906,0.73584,0.51879,0.55076,0.60179,0.4313,0.66237,0.318,0.70443,0.28379,0.68873,0.07515,0.73696,0.06338,0.71284,-0.16489,0.69714,-0.16556,0.6051,-0.16209,0.55805,-0.34717,0.44195,-0.33483,0.37465,g\n",
              "1,0,0.97905,0.1581,0.90112,0.35237,0.82039,0.48561,0.7176,0.64888,0.58827,0.73743,0.40349,0.83156,0.2514,0.84804,0.047,0.85475,-0.12193,0.79749,-0.2618,0.80754,-0.37835,0.71676,-0.51034,0.58324,-0.57587,0.4604,-0.61899,0.30796,-0.65754,0.18345,-0.64134,0.02968,g\n",
              "1,0,0.99701,0.21677,0.91966,0.4703,0.76902,0.62415,0.53312,0.7812,0.36774,0.88291,0.10107,0.83312,-0.06827,0.89274,-0.28269,0.72073,-0.43707,0.61688,-0.55769,0.4812,-0.65,0.35534,-0.64658,0.15908,-0.66651,0.02277,-0.64872,-0.13462,-0.54615,-0.22949,-0.47201,-0.35032,g\n",
              "1,0,0.94331,0.19959,0.96132,0.40803,0.80514,0.56569,0.56687,0.7083,0.41836,0.8323,0.14939,0.89489,0.05167,0.93682,-0.24742,0.83939,-0.42811,0.75554,-0.50251,0.62563,-0.65515,0.50428,-0.68851,0.30912,-0.77097,0.15619,-0.75406,-0.04399,-0.75199,-0.17921,-0.66932,-0.34367,g\n",
              "1,0,0.93972,0.28082,0.80486,0.52821,0.58167,0.73151,0.34961,0.80511,0.10797,0.90403,-0.20015,0.89335,-0.3973,0.82163,-0.58835,0.62867,-0.76305,0.40368,-0.81262,0.18888,-0.81317,-0.04284,-0.75273,-0.26883,-0.63237,-0.46438,-0.46422,-0.61446,-0.26389,-0.70835,-0.08937,-0.71273,g\n",
              "1,0,0.89835,0.35157,0.67333,0.62233,0.43898,0.94353,-0.03643,0.8051,-0.22838,0.75334,-0.25137,0.48816,-0.57377,0.28415,-0.6675,0.10591,-0.47359,-0.06193,-0.81056,-0.06011,-0.33197,-0.47592,-0.12897,-0.5362,0.07158,-0.51925,0.24321,-0.43478,0.36586,-0.30057,0.42805,0.13297,g\n",
              "1,0,0.29073,0.10025,0.23308,0.17293,0.03759,0.34336,0.1203,0.26316,0.06266,0.21303,-0.04725,0.12767,-0.06333,0.07907,-0.06328,0.04097,-0.05431,0.01408,-0.04166,-0.0028,-0.02876,-0.01176,-0.01755,-0.01505,-0.00886,-0.01475,-0.0028,-0.0125,0.00096,-0.00948,0.0029,-0.00647,g\n",
              "1,0,0.58459,-0.35526,1,0.35338,0.75376,-0.00564,0.82519,0.19361,0.50188,-0.27632,0.65977,0.06391,0.69737,0.14662,0.72368,-0.42669,0.76128,0.04511,0.66917,0.20489,0.84774,-0.40977,0.6485,-0.04699,0.56836,-0.10571,0.5282,-0.13346,0.15602,-0.12218,0.44767,-0.10309,g\n",
              "1,0,0.83609,0.13215,0.72171,0.06059,0.65829,0.08315,0.23888,0.12961,0.43837,0.2033,0.49418,0.12686,0.44747,0.13507,0.29352,0.02922,0.48158,0.15756,0.32835,0.14616,0.29495,0.14638,0.26436,0.1453,0.23641,0.14314,0.26429,0.16137,0.18767,0.13632,0.16655,0.13198,g\n",
              "1,0,0.9408,0.11933,0.85738,0.01038,0.85124,0.01546,0.76966,-0.00278,0.84459,0.10916,0.83289,0.03027,0.8268,0.03506,0.74838,0.01943,0.80019,0.02405,0.80862,0.04901,0.80259,0.05352,0.77336,0.0222,0.79058,0.06235,0.85939,0.09251,0.77863,0.0709,0.77269,0.07508,g\n",
              "1,0,0.87111,0.04326,0.79946,0.18297,0.99009,0.29292,0.89455,-0.08337,0.88598,-0.02028,0.90446,-0.26724,0.8941,0.19964,0.88644,-0.04642,0.84452,-0.00991,0.97882,-0.34024,0.78954,-0.25101,0.86661,-0.09193,0.85967,-0.02908,0.78774,-0.04101,0.75935,0.21812,0.88238,0.09193,g\n",
              "1,0,0.74916,0.02549,0.98994,0.09792,0.75855,0.12877,0.74313,-0.09188,0.95842,0.02482,0.97921,-0.00469,0.9611,0.10195,0.91482,0.03756,0.71026,0.02683,0.81221,-0.08048,1,0,0.71764,-0.01207,0.82271,0.02552,0.72435,-0.01073,0.90409,0.11066,0.72837,0.0275,g\n",
              "1,0,0.47337,0.19527,0.06213,-0.18343,0.62316,0.01006,0.45562,-0.04438,0.56509,0.01775,0.44675,0.27515,0.71598,-0.03846,0.55621,0.12426,0.4142,0.11538,0.52767,0.02842,0.51183,-0.10651,0.47929,-0.02367,0.46514,0.03259,0.5355,0.25148,0.31953,-0.14497,0.34615,-0.00296,g\n",
              "1,0,0.59887,0.14689,0.69868,-0.13936,0.85122,-0.13936,0.80979,0.02448,0.50471,0.02825,0.6742,-0.0452,0.80791,-0.13748,0.51412,-0.24482,0.81544,-0.14313,0.70245,-0.00377,0.33333,0.06215,0.56121,-0.33145,0.61444,-0.16837,0.52731,-0.02072,0.53861,-0.31262,0.6742,-0.22034,g\n",
              "1,0,0.84713,-0.03397,0.86412,-0.08493,0.81953,0,0.73673,-0.07643,0.71975,-0.13588,0.74947,-0.11677,0.77495,-0.18684,0.78132,-0.21231,0.61996,-0.10191,0.79193,-0.15711,0.89384,-0.03397,0.84926,-0.26115,0.74115,-0.23312,0.66242,-0.22293,0.72611,-0.37792,0.65817,-0.24841,g\n",
              "1,0,0.87772,-0.08152,0.83424,0.07337,0.84783,0.04076,0.77174,-0.02174,0.77174,-0.05707,0.82337,-0.10598,0.67935,-0.00543,0.88043,-0.20924,0.83424,0.03261,0.86413,-0.05978,0.97283,-0.27989,0.85054,-0.1875,0.83705,-0.10211,0.8587,-0.03261,0.78533,-0.1087,0.79076,-0.00543,g\n",
              "1,0,0.74704,-0.13241,0.53755,0.16996,0.72727,0.09486,0.69565,-0.11067,0.66798,-0.23518,0.87945,-0.1917,0.73715,0.0415,0.63043,-0.00395,0.63636,-0.11858,0.79249,-0.25296,0.66403,-0.28656,0.67194,-0.10474,0.61847,-0.12041,0.60079,-0.20949,0.37549,0.06917,0.61067,-0.01383,g\n",
              "1,0,0.46785,0.11308,0.5898,0.00665,0.55432,0.06874,0.47894,-0.13969,0.52993,0.0133,0.63858,-0.16186,0.67849,-0.03326,0.54545,-0.13525,0.52993,-0.04656,0.47894,-0.19512,0.50776,-0.13525,0.41463,-0.20177,0.5393,-0.11455,0.59867,-0.02882,0.53659,-0.11752,0.56319,-0.04435,g\n",
              "1,0,0.88116,0.27475,0.72125,0.42881,0.61559,0.63662,0.38825,0.90502,0.09831,0.96128,-0.20097,0.892,-0.35737,0.775,-0.65114,0.6221,-0.78768,0.45535,-0.81856,0.19095,-0.83943,-0.08079,-0.78334,-0.26356,-0.67557,-0.45511,-0.54732,-0.60858,-0.30512,-0.667,-0.19312,-0.75597,g\n",
              "1,0,0.93147,0.29282,0.79917,0.55756,0.59952,0.71596,0.26203,0.92651,0.04636,0.96748,-0.23237,0.9513,-0.55926,0.81018,-0.73329,0.62385,-0.90995,0.362,-0.92254,0.0604,-0.93618,-0.19838,-0.83192,-0.46906,-0.65165,-0.69556,-0.41223,-0.85725,-0.1359,-0.93953,0.10007,-0.94823,g\n",
              "1,0,0.88241,0.30634,0.73232,0.57816,0.34109,0.58527,0.05717,1,-0.09238,0.92118,-0.62403,0.71996,-0.69767,0.32558,-0.81422,0.41195,-1,-0.00775,-0.78973,-0.41085,-0.76901,-0.45478,-0.57242,-0.67605,-0.3161,-0.81876,-0.02979,-0.86841,0.25392,-0.82127,0.00194,-0.81686,g\n",
              "1,0,0.83479,0.28993,0.69256,0.47702,0.49234,0.68381,0.21991,0.86761,-0.08096,0.85011,-0.35558,0.77681,-0.52735,0.58425,-0.7035,0.31291,-0.75821,0.03939,-0.71225,-0.15317,-0.58315,-0.39168,-0.37199,-0.52954,-0.1695,-0.60863,0.08425,-0.61488,0.25164,-0.48468,0.40591,-0.35339,g\n",
              "1,0,0.9287,0.33164,0.76168,0.62349,0.49305,0.84266,0.21592,0.95193,-0.13956,0.96167,-0.47202,0.8359,-0.70747,0.6549,-0.87474,0.3675,-0.91814,0.05595,-0.89824,-0.26173,-0.73969,-0.54069,-0.50757,-0.74735,-0.22323,-0.86122,0.0781,-0.87159,0.36021,-0.78057,0.59407,-0.6027,g\n",
              "1,0,0.83367,0.31456,0.65541,0.57671,0.34962,0.70677,0.17293,0.78947,-0.18976,0.79886,-0.41729,0.66541,-0.68421,0.47744,-0.74725,0.19492,-0.7218,-0.04887,-0.6203,-0.28195,-0.49165,-0.53463,-0.26577,-0.66014,-0.0153,-0.69706,0.22708,-0.64428,0.431,-0.51206,0.64662,-0.30075,g\n",
              "1,0,0.98455,-0.02736,0.98058,-0.04104,1,-0.07635,0.9872,0.01456,0.95278,-0.02604,0.985,-0.07458,0.99382,-0.07149,0.97396,-0.09532,0.97264,-0.12224,0.99294,-0.05252,0.95278,-0.08914,0.97352,-0.08341,0.96653,-0.12912,0.93469,-0.14916,0.97132,-0.15755,0.96778,-0.188,g\n",
              "1,0,0.94052,-0.01531,0.9417,0.01001,0.94994,-0.01472,0.95878,-0.0106,0.94641,-0.0371,0.97173,-0.01767,0.97055,-0.03887,0.95465,-0.04064,0.9523,-0.04711,0.94229,-0.02179,0.92815,-0.04417,0.92049,-0.04476,0.92695,-0.05827,0.90342,-0.07479,0.91991,-0.07244,0.92049,-0.0742,g\n",
              "1,0,0.97032,-0.14384,0.91324,-0.00228,0.96575,-0.17123,0.9863,0.18265,0.91781,0.00228,0.93607,-0.08447,0.91324,-0.00228,0.86758,-0.08676,0.97032,-0.21233,1,0.10274,0.92009,-0.05251,0.92466,0.06849,0.94043,-0.09252,0.97032,-0.20091,0.85388,-0.08676,0.96575,-0.21918,g\n",
              "1,0,0.52542,-0.0339,0.94915,0.08475,0.52542,-0.16949,0.30508,-0.01695,0.50847,-0.13559,0.64407,0.28814,0.83051,-0.35593,0.54237,0.01695,0.55932,0.0339,0.59322,0.30508,0.86441,0.05085,0.40678,0.15254,0.67287,-0.00266,0.66102,-0.0339,0.83051,-0.15254,0.76271,-0.10169,g\n",
              "1,0,0.33333,-0.25,0.44444,0.22222,0.38889,0.16667,0.41667,0.13889,0.5,-0.11111,0.54911,-0.08443,0.58333,0.33333,0.55556,0.02778,0.25,-0.19444,0.47222,-0.05556,0.52778,-0.02778,0.38889,0.08333,0.41543,-0.14256,0.19444,-0.13889,0.36924,-0.14809,0.08333,-0.5,g\n",
              "1,0,0.51207,1,1,0.5381,0.71178,0.80833,0.45622,0.46427,0.33081,1,0.21249,1,-0.17416,1,-0.33081,0.98722,-0.61382,1,-0.52674,0.71699,-0.885,0.47894,-1,0.35175,-1,0.09569,-1,-0.16713,-1,-0.42226,-0.91903,-0.65557,g\n",
              "1,0,0.75564,0.49638,0.8355,0.54301,0.54916,0.72063,0.35225,0.70792,0.13469,0.94749,-0.09818,0.93778,-0.37604,0.82223,-0.52742,0.71161,-0.68358,0.67989,-0.70163,0.24956,-0.79147,0.02995,-0.98988,-0.29099,-0.70352,-0.32792,-0.63312,-0.19185,-0.34131,-0.60454,-0.19609,-0.62956,g\n",
              "1,0,0.83789,0.42904,0.72113,0.58385,0.45625,0.78115,0.1647,0.82732,-0.13012,0.86947,-0.46177,0.78497,-0.59435,0.5207,-0.7847,0.26529,-0.84014,0.03928,-0.62041,-0.31351,-0.47412,-0.48905,-0.37298,-0.67796,-0.05054,-0.62691,0.1469,-0.45911,0.37093,-0.39167,0.48319,-0.24313,g\n",
              "1,0,0.93658,0.35107,0.75254,0.6564,0.45571,0.88576,0.15323,0.95776,-0.21775,0.96301,-0.56535,0.83397,-0.78751,0.58045,-0.93104,0.2602,-0.93641,-0.06418,-0.87028,-0.40949,-0.65079,-0.67464,-0.36799,-0.84951,-0.04578,-0.91221,0.2733,-0.85762,0.54827,-0.69613,0.74828,-0.44173,g\n",
              "1,0,0.92436,0.36924,0.71976,0.6842,0.29303,0.94078,-0.11108,0.76527,-0.31605,0.92453,-0.66616,0.78766,-0.92145,0.42314,-0.94315,0.09585,-1,0.03191,-0.66431,-0.66278,-0.4601,-0.78174,-0.13486,-0.88082,0.19765,-0.85137,0.48904,-0.70247,0.69886,-0.46048,0.76066,-0.13194,g\n",
              "1,0,1,0.16195,1,-0.05558,1,0.01373,1,-0.12352,1,-0.01511,1,-0.01731,1,-0.06374,1,-0.07157,1,0.059,1,-0.10108,1,-0.02685,1,-0.22978,1,-0.06823,1,0.08299,1,-0.14194,1,-0.07439,g\n",
              "1,0,0.95559,-0.00155,0.86421,-0.13244,0.94982,-0.00461,0.82809,-0.51171,0.92441,0.10368,1,-0.14247,0.99264,-0.02542,0.95853,-0.15518,0.84013,0.61739,1,-0.16321,0.87492,-0.08495,0.85741,-0.01664,0.84132,-0.01769,0.82427,-0.01867,0.80634,-0.01957,0.78761,-0.02039,g\n",
              "1,0,0.79378,0.29492,0.64064,0.52312,0.41319,0.68158,0.14177,0.83548,-0.16831,0.78772,-0.42911,0.72328,-0.57165,0.41471,-0.75436,0.16755,-0.69977,-0.09856,-0.57695,-0.23503,-0.40637,-0.38287,-0.17437,-0.5254,0.01523,-0.48707,0.1903,-0.38059,0.31008,-0.23199,0.34572,-0.08036,g\n",
              "1,0,0.88085,0.35232,0.68389,0.65128,0.34816,0.79784,0.05832,0.90842,-0.29784,0.8649,-0.62635,0.6959,-0.77106,0.39309,-0.85803,0.08408,-0.81641,-0.24017,-0.64579,-0.50022,-0.39766,-0.68337,-0.11147,-0.75533,0.17041,-0.71504,0.40675,-0.57649,0.56626,-0.36765,0.62765,-0.13305,g\n",
              "1,0,0.89589,0.39286,0.66129,0.71804,0.29521,0.90824,-0.04787,0.94415,-0.45725,0.84605,-0.7766,0.58511,-0.92819,0.25133,-0.92282,-0.15315,-0.76064,-0.48404,-0.50931,-0.76197,-0.14895,-0.88591,0.21581,-0.85703,0.53229,-0.68593,0.74846,-0.40656,0.83142,-0.07029,0.76862,0.27926,g\n",
              "1,0,1,-0.24051,1,-0.20253,0.87342,-0.10127,0.88608,0.01266,1,0.11392,0.92405,0.06329,0.8481,-0.03797,0.63291,-0.36709,0.87342,-0.01266,0.93671,0.06329,1,0.25316,0.62025,-0.37975,0.84637,-0.0554,1,-0.06329,0.53165,0.02532,0.83544,-0.02532,g\n",
              "1,0,0.7479,0.0084,0.83312,0.01659,0.82638,0.02469,0.86555,0.01681,0.60504,0.05882,0.79093,0.04731,0.77441,0.05407,0.64706,0.19328,0.84034,0.04202,0.71285,0.07122,0.68895,0.07577,0.66387,0.08403,0.63728,0.08296,0.61345,0.01681,0.58187,0.08757,0.5533,0.08891,g\n",
              "1,0,0.85013,0.01809,0.92211,0.01456,0.92046,0.0218,0.92765,0.0801,0.87597,0.1137,0.91161,0.0432,0.90738,0.05018,0.87339,0.02842,0.95866,0,0.89097,0.07047,0.8843,0.07697,0.83721,0.10853,0.86923,0.0895,0.87597,0.08786,0.85198,0.10134,0.84258,0.10698,g\n",
              "1,0,1,-0.01179,1,-0.00343,1,-0.01565,1,-0.01565,1,-0.02809,1,-0.02187,0.99828,-0.03087,0.99528,-0.03238,0.99314,-0.03452,1,-0.03881,1,-0.05039,1,-0.04931,0.99842,-0.05527,0.994,-0.06304,0.99057,-0.06497,0.98971,-0.06668,g\n",
              "1,0,0.89505,-0.03168,0.87525,0.05545,0.89505,0.01386,0.92871,0.02772,0.91287,-0.0099,0.94059,-0.01584,0.91881,0.03366,0.93663,0,0.94257,0.01386,0.90495,0.00792,0.88713,-0.01782,0.89307,0.02376,0.89002,0.01611,0.88119,0.00198,0.87327,0.04158,0.86733,0.02376,g\n",
              "1,0,0.90071,0.01773,1,-0.01773,0.90071,0.00709,0.84752,0.05674,1,0.03546,0.97872,0.01064,0.97518,0.03546,1,-0.03191,0.89716,-0.03191,0.8617,0.07801,1,0.0922,0.90071,0.0461,0.94305,0.03247,0.94681,0.02482,1,0.01064,0.93617,0.02128,g\n",
              "1,0,0.39394,-0.24242,0.62655,0.0127,0.45455,0.09091,0.63636,0.09091,0.21212,-0.21212,0.57576,0.15152,0.39394,0,0.56156,0.04561,0.51515,0.0303,0.78788,0.18182,0.30303,-0.15152,0.48526,0.05929,0.46362,0.06142,0.33333,-0.0303,0.41856,0.0641,0.39394,0.24242,g\n",
              "1,0,0.86689,0.3595,0.72014,0.66667,0.37201,0.83049,0.08646,0.85893,-0.24118,0.86121,-0.51763,0.67577,-0.68714,0.41524,-0.77019,0.09898,-0.69397,-0.13652,-0.49488,-0.42207,-0.32537,-0.57679,-0.02844,-0.59954,0.1536,-0.53127,0.32309,-0.37088,0.46189,-0.19681,0.40956,0.0182,g\n",
              "1,0,0.89563,0.37917,0.67311,0.69438,0.35916,0.88696,-0.04193,0.93345,-0.38875,0.84414,-0.67274,0.62078,-0.8268,0.30356,-0.8615,-0.05365,-0.73564,-0.34275,-0.51778,-0.62443,-0.23428,-0.73855,0.06911,-0.73856,0.33531,-0.62296,0.52414,-0.42086,0.61217,-0.17343,0.60073,0.0866,g\n",
              "1,0,0.90547,0.41113,0.65354,0.74761,0.29921,0.95905,-0.13342,0.9782,-0.52236,0.83263,-0.79657,0.55086,-0.96631,0.15192,-0.93001,-0.25554,-0.71863,-0.59379,-0.41546,-0.85205,-0.0225,-0.93788,0.36318,-0.85368,0.67538,-0.61959,0.85977,-0.28123,0.88654,0.098,0.75495,0.46301,g\n",
              "1,0,1,1,0.367,0.06158,0.12993,0.92713,-0.27586,0.93596,-0.31527,0.37685,-0.87192,0.36946,-0.92857,-0.08867,-0.38916,-0.34236,-0.46552,-0.82512,-0.05419,-0.93596,0.25616,-0.20443,0.73792,-0.4595,0.85471,-0.06831,1,1,0.3867,0.00246,0.17758,0.7979,g\n",
              "1,0,1,0.51515,0.45455,0.33333,0.06061,0.36364,-0.32104,0.73062,-0.45455,0.48485,-0.57576,0,-0.57576,-0.12121,-0.33333,-0.48485,-0.09091,-0.84848,0.48485,-0.57576,0.57576,-0.42424,1,-0.39394,0.72961,0.12331,0.9697,0.57576,0.24242,0.36364,0.09091,0.33333,g\n",
              "1,0,0.8811,0,0.94817,-0.02744,0.93598,-0.0122,0.90244,0.01829,0.90244,0.01829,0.93902,0.00915,0.95732,0.00305,1,0.02744,0.94207,-0.0122,0.90854,0.02439,0.91463,0.05488,0.99695,0.04878,0.89666,0.02226,0.90854,0.00915,1,0.05488,0.97561,-0.0122,g\n",
              "1,0,0.82624,0.08156,0.79078,-0.08156,0.90426,-0.01773,0.92908,0.01064,0.80142,0.08865,0.94681,-0.00709,0.94326,0,0.93262,0.20213,0.95035,-0.00709,0.91489,0.00709,0.80496,0.07092,0.91135,0.15957,0.89527,0.08165,0.7766,0.06738,0.92553,0.18085,0.92553,0,g\n",
              "1,0,0.74468,0.10638,0.88706,0.00982,0.88542,0.01471,0.87234,-0.01418,0.7305,0.10638,0.87657,0.02912,0.87235,0.03382,0.95745,0.07801,0.95035,0.04255,0.85597,0.04743,0.84931,0.05178,0.87234,0.11348,0.83429,0.06014,0.74468,-0.03546,0.8171,0.068,0.80774,0.07173,g\n",
              "1,0,0.87578,0.03727,0.89951,0.00343,0.8921,0.0051,0.86335,0,0.95031,0.07453,0.87021,0.00994,0.86303,0.01151,0.83851,-0.06211,0.85714,0.02484,0.84182,0.01603,0.83486,0.01749,0.79503,-0.04348,0.82111,0.02033,0.81988,0.08696,0.80757,0.02308,0.80088,0.02441,g\n",
              "1,0,0.97513,0.0071,0.98579,0.01954,1,0.01954,0.9929,0.01599,0.95737,0.02309,0.97158,0.03552,1,0.0373,0.97869,0.02131,0.98579,0.05684,0.97158,0.04796,0.94494,0.05506,0.98401,0.03552,0.9754,0.06477,0.94849,0.08171,0.99112,0.06217,0.98934,0.09947,g\n",
              "1,0,1,0.01105,1,0.01105,1,0.0232,0.99448,-0.01436,0.99448,-0.00221,0.98343,0.0232,1,0.00884,0.97569,0.00773,0.97901,0.01657,0.98011,0.00663,0.98122,0.02099,0.97127,-0.00663,0.98033,0.016,0.97901,0.01547,0.98564,0.02099,0.98674,0.02762,g\n",
              "1,0,1,-0.01342,1,0.01566,1,-0.00224,1,0.06264,0.97763,0.04474,0.95973,0.02908,1,0.06488,0.98881,0.03356,1,0.03579,0.99776,0.09396,0.95749,0.07383,1,0.10067,0.99989,0.08763,0.99105,0.08501,1,0.10067,1,0.10067,g\n",
              "1,0,0.8842,0.36724,0.67123,0.67382,0.39613,0.86399,0.02424,0.93182,-0.35148,0.83713,-0.60316,0.58842,-0.78658,0.38778,-0.83285,-0.00642,-0.69318,-0.32963,-0.52504,-0.53924,-0.27377,-0.68126,0.00806,-0.69774,0.26028,-0.60678,0.44569,-0.43383,0.54209,-0.21542,0.56286,0.02823,g\n",
              "1,0,0.90147,0.41786,0.64131,0.75725,0.3044,0.95148,-0.20449,0.96534,-0.55483,0.81191,-0.81857,0.50949,-0.96986,0.10345,-0.91456,-0.31412,-0.70163,-0.65461,-0.32354,-0.88999,0.05865,-0.94172,0.44483,-0.82154,0.74105,-0.55231,0.89415,-0.18725,0.87893,0.20359,0.70555,0.54852,g\n",
              "1,0,0.32789,0.11042,0.1597,0.29308,0.1402,0.74485,-0.25131,0.91993,-0.16503,0.26664,-0.63714,0.24865,-0.9765,-0.00337,-0.23227,-0.19909,-0.30522,-0.48886,-0.14426,-0.89991,0.09345,-0.28916,0.28307,-0.1856,0.39599,-0.11498,0.31005,0.05614,0.21443,0.2054,0.13376,0.26422,g\n",
              "1,0,0.65845,0.43617,0.44681,0.74804,0.05319,0.85106,-0.32027,0.82139,-0.68253,0.52408,-0.84211,0.07111,-0.82811,-0.28723,-0.47032,-0.71725,-0.04759,-0.86002,0.23292,-0.76316,0.56663,-0.52128,0.743,-0.18645,0.74758,0.23713,0.45185,0.59071,0.20549,0.76764,-0.18533,0.74356,g\n",
              "1,0,0.19466,0.05725,0.04198,0.25191,-0.10557,0.48866,-0.18321,-0.18321,-0.41985,0.06107,-0.4542,0.0916,-0.16412,-0.30534,-0.10305,-0.39695,0.18702,-0.17557,0.34012,-0.11953,0.28626,-0.16031,0.21645,0.24692,0.03913,0.31092,-0.03817,0.26336,-0.16794,0.16794,-0.30153,-0.33588,g\n",
              "1,0,0.98002,0.00075,1,0,0.98982,-0.00075,0.94721,0.02394,0.977,0.0213,0.97888,0.03073,0.9917,0.02338,0.93929,0.05713,0.93552,0.05279,0.97738,0.05524,1,0.06241,0.94155,0.08107,0.96709,0.07255,0.95701,0.08088,0.9819,0.08126,0.97247,0.08616,g\n",
              "1,0,0.82254,-0.07572,0.80462,0.00231,0.87514,-0.01214,0.86821,-0.07514,0.72832,-0.11734,0.84624,0.05029,0.83121,-0.07399,0.74798,0.06705,0.78324,0.06358,0.86763,-0.0237,0.78844,-0.06012,0.74451,-0.0237,0.76717,-0.02731,0.74046,-0.0763,0.70058,-0.0422,0.78439,0.01214,g\n",
              "1,0,0.35346,-0.13768,0.69387,-0.02423,0.68195,-0.03574,0.55717,-0.06119,0.61836,-0.10467,0.62099,-0.06527,0.59361,-0.07289,0.42271,-0.26409,0.58213,0.04992,0.49736,-0.08771,0.46241,-0.08989,0.45008,-0.00564,0.39146,-0.09038,0.35588,-0.10306,0.32232,-0.08637,0.28943,-0.083,g\n",
              "1,0,0.76046,0.01092,0.86335,0.00258,0.85821,0.00384,0.79988,0.02304,0.81504,0.12068,0.83096,0.00744,0.81815,0.00854,0.82777,-0.06974,0.76531,0.03881,0.76979,0.01148,0.75071,0.01232,0.77138,-0.00303,0.70886,0.01375,0.66161,0.00849,0.66298,0.01484,0.63887,0.01525,g\n",
              "1,0,0.66667,-0.01366,0.97404,0.06831,0.4959,0.50137,0.75683,-0.00273,0.65164,-0.14071,0.40164,-0.48907,0.39208,0.58743,0.76776,0.31831,0.78552,0.11339,0.47541,-0.44945,1,0.00683,0.60656,0.06967,0.68656,0.17088,0.87568,0.07787,0.55328,0.2459,0.13934,0.48087,g\n",
              "1,0,0.83508,0.08298,0.73739,-0.14706,0.84349,-0.05567,0.90441,-0.04622,0.89391,0.1313,0.81197,0.06723,0.79307,-0.08929,1,-0.02101,0.96639,0.06618,0.87605,0.01155,0.77521,0.06618,0.95378,-0.04202,0.83479,0.00123,1,0.12815,0.8666,-0.10714,0.90546,-0.04307,g\n",
              "1,0,0.95113,0.00419,0.95183,-0.02723,0.93438,-0.0192,0.9459,0.01606,0.9651,0.03281,0.94171,0.0733,0.94625,-0.01326,0.97173,0.0014,0.94834,0.06038,0.9267,0.08412,0.93124,0.10087,0.9452,0.01361,0.93522,0.04925,0.93159,0.08168,0.94066,-0.00035,0.91483,0.04712,g\n",
              "1,0,0.94701,-0.00034,0.93207,-0.03227,0.95177,-0.03431,0.95584,0.02446,0.94124,0.01766,0.92595,0.04688,0.93954,-0.01461,0.94837,0.02004,0.93784,0.01393,0.91406,0.07677,0.8947,0.06148,0.93988,0.03193,0.92489,0.02542,0.9212,0.02242,0.92459,0.00442,0.92697,-0.00577,g\n",
              "1,0,0.90608,-0.01657,0.98122,-0.01989,0.95691,-0.03646,0.85746,0.0011,0.89724,-0.03315,0.89061,-0.01436,0.90608,-0.0453,0.91381,-0.00884,0.80773,-0.12928,0.88729,0.01215,0.92155,-0.0232,0.9105,-0.02099,0.89147,-0.0776,0.82983,-0.17238,0.96022,-0.03757,0.87403,-0.16243,g\n",
              "1,0,0.8471,0.13533,0.73638,-0.06151,0.87873,0.0826,0.88928,-0.09139,0.78735,0.06678,0.80668,-0.00351,0.79262,-0.01054,0.85764,-0.04569,0.8717,-0.03515,0.81722,-0.0949,0.71002,0.04394,0.86467,-0.15114,0.81147,-0.04822,0.78207,-0.00703,0.75747,-0.06678,0.85764,-0.06151,g"
            ]
          },
          "metadata": {},
          "execution_count": 11
        }
      ]
    },
    {
      "cell_type": "code",
      "source": [
        "# set class index to be last attribute\n",
        "instances.class_index = instances.num_attributes - 1"
      ],
      "metadata": {
        "id": "lYQPLrAzujG6"
      },
      "execution_count": null,
      "outputs": []
    },
    {
      "cell_type": "code",
      "source": [
        "# build the Nearest-neighbor-like algorithm using non-nested generalized exemplars\n",
        "# hyperrectangles that can be viewed as if-then rules\n",
        "\n",
        "from weka.classifiers import Classifier\n",
        "cls = Classifier(classname=\"weka.classifiers.rules.NNge\")\n",
        "cls.build_classifier(instances)"
      ],
      "metadata": {
        "id": "B9JnK9gvsR3E"
      },
      "execution_count": null,
      "outputs": []
    },
    {
      "cell_type": "code",
      "source": [
        "cls.description"
      ],
      "metadata": {
        "colab": {
          "base_uri": "https://localhost:8080/"
        },
        "id": "Y5OUjUYQumjY",
        "outputId": "e12f141f-c3b4-4729-9034-ab61aa52f621"
      },
      "execution_count": null,
      "outputs": [
        {
          "output_type": "execute_result",
          "data": {
            "text/plain": [
              "<bound method OptionHandler.description of \n",
              "NNGE classifier\n",
              "\n",
              "Rules generated :\n",
              "\tclass g IF : a01=1.0 ^ a02=0.0 ^ 0.79847<=a03<=1.0 ^ -0.07572<=a04<=0.45455 ^ 0.73638<=a05<=1.0 ^ -0.16964<=a06<=0.71429 ^ 0.66667<=a07<=1.0 ^ -0.07653<=a08<=0.71429 ^ 0.84881<=a09<=1.0 ^ -0.49962<=a10<=-0.07398 ^ 0.66026<=a11<=1.0 ^ -0.14286<=a12<=0.6132 ^ 0.77937<=a13<=1.0 ^ -0.45455<=a14<=0.48981 ^ 0.63636<=a15<=1.0 ^ -0.07399<=a16<=0.58986 ^ -0.375<=a17<=1.0 ^ -0.63636<=a18<=1.0 ^ 0.59615<=a19<=1.0 ^ -0.27273<=a20<=0.59862 ^ 0.52494<=a21<=1.0 ^ -0.45455<=a22<=0.92001 ^ 0.45582<=a23<=1.0 ^ -0.25101<=a24<=1.0 ^ 0.28571<=a25<=1.0 ^ -0.28571<=a26<=1.0 ^ 0.3293<=a27<=1.0 ^ -0.06995<=a28<=1.0 ^ 0.27381<=a29<=1.0 ^ -0.0763<=a30<=1.0 ^ 0.22427<=a31<=1.0 ^ -0.1875<=a32<=1.0 ^ 0.18086<=a33<=1.0 ^ -0.07439<=a34<=1.0  (13)\n",
              "\tclass g IF : a01=1.0 ^ a02=0.0 ^ 0.61538<=a03<=0.95559 ^ -0.13241<=a04<=0.18923 ^ 0.53755<=a05<=0.98994 ^ -0.13244<=a06<=0.16996 ^ 0.72727<=a07<=0.94982 ^ -0.00461<=a08<=0.12877 ^ 0.65077<=a09<=0.82809 ^ -0.51171<=a10<=-0.09188 ^ 0.66798<=a11<=0.95842 ^ -0.23518<=a12<=0.10368 ^ 0.73961<=a13<=1.0 ^ -0.1917<=a14<=0.0506 ^ 0.72322<=a15<=0.99264 ^ -0.02542<=a16<=0.10195 ^ 0.63043<=a17<=0.95853 ^ -0.15518<=a18<=0.03756 ^ 0.61692<=a19<=0.84013 ^ -0.11858<=a20<=0.61739 ^ 0.66233<=a21<=1.0 ^ -0.25296<=a22<=0.07573 ^ 0.63878<=a23<=1.0 ^ -0.28656<=a24<=0.08041 ^ 0.60154<=a25<=0.85741 ^ -0.10474<=a26<=-0.01207 ^ 0.58803<=a27<=0.84132 ^ -0.12041<=a28<=0.08767 ^ 0.55077<=a29<=0.82427 ^ -0.20949<=a30<=0.25692 ^ 0.37549<=a31<=0.90409 ^ -0.01957<=a32<=0.11066 ^ 0.50609<=a33<=0.78761 ^ -0.02039<=a34<=0.09322  (4)\n",
              "\tclass g IF : a01=1.0 ^ a02=0.0 ^ 0.21429<=a03<=1.0 ^ -0.24783<=a04<=0.51515 ^ 0.06213<=a05<=1.0 ^ -0.20253<=a06<=0.82161 ^ 0.05319<=a07<=1.0 ^ -0.13333<=a08<=0.98903 ^ -0.55941<=a09<=1.0 ^ -0.05882<=a10<=1.0 ^ -0.76229<=a11<=1.0 ^ -0.21212<=a12<=1.0 ^ -0.93882<=a13<=1.0 ^ -0.48907<=a14<=1.0 ^ -0.86709<=a15<=1.0 ^ -0.57486<=a16<=0.77128 ^ -0.6603<=a17<=1.0 ^ -0.71725<=a18<=1.0 ^ -0.25105<=a19<=1.0 ^ -0.87787<=a20<=1.0 ^ 0.12439<=a21<=1.0 ^ -0.89064<=a22<=1.0 ^ 0.18932<=a23<=1.0 ^ -0.72454<=a24<=1.0 ^ 0.21951<=a25<=1.0 ^ -0.39394<=a26<=1.0 ^ 0.16813<=a27<=1.0 ^ -0.06637<=a28<=1.0 ^ 0.07497<=a29<=1.0 ^ -0.32298<=a30<=1.0 ^ -0.1737<=a31<=1.0 ^ -0.25706<=a32<=1.0 ^ -0.81383<=a33<=1.0 ^ -0.09186<=a34<=1.0  (93)\n",
              "\tclass g IF : a01=1.0 ^ a02=0.0 ^ 0.47938<=a03<=1.0 ^ -0.35526<=a04<=0.45455 ^ 0.42784<=a05<=1.0 ^ -0.78509<=a06<=0.62937 ^ 0.70103<=a07<=1.0 ^ -0.85741<=a08<=0.09557 ^ 0.66725<=a09<=1.0 ^ -0.43107<=a10<=0.61053 ^ 0.26289<=a11<=1.0 ^ -1.0<=a12<=0.56173 ^ 0.49485<=a13<=1.0 ^ -0.51874<=a14<=0.15979 ^ 0.34395<=a15<=1.0 ^ -0.83519<=a16<=0.14662 ^ 0.37254<=a17<=1.0 ^ -0.70729<=a18<=0.39337 ^ 0.12245<=a19<=1.0 ^ -1.0<=a20<=0.2659 ^ 0.05982<=a21<=1.0 ^ -0.78316<=a22<=0.26133 ^ 0.02309<=a23<=1.0 ^ -1.0<=a24<=0.22037 ^ 0.03286<=a25<=1.0 ^ -0.96296<=a26<=0.19588 ^ 0.09312<=a27<=1.0 ^ -0.86583<=a28<=-0.02302 ^ -0.07162<=a29<=1.0 ^ -1.0<=a30<=0.45455 ^ -0.05707<=a31<=1.0 ^ -0.92128<=a32<=0.53372 ^ -0.13832<=a33<=1.0 ^ -1.0<=a34<=-0.09808  (43)\n",
              "\tclass g IF : a01=1.0 ^ a02=0.0 ^ a03=0.35346 ^ a04=-0.13768 ^ a05=0.69387 ^ a06=-0.02423 ^ a07=0.68195 ^ a08=-0.03574 ^ a09=0.55717 ^ a10=-0.06119 ^ a11=0.61836 ^ a12=-0.10467 ^ a13=0.62099 ^ a14=-0.06527 ^ a15=0.59361 ^ a16=-0.07289 ^ a17=0.42271 ^ a18=-0.26409 ^ a19=0.58213 ^ a20=0.04992 ^ a21=0.49736 ^ a22=-0.08771 ^ a23=0.46241 ^ a24=-0.08989 ^ a25=0.45008 ^ a26=-0.00564 ^ a27=0.39146 ^ a28=-0.09038 ^ a29=0.35588 ^ a30=-0.10306 ^ a31=0.32232 ^ a32=-0.08637 ^ a33=0.28943 ^ a34=-0.083  (1)\n",
              "\tclass g IF : a01=1.0 ^ a02=0.0 ^ a03=0.46785 ^ a04=0.11308 ^ a05=0.5898 ^ a06=0.00665 ^ a07=0.55432 ^ a08=0.06874 ^ a09=0.47894 ^ a10=-0.13969 ^ a11=0.52993 ^ a12=0.0133 ^ a13=0.63858 ^ a14=-0.16186 ^ a15=0.67849 ^ a16=-0.03326 ^ a17=0.54545 ^ a18=-0.13525 ^ a19=0.52993 ^ a20=-0.04656 ^ a21=0.47894 ^ a22=-0.19512 ^ a23=0.50776 ^ a24=-0.13525 ^ a25=0.41463 ^ a26=-0.20177 ^ a27=0.5393 ^ a28=-0.11455 ^ a29=0.59867 ^ a30=-0.02882 ^ a31=0.53659 ^ a32=-0.11752 ^ a33=0.56319 ^ a34=-0.04435  (1)\n",
              "\tclass g IF : a01=1.0 ^ a02=0.0 ^ 0.5894<=a03<=1.0 ^ -0.92453<=a04<=-0.37838 ^ 0.64865<=a05<=1.0 ^ 0.10278<=a06<=0.76131 ^ 0.49057<=a07<=0.8706 ^ -0.24324<=a08<=0.18593 ^ 0.5558<=a09<=1.0 ^ -0.09925<=a10<=0.18919 ^ 0.32781<=a11<=1.0 ^ -0.27027<=a12<=0.4799 ^ 0.45283<=a13<=0.71947 ^ -0.1608<=a14<=0.28954 ^ 0.62162<=a15<=1.0 ^ -0.0566<=a16<=0.32925 ^ 0.32432<=a17<=0.98878 ^ -0.50126<=a18<=0.42715 ^ 0.5283<=a19<=0.80025 ^ -0.24497<=a20<=0.13907 ^ 0.5283<=a21<=0.88065 ^ -0.19095<=a22<=0.42528 ^ 0.5312<=a23<=1.0 ^ -0.12312<=a24<=0.44872 ^ 0.35135<=a25<=1.0 ^ -0.2973<=a26<=0.79245 ^ 0.44174<=a27<=0.9289 ^ -0.22163<=a28<=0.482 ^ 0.12473<=a29<=1.0 ^ -1.0<=a30<=1.0 ^ 0.3507<=a31<=1.0 ^ -0.59459<=a32<=0.49721 ^ 0.30588<=a33<=0.51382 ^ -0.24324<=a34<=0.49831  (5)\n",
              "\tclass g IF : a01=1.0 ^ a02=0.0 ^ a03=0.19466 ^ a04=0.05725 ^ a05=0.04198 ^ a06=0.25191 ^ a07=-0.10557 ^ a08=0.48866 ^ a09=-0.18321 ^ a10=-0.18321 ^ a11=-0.41985 ^ a12=0.06107 ^ a13=-0.4542 ^ a14=0.0916 ^ a15=-0.16412 ^ a16=-0.30534 ^ a17=-0.10305 ^ a18=-0.39695 ^ a19=0.18702 ^ a20=-0.17557 ^ a21=0.34012 ^ a22=-0.11953 ^ a23=0.28626 ^ a24=-0.16031 ^ a25=0.21645 ^ a26=0.24692 ^ a27=0.03913 ^ a28=0.31092 ^ a29=-0.03817 ^ a30=0.26336 ^ a31=-0.16794 ^ a32=0.16794 ^ a33=-0.30153 ^ a34=-0.33588  (1)\n",
              "\tclass g IF : a01=1.0 ^ a02=0.0 ^ 0.51207<=a03<=1.0 ^ 0.09802<=a04<=1.0 ^ 0.64064<=a05<=1.0 ^ 0.25101<=a06<=1.0 ^ 0.29303<=a07<=0.9839 ^ 0.33044<=a08<=1.0 ^ -0.33333<=a09<=0.80365 ^ 0.46427<=a10<=1.0 ^ -1.0<=a11<=0.74977 ^ 0.59942<=a12<=1.0 ^ -1.0<=a13<=0.6526 ^ 0.66541<=a14<=1.0 ^ -1.0<=a15<=0.55311 ^ 0.32558<=a16<=1.0 ^ -1.0<=a17<=0.41629 ^ -0.58634<=a18<=0.98722 ^ -1.0<=a19<=0.25539 ^ -0.66667<=a20<=1.0 ^ -1.0<=a21<=0.13712 ^ -1.0<=a22<=0.89383 ^ -1.0<=a23<=0.00494 ^ -1.0<=a24<=0.88869 ^ -1.0<=a25<=0.90014 ^ -1.0<=a26<=0.7978 ^ -1.0<=a27<=1.0 ^ -1.0<=a28<=0.78004 ^ -1.0<=a29<=1.0 ^ -1.0<=a30<=0.71454 ^ -1.0<=a31<=1.0 ^ -1.0<=a32<=0.64363 ^ -0.91903<=a33<=1.0 ^ -0.94823<=a34<=0.55835  (32)\n",
              "\tclass g IF : a01=1.0 ^ a02=0.0 ^ 0.44444<=a03<=1.0 ^ 0.44444<=a04<=1.0 ^ 0.367<=a05<=0.62745 ^ 0.06158<=a06<=1.0 ^ -0.22222<=a07<=0.12993 ^ 0.92713<=a08<=1.0 ^ -0.4902<=a09<=-0.27586 ^ 0.88889<=a10<=0.93596 ^ -1.0<=a11<=-0.31527 ^ 0.33333<=a12<=0.58824 ^ -1.0<=a13<=-0.87192 ^ -0.11111<=a14<=0.36946 ^ -1.0<=a15<=-0.92857 ^ -0.33333<=a16<=-0.08867 ^ -0.66667<=a17<=-0.38916 ^ -0.77778<=a18<=-0.34236 ^ -0.46552<=a19<=0.55556 ^ -1.0<=a20<=-0.82512 ^ -0.22222<=a21<=0.35294 ^ -1.0<=a22<=-0.77778 ^ 0.25616<=a23<=0.77778 ^ -0.72549<=a24<=-0.20443 ^ 0.33333<=a25<=0.92157 ^ -0.4595<=a26<=0.0 ^ 0.85471<=a27<=0.92874 ^ -0.06831<=a28<=0.45019 ^ 0.57454<=a29<=1.0 ^ 0.56863<=a30<=1.0 ^ 0.22222<=a31<=0.3867 ^ 0.00246<=a32<=1.0 ^ -0.55556<=a33<=0.17758 ^ 0.7979<=a34<=1.0  (3)\n",
              "\tclass g IF : a01=1.0 ^ a02=0.0 ^ a03=0.31034 ^ a04=-0.10345 ^ a05=0.24138 ^ a06=-0.10345 ^ a07=0.2069 ^ a08=-0.06897 ^ a09=0.07405 ^ a10=-0.05431 ^ a11=0.03649 ^ a12=-0.03689 ^ a13=0.01707 ^ a14=-0.02383 ^ a15=0.00741 ^ a16=-0.01482 ^ a17=0.00281 ^ a18=-0.00893 ^ a19=7.8E-4 ^ a20=-0.00523 ^ a21=-3.0E-5 ^ a22=-0.00299 ^ a23=-2.8E-4 ^ a24=-0.00166 ^ a25=-3.1E-4 ^ a26=-9.0E-4 ^ a27=-2.5E-4 ^ a28=-4.8E-4 ^ a29=-1.8E-4 ^ a30=-2.4E-4 ^ a31=-1.2E-4 ^ a32=-1.2E-4 ^ a33=-8.0E-5 ^ a34=-6.0E-5  (1)\n",
              "\tclass g IF : a01=1.0 ^ a02=0.0 ^ 0.25<=a03<=1.0 ^ 0.0252<=a04<=0.5 ^ 0.15236<=a05<=1.0 ^ 0.17293<=a06<=0.77655 ^ 0.03759<=a07<=0.47564 ^ 0.23966<=a08<=1.0 ^ -0.25706<=a09<=0.16851 ^ 0.19939<=a10<=0.9782 ^ -0.62526<=a11<=0.06266 ^ 0.14922<=a12<=0.84605 ^ -0.86443<=a13<=-0.02367 ^ 0.10188<=a14<=0.62078 ^ -0.9765<=a15<=-0.03685 ^ -0.05409<=a16<=0.41743 ^ -0.93001<=a17<=-0.03766 ^ -0.44707<=a18<=0.16709 ^ -0.76064<=a19<=-0.0323 ^ -0.73285<=a20<=0.01532 ^ -0.81056<=a21<=-0.02474 ^ -0.89991<=a22<=0.00357 ^ -0.33197<=a23<=0.26384 ^ -0.94172<=a24<=-0.00273 ^ -0.2328<=a25<=0.55984 ^ -0.85703<=a26<=0.00265 ^ -0.02089<=a27<=0.74105 ^ -0.68593<=a28<=-0.00586 ^ -0.00294<=a29<=0.89415 ^ -0.43478<=a30<=0.09599 ^ -8.9E-4<=a31<=0.88654 ^ -0.30057<=a32<=0.38915 ^ 2.5E-4<=a33<=0.76862 ^ -0.0598<=a34<=0.57656  (16)\n",
              "\tclass g IF : a01=1.0 ^ a02=0.0 ^ a03=0.33333 ^ a04=-0.25 ^ a05=0.44444 ^ a06=0.22222 ^ a07=0.38889 ^ a08=0.16667 ^ a09=0.41667 ^ a10=0.13889 ^ a11=0.5 ^ a12=-0.11111 ^ a13=0.54911 ^ a14=-0.08443 ^ a15=0.58333 ^ a16=0.33333 ^ a17=0.55556 ^ a18=0.02778 ^ a19=0.25 ^ a20=-0.19444 ^ a21=0.47222 ^ a22=-0.05556 ^ a23=0.52778 ^ a24=-0.02778 ^ a25=0.38889 ^ a26=0.08333 ^ a27=0.41543 ^ a28=-0.14256 ^ a29=0.19444 ^ a30=-0.13889 ^ a31=0.36924 ^ a32=-0.14809 ^ a33=0.08333 ^ a34=-0.5  (1)\n",
              "\tclass g IF : a01=1.0 ^ a02=0.0 ^ a03=0.4375 ^ a04=0.04167 ^ a05=0.58333 ^ a06=-0.10417 ^ a07=0.39583 ^ a08=0.0 ^ a09=0.33333 ^ a10=-0.0625 ^ a11=0.47917 ^ a12=0.0 ^ a13=0.29167 ^ a14=0.10417 ^ a15=0.54167 ^ a16=0.02083 ^ a17=0.4375 ^ a18=-0.22917 ^ a19=0.35417 ^ a20=-0.22917 ^ a21=0.33333 ^ a22=0.08333 ^ a23=0.25 ^ a24=0.1875 ^ a25=0.39583 ^ a26=-0.1875 ^ a27=0.44012 ^ a28=-0.10064 ^ a29=0.41667 ^ a30=-0.08333 ^ a31=0.58333 ^ a32=-0.3125 ^ a33=0.33333 ^ a34=-0.0625  (1)\n",
              "\tclass g IF : a01=1.0 ^ a02=0.0 ^ a03=0.52542 ^ a04=-0.0339 ^ a05=0.94915 ^ a06=0.08475 ^ a07=0.52542 ^ a08=-0.16949 ^ a09=0.30508 ^ a10=-0.01695 ^ a11=0.50847 ^ a12=-0.13559 ^ a13=0.64407 ^ a14=0.28814 ^ a15=0.83051 ^ a16=-0.35593 ^ a17=0.54237 ^ a18=0.01695 ^ a19=0.55932 ^ a20=0.0339 ^ a21=0.59322 ^ a22=0.30508 ^ a23=0.86441 ^ a24=0.05085 ^ a25=0.40678 ^ a26=0.15254 ^ a27=0.67287 ^ a28=-0.00266 ^ a29=0.66102 ^ a30=-0.0339 ^ a31=0.83051 ^ a32=-0.15254 ^ a33=0.76271 ^ a34=-0.10169  (1)\n",
              "\tclass b IF : a01=1.0 ^ a02=0.0 ^ a03=0.0 ^ a04=0.0 ^ 0.0<=a05<=1.0 ^ 0.0<=a06<=0.12889 ^ 0.88444<=a07<=1.0 ^ -0.02<=a08<=1.0 ^ -1.0<=a09<=0.0 ^ -1.0<=a10<=0.0 ^ 0.0<=a11<=1.0 ^ -0.42444<=a12<=0.0 ^ a13=1.0 ^ -0.11111<=a14<=0.19556 ^ 0.0<=a15<=1.0 ^ -0.05333<=a16<=0.0 ^ 0.0<=a17<=1.0 ^ -0.81556<=a18<=0.0 ^ -1.0<=a19<=0.0 ^ 0.0<=a20<=1.0 ^ a21=1.0 ^ -0.04<=a22<=1.0 ^ a23=1.0 ^ -1.0<=a24<=-0.18667 ^ a25=0.0 ^ a26=0.0 ^ a27=1.0 ^ a28=-1.0 ^ a29=0.0 ^ a30=0.0 ^ 0.0<=a31<=1.0 ^ 0.0<=a32<=0.11778 ^ 0.90667<=a33<=1.0 ^ -0.09556<=a34<=1.0  (2)\n",
              "\tclass b IF : a01=1.0 ^ a02=0.0 ^ -0.205<=a03<=1.0 ^ -0.14754<=a04<=1.0 ^ -0.7619<=a05<=1.0 ^ -1.0<=a06<=0.1 ^ 0.0<=a07<=0.60784 ^ -0.67273<=a08<=0.3175 ^ 0.0<=a09<=0.65574 ^ -0.14286<=a10<=0.35 ^ -0.67285<=a11<=1.0 ^ -0.89098<=a12<=1.0 ^ -0.51504<=a13<=1.0 ^ -1.0<=a14<=0.45489 ^ -0.95489<=a15<=1.0 ^ -0.41818<=a16<=1.0 ^ -0.38214<=a17<=1.0 ^ -1.0<=a18<=1.0 ^ -0.34187<=a19<=0.65558 ^ -0.21569<=a20<=0.31408 ^ -0.48<=a21<=1.0 ^ -0.21081<=a22<=0.49091 ^ 0.16667<=a23<=1.0 ^ -0.41622<=a24<=1.0 ^ -1.0<=a25<=0.45098 ^ -1.0<=a26<=0.16364 ^ 0.24889<=a27<=1.0 ^ -1.0<=a28<=-0.07027 ^ -0.47<=a29<=1.0 ^ -0.31373<=a30<=1.0 ^ -0.66667<=a31<=1.0 ^ -1.0<=a32<=0.0 ^ 0.0<=a33<=0.4918 ^ -0.29091<=a34<=0.0305  (9)\n",
              "\tclass g IF : a01=1.0 ^ a02=0.0 ^ a03=0.87772 ^ a04=-0.08152 ^ a05=0.83424 ^ a06=0.07337 ^ a07=0.84783 ^ a08=0.04076 ^ a09=0.77174 ^ a10=-0.02174 ^ a11=0.77174 ^ a12=-0.05707 ^ a13=0.82337 ^ a14=-0.10598 ^ a15=0.67935 ^ a16=-0.00543 ^ a17=0.88043 ^ a18=-0.20924 ^ a19=0.83424 ^ a20=0.03261 ^ a21=0.86413 ^ a22=-0.05978 ^ a23=0.97283 ^ a24=-0.27989 ^ a25=0.85054 ^ a26=-0.1875 ^ a27=0.83705 ^ a28=-0.10211 ^ a29=0.8587 ^ a30=-0.03261 ^ a31=0.78533 ^ a32=-0.1087 ^ a33=0.79076 ^ a34=-0.00543  (1)\n",
              "\tclass g IF : a01=1.0 ^ a02=0.0 ^ 0.7983<=a03<=0.98822 ^ 0.02187<=a04<=0.13069 ^ 0.73061<=a05<=0.93102 ^ 0.20656<=a06<=0.341 ^ 0.64615<=a07<=0.83904 ^ 0.19038<=a08<=0.35222 ^ 0.36923<=a09<=0.74706 ^ 0.41252<=a10<=0.48906 ^ 0.44793<=a11<=0.73584 ^ 0.46439<=a12<=0.51879 ^ 0.25<=a13<=0.57898 ^ 0.57308<=a14<=0.60814 ^ 0.25192<=a15<=0.4921 ^ 0.37115<=a16<=0.66237 ^ 0.15215<=a17<=0.33354 ^ 0.51877<=a18<=0.70443 ^ -0.09808<=a19<=0.29587 ^ 0.575<=a20<=0.68873 ^ -0.03462<=a21<=0.09599 ^ 0.42885<=a22<=0.73696 ^ -0.08856<=a23<=0.06338 ^ 0.44424<=a24<=0.72236 ^ -0.16489<=a25<=-0.08748 ^ 0.40006<=a26<=0.69714 ^ -0.1994<=a27<=-0.11925 ^ 0.34976<=a28<=0.60696 ^ -0.23832<=a29<=-0.16209 ^ 0.29541<=a30<=0.56015 ^ -0.34717<=a31<=-0.25516 ^ 0.23896<=a32<=0.51701 ^ -0.33483<=a33<=-0.23846 ^ 0.31154<=a34<=0.42467  (3)\n",
              "\tclass g IF : a01=1.0 ^ a02=0.0 ^ 0.34694<=a03<=0.76627 ^ 0.20408<=a04<=0.21106 ^ 0.46939<=a05<=0.63935 ^ 0.2449<=a06<=0.38112 ^ 0.40816<=a07<=0.48409 ^ 0.20408<=a08<=0.525 ^ 0.15<=a09<=0.46939 ^ 0.22273<=a10<=0.44898 ^ 0.13753<=a11<=0.30612 ^ 0.59184<=a12<=0.59565 ^ -0.07727<=a13<=0.12245 ^ 0.44545<=a14<=0.55102 ^ a15=0.0 ^ 0.48636<=a16<=0.5102 ^ -0.27491<=a17<=-0.06122 ^ 0.42014<=a18<=0.55102 ^ -0.56136<=a19<=-0.20408 ^ 0.36818<=a20<=0.55102 ^ -0.36591<=a21<=-0.28571 ^ 0.18864<=a22<=0.44898 ^ -0.40533<=a23<=-0.28571 ^ 0.07588<=a24<=0.32653 ^ -0.61224<=a25<=-0.38483 ^ -0.03229<=a26<=0.22449 ^ -0.46579<=a27<=-0.33942 ^ -0.12486<=a28<=0.14895 ^ -0.59184<=a29<=-0.2754 ^ -0.19714<=a30<=0.18367 ^ -0.34694<=a31<=-0.19962 ^ -0.24648<=a32<=0.0 ^ -0.26531<=a33<=-0.11894 ^ -0.27218<=a34<=-0.2449  (2)\n",
              "\tclass b IF : a01=1.0 ^ a02=0.0 ^ a03=0.0 ^ a04=0.0 ^ a05=0.0 ^ a06=0.0 ^ a07=0.0 ^ a08=0.0 ^ a09=-1.0 ^ a10=1.0 ^ a11=0.0 ^ a12=0.0 ^ a13=1.0 ^ a14=0.37333 ^ a15=-0.12 ^ a16=-0.12 ^ a17=0.0 ^ a18=0.0 ^ a19=-1.0 ^ a20=-1.0 ^ a21=0.0 ^ a22=0.0 ^ a23=1.0 ^ a24=-1.0 ^ a25=0.0 ^ a26=0.0 ^ a27=1.0 ^ a28=0.22667 ^ a29=0.0 ^ a30=0.0 ^ a31=0.0 ^ a32=0.0 ^ a33=0.0 ^ a34=0.0  (1)\n",
              "\tclass b IF : a01=1.0 ^ a02=0.0 ^ -0.65625<=a03<=1.0 ^ -0.17314<=a04<=1.0 ^ -1.0<=a05<=0.82332 ^ -1.0<=a06<=1.0 ^ -1.0<=a07<=1.0 ^ -0.82456<=a08<=1.0 ^ -0.01478<=a09<=0.87719 ^ -0.06811<=a10<=1.0 ^ -0.66886<=a11<=1.0 ^ -0.15194<=a12<=1.0 ^ -0.05921<=a13<=0.47368 ^ -0.09852<=a14<=0.58772 ^ 0.0106<=a15<=0.56347 ^ -0.24206<=a16<=0.38869 ^ -0.51535<=a17<=0.72807 ^ -1.0<=a18<=0.95122 ^ -0.50998<=a19<=0.46429 ^ -0.375<=a20<=0.84922 ^ -0.102<=a21<=0.50464 ^ -0.4386<=a22<=0.38803 ^ -1.0<=a23<=0.11213 ^ -0.6161<=a24<=1.0 ^ -0.91574<=a25<=1.0 ^ -1.0<=a26<=0.8071 ^ -0.34146<=a27<=1.0 ^ -1.0<=a28<=0.88248 ^ -1.0<=a29<=1.0 ^ -0.24561<=a30<=1.0 ^ -1.0<=a31<=0.35088 ^ -1.0<=a32<=0.5582 ^ -0.19066<=a33<=1.0 ^ -0.10837<=a34<=1.0  (12)\n",
              "\tclass b IF : a01=1.0 ^ a02=0.0 ^ -0.26667<=a03<=1.0 ^ -1.0<=a04<=0.4 ^ -1.0<=a05<=1.0 ^ -1.0<=a06<=1.0 ^ -1.0<=a07<=1.0 ^ -1.0<=a08<=1.0 ^ -0.07759<=a09<=1.0 ^ -1.0<=a10<=1.0 ^ -1.0<=a11<=1.0 ^ -1.0<=a12<=1.0 ^ -1.0<=a13<=0.34848 ^ -1.0<=a14<=0.63966 ^ -1.0<=a15<=0.0 ^ -0.97515<=a16<=1.0 ^ -0.37681<=a17<=0.95313 ^ -1.0<=a18<=1.0 ^ -1.0<=a19<=1.0 ^ -1.0<=a20<=1.0 ^ -0.99219<=a21<=1.0 ^ -1.0<=a22<=1.0 ^ -1.0<=a23<=0.05136 ^ -1.0<=a24<=0.90625 ^ -1.0<=a25<=1.0 ^ -1.0<=a26<=0.9625 ^ -0.20468<=a27<=1.0 ^ -1.0<=a28<=1.0 ^ -1.0<=a29<=1.0 ^ -1.0<=a30<=0.67708 ^ -1.0<=a31<=1.0 ^ -1.0<=a32<=1.0 ^ -1.0<=a33<=1.5E-4 ^ -0.9375<=a34<=1.0  (24)\n",
              "\tclass b IF : 0.0<=a01<=1.0 ^ a02=0.0 ^ -1.0<=a03<=1.0 ^ -1.0<=a04<=-0.35625 ^ 0.0<=a05<=1.0 ^ 0.0<=a06<=1.0 ^ -1.0<=a07<=1.0 ^ -1.0<=a08<=1.0 ^ -1.0<=a09<=1.0 ^ -1.0<=a10<=1.0 ^ 0.0<=a11<=1.0 ^ -1.0<=a12<=1.0 ^ -1.0<=a13<=1.0 ^ -1.0<=a14<=1.0 ^ -1.0<=a15<=1.0 ^ -0.55<=a16<=1.0 ^ -1.0<=a17<=1.0 ^ -1.0<=a18<=1.0 ^ -1.0<=a19<=1.0 ^ -1.0<=a20<=1.0 ^ -1.0<=a21<=1.0 ^ -1.0<=a22<=1.0 ^ 0.08333<=a23<=1.0 ^ -1.0<=a24<=0.62349 ^ -1.0<=a25<=1.0 ^ -1.0<=a26<=1.0 ^ a27=1.0 ^ -1.0<=a28<=1.0 ^ -1.0<=a29<=1.0 ^ -1.0<=a30<=0.18854 ^ -1.0<=a31<=1.0 ^ 0.0<=a32<=1.0 ^ a33=1.0 ^ -1.0<=a34<=1.0  (8)\n",
              "\tclass b IF : 0.0<=a01<=1.0 ^ a02=0.0 ^ -1.0<=a03<=1.0 ^ -1.0<=a04<=1.0 ^ -1.0<=a05<=1.0 ^ -1.0<=a06<=1.0 ^ -1.0<=a07<=1.0 ^ -1.0<=a08<=1.0 ^ -1.0<=a09<=1.0 ^ -1.0<=a10<=1.0 ^ -1.0<=a11<=1.0 ^ -1.0<=a12<=1.0 ^ -1.0<=a13<=1.0 ^ -1.0<=a14<=1.0 ^ -1.0<=a15<=1.0 ^ a16=-1.0 ^ -1.0<=a17<=1.0 ^ -1.0<=a18<=1.0 ^ -1.0<=a19<=1.0 ^ -1.0<=a20<=1.0 ^ -1.0<=a21<=1.0 ^ -1.0<=a22<=1.0 ^ -1.0<=a23<=1.0 ^ -1.0<=a24<=1.0 ^ -1.0<=a25<=1.0 ^ -1.0<=a26<=1.0 ^ -0.19149<=a27<=1.0 ^ -1.0<=a28<=1.0 ^ -1.0<=a29<=1.0 ^ -1.0<=a30<=1.0 ^ -1.0<=a31<=1.0 ^ -1.0<=a32<=1.0 ^ -1.0<=a33<=1.0 ^ -1.0<=a34<=1.0  (20)\n",
              "\tclass b IF : a01=0.0 ^ a02=0.0 ^ 0.0<=a03<=1.0 ^ 0.0<=a04<=1.0 ^ -1.0<=a05<=1.0 ^ -1.0<=a06<=1.0 ^ -1.0<=a07<=1.0 ^ -1.0<=a08<=1.0 ^ -1.0<=a09<=1.0 ^ -1.0<=a10<=1.0 ^ -1.0<=a11<=1.0 ^ -1.0<=a12<=1.0 ^ -1.0<=a13<=1.0 ^ -1.0<=a14<=1.0 ^ -1.0<=a15<=1.0 ^ -0.3125<=a16<=1.0 ^ -1.0<=a17<=1.0 ^ -1.0<=a18<=1.0 ^ -1.0<=a19<=1.0 ^ -1.0<=a20<=1.0 ^ -1.0<=a21<=1.0 ^ -1.0<=a22<=1.0 ^ -1.0<=a23<=1.0 ^ 0.0<=a24<=1.0 ^ -1.0<=a25<=1.0 ^ -1.0<=a26<=1.0 ^ -1.0<=a27<=1.0 ^ -1.0<=a28<=1.0 ^ -1.0<=a29<=0.0 ^ -1.0<=a30<=1.0 ^ -1.0<=a31<=1.0 ^ -1.0<=a32<=1.0 ^ -1.0<=a33<=1.0 ^ -1.0<=a34<=1.0  (15)\n",
              "\tclass b IF : a01=1.0 ^ a02=0.0 ^ a03=0.0 ^ a04=0.0 ^ a05=0.0 ^ a06=0.0 ^ a07=0.0 ^ a08=0.0 ^ a09=0.0 ^ a10=0.0 ^ a11=0.0 ^ a12=0.0 ^ a13=-1.0 ^ a14=1.0 ^ a15=1.0 ^ a16=0.55172 ^ a17=0.0 ^ a18=0.0 ^ a19=0.0 ^ a20=0.0 ^ a21=0.0 ^ a22=0.0 ^ a23=0.0 ^ a24=0.0 ^ a25=0.0 ^ a26=0.0 ^ a27=1.0 ^ a28=1.0 ^ a29=0.0 ^ a30=0.0 ^ a31=0.0 ^ a32=0.0 ^ a33=0.0 ^ a34=0.0  (1)\n",
              "\tclass b IF : a01=1.0 ^ a02=0.0 ^ 0.0<=a03<=1.0 ^ -0.05<=a04<=0.40332 ^ 0.82809<=a05<=1.0 ^ 0.03462<=a06<=0.80521 ^ 0.0<=a07<=1.0 ^ 0.0<=a08<=0.72727 ^ 0.10991<=a09<=0.8401 ^ -1.0<=a10<=-0.05909 ^ 0.0<=a11<=0.97311 ^ -0.16818<=a12<=0.11147 ^ 0.0<=a13<=0.95824 ^ -0.85727<=a14<=0.5364 ^ -1.0<=a15<=0.91962 ^ -0.22414<=a16<=1.0 ^ -0.55711<=a17<=0.95452 ^ -0.83297<=a18<=0.21818 ^ 0.66818<=a19<=1.0 ^ 0.1<=a20<=0.63147 ^ 0.0<=a21<=1.0 ^ -0.69594<=a22<=0.16371 ^ 0.53448<=a23<=0.98636 ^ -1.0<=a24<=0.35668 ^ -0.90302<=a25<=0.57273 ^ -0.30063<=a26<=0.44828 ^ 0.48867<=a27<=1.0 ^ -1.0<=a28<=0.17076 ^ -1.0<=a29<=0.62958 ^ 0.08182<=a30<=0.81573 ^ 0.0<=a31<=0.87757 ^ 0.0<=a32<=0.81007 ^ 0.0<=a33<=1.0 ^ 0.0<=a34<=1.0  (4)\n",
              "\tclass b IF : a01=1.0 ^ a02=0.0 ^ a03=0.42708 ^ a04=-0.5 ^ a05=0.0 ^ a06=0.0 ^ a07=0.0 ^ a08=0.0 ^ a09=0.46458 ^ a10=0.51042 ^ a11=0.58958 ^ a12=0.02083 ^ a13=0.0 ^ a14=0.0 ^ a15=0.0 ^ a16=0.0 ^ a17=0.16458 ^ a18=-0.45417 ^ a19=0.59167 ^ a20=-0.18333 ^ a21=0.0 ^ a22=0.0 ^ a23=0.0 ^ a24=0.0 ^ a25=0.9875 ^ a26=-0.40833 ^ a27=-1.0 ^ a28=-1.0 ^ a29=-0.27917 ^ a30=-0.75625 ^ a31=0.0 ^ a32=0.0 ^ a33=0.0 ^ a34=0.0  (1)\n",
              "\tclass b IF : a01=1.0 ^ a02=0.0 ^ a03=0.68729 ^ a04=1.0 ^ a05=0.91973 ^ a06=-0.76087 ^ a07=0.81773 ^ a08=0.04348 ^ a09=0.76087 ^ a10=0.10702 ^ a11=0.86789 ^ a12=0.73746 ^ a13=0.70067 ^ a14=0.18227 ^ a15=0.7592 ^ a16=0.13712 ^ a17=0.93478 ^ a18=-0.25084 ^ a19=0.70736 ^ a20=0.18729 ^ a21=0.64883 ^ a22=0.24582 ^ a23=0.60201 ^ a24=0.77425 ^ a25=1.0 ^ a26=-0.53846 ^ a27=0.89262 ^ a28=0.22216 ^ a29=0.7107 ^ a30=0.53846 ^ a31=1.0 ^ a32=-0.06522 ^ a33=0.56522 ^ a34=0.23913  (1)\n",
              "\tclass b IF : a01=0.0 ^ a02=0.0 ^ a03=1.0 ^ a04=1.0 ^ a05=1.0 ^ a06=-1.0 ^ a07=1.0 ^ a08=1.0 ^ a09=1.0 ^ a10=1.0 ^ a11=1.0 ^ a12=1.0 ^ a13=1.0 ^ a14=-1.0 ^ a15=1.0 ^ a16=1.0 ^ a17=1.0 ^ a18=-1.0 ^ a19=1.0 ^ a20=-1.0 ^ a21=1.0 ^ a22=1.0 ^ a23=1.0 ^ a24=1.0 ^ a25=1.0 ^ a26=-1.0 ^ a27=1.0 ^ a28=1.0 ^ a29=1.0 ^ a30=1.0 ^ a31=1.0 ^ a32=1.0 ^ a33=1.0 ^ a34=1.0  (1)\n",
              "\tclass b IF : 0.0<=a01<=1.0 ^ a02=0.0 ^ a03=-1.0 ^ -1.0<=a04<=1.0 ^ -1.0<=a05<=1.0 ^ -1.0<=a06<=0.15244 ^ -1.0<=a07<=0.28354 ^ -0.70984<=a08<=1.0 ^ -1.0<=a09<=1.0 ^ -0.375<=a10<=1.0 ^ -1.0<=a11<=1.0 ^ -1.0<=a12<=1.0 ^ -1.0<=a13<=1.0 ^ -1.0<=a14<=1.0 ^ -1.0<=a15<=1.0 ^ -0.23476<=a16<=1.0 ^ -1.0<=a17<=1.0 ^ -1.0<=a18<=0.0 ^ -1.0<=a19<=1.0 ^ -1.0<=a20<=1.0 ^ -1.0<=a21<=1.0 ^ -1.0<=a22<=1.0 ^ -1.0<=a23<=1.0 ^ -1.0<=a24<=1.0 ^ -1.0<=a25<=1.0 ^ -1.0<=a26<=1.0 ^ -1.0<=a27<=1.0 ^ -1.0<=a28<=1.0 ^ -1.0<=a29<=1.0 ^ -1.0<=a30<=1.0 ^ -1.0<=a31<=1.0 ^ -1.0<=a32<=1.0 ^ -1.0<=a33<=0.14939 ^ -1.0<=a34<=1.0  (9)\n",
              "\tclass b IF : a01=1.0 ^ a02=0.0 ^ a03=-0.00641 ^ a04=-0.5 ^ a05=0.0 ^ a06=0.0 ^ a07=-0.01923 ^ a08=1.0 ^ a09=0.0 ^ a10=0.0 ^ a11=0.0 ^ a12=0.0 ^ a13=0.0 ^ a14=0.0 ^ a15=0.0 ^ a16=0.0 ^ a17=0.0 ^ a18=0.0 ^ a19=0.3141 ^ a20=0.92949 ^ a21=-0.35256 ^ a22=0.74359 ^ a23=-0.34615 ^ a24=-0.80769 ^ a25=0.0 ^ a26=0.0 ^ a27=-0.61538 ^ a28=-0.51282 ^ a29=0.0 ^ a30=0.0 ^ a31=0.0 ^ a32=0.0 ^ a33=0.0 ^ a34=0.0  (1)\n",
              "\tclass b IF : a01=1.0 ^ a02=0.0 ^ a03=0.0 ^ a04=0.0 ^ a05=0.0 ^ a06=0.0 ^ a07=0.0 ^ a08=0.0 ^ a09=-0.85 ^ a10=-1.0 ^ a11=0.0 ^ a12=0.0 ^ a13=1.0 ^ a14=-1.0 ^ a15=0.0 ^ a16=0.0 ^ a17=-1.0 ^ a18=-1.0 ^ a19=-1.0 ^ a20=-1.0 ^ a21=1.0 ^ a22=-1.0 ^ a23=-0.6 ^ a24=-1.0 ^ a25=1.0 ^ a26=1.0 ^ a27=-1.0 ^ a28=-0.2 ^ a29=1.0 ^ a30=-1.0 ^ a31=0.0 ^ a32=1.0 ^ a33=0.0 ^ a34=0.0  (1)\n",
              "\tclass b IF : a01=0.0 ^ a02=0.0 ^ a03=0.0 ^ a04=0.0 ^ a05=0.0 ^ a06=0.0 ^ a07=0.0 ^ a08=0.0 ^ a09=0.0 ^ a10=0.0 ^ a11=0.0 ^ a12=0.0 ^ a13=1.0 ^ a14=1.0 ^ a15=1.0 ^ a16=1.0 ^ a17=1.0 ^ a18=-1.0 ^ a19=0.0 ^ a20=0.0 ^ a21=1.0 ^ a22=1.0 ^ a23=1.0 ^ a24=-1.0 ^ a25=1.0 ^ a26=1.0 ^ a27=1.0 ^ a28=0.0 ^ a29=1.0 ^ a30=1.0 ^ a31=1.0 ^ a32=-1.0 ^ a33=0.0 ^ a34=0.0  (1)\n",
              "\tclass g IF : a01=1.0 ^ a02=0.0 ^ a03=0.64947 ^ a04=-0.07896 ^ a05=0.58264 ^ a06=-0.1438 ^ a07=-0.13129 ^ a08=-0.21384 ^ a09=0.29796 ^ a10=0.04403 ^ a11=0.38096 ^ a12=-0.26339 ^ a13=0.28931 ^ a14=-0.31997 ^ a15=0.03459 ^ a16=-0.18947 ^ a17=0.20269 ^ a18=-0.29441 ^ a19=0.15196 ^ a20=-0.29052 ^ a21=0.09513 ^ a22=-0.31525 ^ a23=0.06556 ^ a24=-0.26795 ^ a25=0.03004 ^ a26=-0.25124 ^ a27=-4.6E-4 ^ a28=-0.2321 ^ a29=-0.02612 ^ a30=-0.21129 ^ a31=-0.04717 ^ a32=-0.1895 ^ a33=0.01336 ^ a34=-0.27201  (1)\n",
              "\tclass b IF : a01=1.0 ^ a02=0.0 ^ a03=1.0 ^ a04=1.0 ^ a05=0.0 ^ a06=0.0 ^ a07=1.0 ^ a08=-1.0 ^ a09=-1.0 ^ a10=-1.0 ^ a11=1.0 ^ a12=1.0 ^ a13=1.0 ^ a14=-1.0 ^ a15=0.0 ^ a16=0.0 ^ a17=1.0 ^ a18=-1.0 ^ a19=1.0 ^ a20=1.0 ^ a21=0.0 ^ a22=0.0 ^ a23=1.0 ^ a24=-1.0 ^ a25=-1.0 ^ a26=-1.0 ^ a27=1.0 ^ a28=1.0 ^ a29=-1.0 ^ a30=1.0 ^ a31=-1.0 ^ a32=1.0 ^ a33=0.0 ^ a34=0.0  (1)\n",
              "\tclass b IF : a01=1.0 ^ a02=0.0 ^ a03=-1.0 ^ a04=-1.0 ^ a05=-0.50694 ^ a06=1.0 ^ a07=1.0 ^ a08=-1.0 ^ a09=1.0 ^ a10=0.53819 ^ a11=0.0 ^ a12=0.0 ^ a13=0.23958 ^ a14=-1.0 ^ a15=1.0 ^ a16=1.0 ^ a17=0.0 ^ a18=0.0 ^ a19=1.0 ^ a20=1.0 ^ a21=1.0 ^ a22=1.0 ^ a23=0.0 ^ a24=0.0 ^ a25=-0.71528 ^ a26=1.0 ^ a27=0.33333 ^ a28=-1.0 ^ a29=1.0 ^ a30=-1.0 ^ a31=0.69792 ^ a32=-1.0 ^ a33=0.47569 ^ a34=1.0  (1)\n",
              "\tclass b IF : a01=1.0 ^ a02=0.0 ^ 0.01975<=a03<=0.1859 ^ -0.16667<=a04<=0.00705 ^ 0.0<=a05<=0.0409 ^ -0.00846<=a06<=0.0 ^ 0.0<=a07<=0.02116 ^ 0.0<=a08<=0.01128 ^ 0.0<=a09<=0.01128 ^ 0.0<=a10<=0.04372 ^ 0.0<=a11<=0.00282 ^ 0.0<=a12<=0.00141 ^ 0.01975<=a13<=0.11538 ^ -0.19071<=a14<=-0.03103 ^ -0.01975<=a15<=0.0 ^ 0.0<=a16<=0.06065 ^ -0.0409<=a17<=0.0 ^ 0.0<=a18<=0.0268 ^ -0.02398<=a19<=0.0 ^ -0.00423<=a20<=0.0 ^ 0.0<=a21<=0.04372 ^ -0.02539<=a22<=0.0 ^ -0.05128<=a23<=0.01834 ^ -0.06571<=a24<=0.0 ^ 0.0<=a25<=0.07853 ^ -0.01269<=a26<=0.08974 ^ 0.01834<=a27<=0.17308 ^ -0.10897<=a28<=-0.01128 ^ 0.00564<=a29<=0.125 ^ -0.01551<=a30<=0.09615 ^ -0.01693<=a31<=0.02564 ^ -0.04808<=a32<=-0.02398 ^ 0.00705<=a33<=0.16827 ^ 0.0<=a34<=0.19551  (2)\n",
              "\tclass b IF : a01=1.0 ^ a02=0.0 ^ a03=0.62121 ^ a04=-0.63636 ^ a05=0.0 ^ a06=0.0 ^ a07=0.0 ^ a08=0.0 ^ a09=0.3447 ^ a10=0.28788 ^ a11=0.42803 ^ a12=0.39394 ^ a13=-0.07576 ^ a14=0.51894 ^ a15=0.36364 ^ a16=0.31439 ^ a17=-0.53788 ^ a18=0.32955 ^ a19=0.12121 ^ a20=-0.14773 ^ a21=0.01894 ^ a22=-0.53409 ^ a23=-0.57576 ^ a24=0.17803 ^ a25=0.29167 ^ a26=-0.27273 ^ a27=0.25758 ^ a28=-0.57576 ^ a29=0.43182 ^ a30=0.24242 ^ a31=0.18182 ^ a32=-0.02273 ^ a33=0.17045 ^ a34=-0.41667  (1)\n",
              "\tclass b IF : a01=1.0 ^ a02=0.0 ^ a03=1.0 ^ a04=1.0 ^ a05=1.0 ^ a06=0.5125 ^ a07=0.625 ^ a08=-1.0 ^ a09=1.0 ^ a10=1.0 ^ a11=0.025 ^ a12=0.03125 ^ a13=1.0 ^ a14=1.0 ^ a15=0.0 ^ a16=0.0 ^ a17=1.0 ^ a18=-1.0 ^ a19=1.0 ^ a20=1.0 ^ a21=1.0 ^ a22=1.0 ^ a23=0.3125 ^ a24=1.0 ^ a25=1.0 ^ a26=1.0 ^ a27=1.0 ^ a28=1.0 ^ a29=1.0 ^ a30=1.0 ^ a31=-0.94375 ^ a32=1.0 ^ a33=0.0 ^ a34=0.0  (1)\n",
              "\tclass b IF : a01=1.0 ^ a02=0.0 ^ a03=1.0 ^ a04=-1.0 ^ a05=1.0 ^ a06=1.0 ^ a07=-1.0 ^ a08=1.0 ^ a09=1.0 ^ a10=-1.0 ^ a11=1.0 ^ a12=-1.0 ^ a13=-1.0 ^ a14=-1.0 ^ a15=-1.0 ^ a16=1.0 ^ a17=1.0 ^ a18=1.0 ^ a19=1.0 ^ a20=1.0 ^ a21=-1.0 ^ a22=1.0 ^ a23=1.0 ^ a24=-1.0 ^ a25=1.0 ^ a26=-1.0 ^ a27=1.0 ^ a28=1.0 ^ a29=1.0 ^ a30=1.0 ^ a31=-1.0 ^ a32=1.0 ^ a33=-1.0 ^ a34=1.0  (1)\n",
              "\tclass b IF : a01=1.0 ^ a02=0.0 ^ 0.39179<=a03<=0.85271 ^ -0.06343<=a04<=0.05426 ^ 0.97464<=a05<=1.0 ^ 0.04328<=a06<=0.08069 ^ a07=1.0 ^ a08=1.0 ^ 0.35821<=a09<=0.91473 ^ -0.00775<=a10<=0.15299 ^ 0.54478<=a11<=0.83721 ^ 0.03876<=a12<=0.1306 ^ 0.61567<=a13<=1.0 ^ -0.8209<=a14<=0.27153 ^ 0.57836<=a15<=1.0 ^ 0.6791<=a16<=1.0 ^ 0.66791<=a17<=0.81395 ^ -0.10448<=a18<=0.04651 ^ 0.46642<=a19<=0.90698 ^ -0.11567<=a20<=0.11628 ^ 0.65574<=a21<=1.0 ^ 0.14792<=a22<=0.5067 ^ 0.83209<=a23<=1.0 ^ -1.0<=a24<=0.45522 ^ 0.47015<=a25<=0.8062 ^ 0.03876<=a26<=0.16418 ^ 0.49309<=a27<=1.0 ^ 0.1463<=a28<=0.71613 ^ 0.32463<=a29<=0.84496 ^ -0.02612<=a30<=0.06977 ^ 0.39118<=a31<=1.0 ^ 0.13521<=a32<=0.87317 ^ 0.34411<=a33<=1.0 ^ 0.12755<=a34<=1.0  (2)\n",
              "\tclass b IF : a01=1.0 ^ a02=0.0 ^ a03=0.39286 ^ a04=0.52381 ^ a05=-0.78824 ^ a06=0.11342 ^ a07=-0.16628 ^ a08=-0.76378 ^ a09=0.66667 ^ a10=0.0119 ^ a11=0.82143 ^ a12=0.40476 ^ a13=-0.6723 ^ a14=0.30729 ^ a15=-0.34797 ^ a16=-0.63668 ^ a17=0.46429 ^ a18=0.15476 ^ a19=0.54762 ^ a20=0.05952 ^ a21=-0.5183 ^ a22=0.44961 ^ a23=-0.47651 ^ a24=-0.47594 ^ a25=0.32143 ^ a26=0.70238 ^ a27=0.51971 ^ a28=0.38848 ^ a29=0.57143 ^ a30=0.39286 ^ a31=-0.54891 ^ a32=-0.29915 ^ a33=0.25441 ^ a34=-0.55837  (1)\n",
              "\tclass b IF : a01=1.0 ^ a02=0.0 ^ a03=1.0 ^ a04=-0.05529 ^ a05=1.0 ^ a06=-1.0 ^ a07=0.5 ^ a08=-0.11111 ^ a09=0.36111 ^ a10=-0.22222 ^ a11=1.0 ^ a12=-0.25712 ^ a13=0.16667 ^ a14=-0.11111 ^ a15=1.0 ^ a16=-0.3466 ^ a17=1.0 ^ a18=-0.38853 ^ a19=1.0 ^ a20=-0.42862 ^ a21=0.0 ^ a22=-0.25 ^ a23=1.0 ^ a24=-0.50333 ^ a25=1.0 ^ a26=-0.27778 ^ a27=1.0 ^ a28=-0.57092 ^ a29=1.0 ^ a30=-0.27778 ^ a31=1.0 ^ a32=-0.63156 ^ a33=1.0 ^ a34=-0.65935  (1)\n",
              "\tclass b IF : a01=1.0 ^ a02=0.0 ^ a03=-1.0 ^ a04=-1.0 ^ a05=0.0 ^ a06=0.0 ^ a07=0.50814 ^ a08=-0.78502 ^ a09=0.60586 ^ a10=0.32899 ^ a11=-1.0 ^ a12=-0.41368 ^ a13=0.0 ^ a14=0.0 ^ a15=0.0 ^ a16=0.0 ^ a17=1.0 ^ a18=-0.2671 ^ a19=0.36482 ^ a20=-0.63518 ^ a21=0.97068 ^ a22=-1.0 ^ a23=-1.0 ^ a24=-1.0 ^ a25=1.0 ^ a26=-0.59609 ^ a27=-1.0 ^ a28=-1.0 ^ a29=-1.0 ^ a30=-1.0 ^ a31=1.0 ^ a32=-1.0 ^ a33=0.0 ^ a34=0.0  (1)\n",
              "\tclass g IF : a01=1.0 ^ a02=0.0 ^ 0.9449<=a03<=1.0 ^ -0.57224<=a04<=-0.49311 ^ 0.9915<=a05<=1.0 ^ -0.73371<=a06<=-0.03692 ^ 0.89518<=a07<=0.98898 ^ -0.9745<=a08<=-0.87052 ^ 0.90083<=a09<=1.0 ^ -0.35818<=a10<=0.66942 ^ a11=1.0 ^ -0.23229<=a12<=-0.10104 ^ 0.6289<=a13<=1.0 ^ -0.86402<=a14<=-0.12493 ^ a15=1.0 ^ -0.57535<=a16<=-0.15017 ^ a17=1.0 ^ -0.79603<=a18<=-0.17681 ^ 0.76771<=a19<=1.0 ^ -0.88952<=a20<=-0.20491 ^ 0.96601<=a21<=1.0 ^ -1.0<=a22<=-0.23452 ^ 0.7012<=a23<=1.0 ^ -0.74896<=a24<=-0.26571 ^ 0.61946<=a25<=1.0 ^ -0.76904<=a26<=-0.29852 ^ 0.53777<=a27<=1.0 ^ -0.77986<=a28<=-0.33304 ^ 0.8102<=a29<=1.0 ^ -1.0<=a30<=-0.36931 ^ a31=1.0 ^ -1.0<=a32<=-0.4074 ^ 0.30445<=a33<=1.0 ^ -0.76112<=a34<=-0.44739  (2)\n",
              "\tclass b IF : a01=1.0 ^ a02=0.0 ^ a03=1.0 ^ a04=-1.0 ^ a05=0.0 ^ a06=0.0 ^ a07=0.77941 ^ a08=-0.99265 ^ a09=0.80882 ^ a10=0.55147 ^ a11=-0.41912 ^ a12=-0.94853 ^ a13=0.0 ^ a14=0.0 ^ a15=0.0 ^ a16=0.0 ^ a17=0.72059 ^ a18=-0.77206 ^ a19=0.73529 ^ a20=-0.60294 ^ a21=0.0 ^ a22=0.0 ^ a23=0.18382 ^ a24=-1.0 ^ a25=-1.0 ^ a26=-1.0 ^ a27=-1.0 ^ a28=-1.0 ^ a29=1.0 ^ a30=-1.0 ^ a31=1.0 ^ a32=-1.0 ^ a33=0.0 ^ a34=0.0  (1)\n",
              "\tclass b IF : a01=0.0 ^ a02=0.0 ^ a03=1.0 ^ a04=1.0 ^ a05=1.0 ^ a06=-1.0 ^ a07=1.0 ^ a08=1.0 ^ a09=-1.0 ^ a10=1.0 ^ a11=0.0 ^ a12=0.0 ^ a13=1.0 ^ a14=1.0 ^ a15=0.0 ^ a16=0.0 ^ a17=0.0 ^ a18=0.0 ^ a19=-1.0 ^ a20=1.0 ^ a21=-1.0 ^ a22=1.0 ^ a23=1.0 ^ a24=1.0 ^ a25=1.0 ^ a26=-1.0 ^ a27=1.0 ^ a28=1.0 ^ a29=1.0 ^ a30=1.0 ^ a31=1.0 ^ a32=-1.0 ^ a33=-1.0 ^ a34=1.0  (1)\n",
              "\tclass b IF : a01=1.0 ^ a02=0.0 ^ a03=0.84783 ^ a04=0.10598 ^ a05=1.0 ^ a06=0.3913 ^ a07=1.0 ^ a08=-1.0 ^ a09=0.66938 ^ a10=0.08424 ^ a11=1.0 ^ a12=0.27038 ^ a13=1.0 ^ a14=0.60598 ^ a15=1.0 ^ a16=0.35507 ^ a17=1.0 ^ a18=0.02672 ^ a19=0.58424 ^ a20=-0.43025 ^ a21=1.0 ^ a22=0.63496 ^ a23=0.8913 ^ a24=0.26585 ^ a25=0.91033 ^ a26=-0.33333 ^ a27=1.0 ^ a28=0.15942 ^ a29=0.37681 ^ a30=-0.01947 ^ a31=1.0 ^ a32=0.22464 ^ a33=1.0 ^ a34=0.37409  (1)\n",
              "\n",
              "Stat :\n",
              "\tclass b : 30 exemplar(s) including 11 Hyperrectangle(s) and 19 Single(s).\n",
              "\tclass g : 20 exemplar(s) including 11 Hyperrectangle(s) and 9 Single(s).\n",
              "\n",
              "\tTotal : 50 exemplars(s) including 22 Hyperrectangle(s) and 28 Single(s).\n",
              "\n",
              "\tFeature weights : [0.17759734278086603 0.0 0.28422530344981234 0.20047042107405336 0.31159362346048664 0.12840276551920687 0.21913296723350978 0.12160023591270218 0.14378674108080622 0.08088157038474471 0.08983396718361111 0.10022173638214034 0.13538059276408898 0.1284052455349774 0.15557387473809003 0.10324538587943824 0.10095110649931217 0.05702677068353289 0.06824056468883685 0.05488801051639372 0.15152558322534648 0.04876015313210194 0.141621054484178 0.06318951170047418 0.0984020208735697 0.03872336279945244 0.020232168414620007 0.11838496947309671 0.11832251821318315 0.06483354853328607 0.18289989662681697 0.07464704817537929 0.13556091162456377 0.04688331003356788]\n",
              "\n",
              ">"
            ]
          },
          "metadata": {},
          "execution_count": 16
        }
      ]
    },
    {
      "cell_type": "markdown",
      "source": [
        "**Task 7.1.4** Modify the classifier's parameters. `G` is number of attempts of generalization, and `I` is number of rectangles\n",
        "\n",
        "```\n",
        "cls = Classifier(classname=\"weka.classifiers.rules.NNge\", options=[\"-G\", \"100\", \"-I\", \"10\"])\n",
        "```"
      ],
      "metadata": {
        "id": "IzA3L93_v8kZ"
      }
    },
    {
      "cell_type": "markdown",
      "source": [
        "## Distance Functions For Generalized Exemplars"
      ],
      "metadata": {
        "id": "GbnlXiGrwxf9"
      }
    },
    {
      "cell_type": "code",
      "source": [
        "# load the data\n",
        "instances = loader.load_file(\"data/weather.numeric.arff\")"
      ],
      "metadata": {
        "id": "LRf5ItIPw4Dj"
      },
      "execution_count": null,
      "outputs": []
    },
    {
      "cell_type": "code",
      "source": [
        "instances"
      ],
      "metadata": {
        "colab": {
          "base_uri": "https://localhost:8080/"
        },
        "id": "fSCnEdsgw9dt",
        "outputId": "6f794abe-86e6-4a72-daa3-2cad96f063ff"
      },
      "execution_count": null,
      "outputs": [
        {
          "output_type": "execute_result",
          "data": {
            "text/plain": [
              "@relation weather\n",
              "\n",
              "@attribute outlook {sunny,overcast,rainy}\n",
              "@attribute temperature numeric\n",
              "@attribute humidity numeric\n",
              "@attribute windy {TRUE,FALSE}\n",
              "@attribute play {yes,no}\n",
              "\n",
              "@data\n",
              "sunny,85,85,FALSE,no\n",
              "sunny,80,90,TRUE,no\n",
              "overcast,83,86,FALSE,yes\n",
              "rainy,70,96,FALSE,yes\n",
              "rainy,68,80,FALSE,yes\n",
              "rainy,65,70,TRUE,no\n",
              "overcast,64,65,TRUE,yes\n",
              "sunny,72,95,FALSE,no\n",
              "sunny,69,70,FALSE,yes\n",
              "rainy,75,80,FALSE,yes\n",
              "sunny,75,70,TRUE,yes\n",
              "overcast,72,90,TRUE,yes\n",
              "overcast,81,75,FALSE,yes\n",
              "rainy,71,91,TRUE,no"
            ]
          },
          "metadata": {},
          "execution_count": 70
        }
      ]
    },
    {
      "cell_type": "code",
      "source": [
        "# set class to be the last attribute\n",
        "instances.class_index = instances.num_attributes - 1"
      ],
      "metadata": {
        "id": "7_vhDq6Iw_YI"
      },
      "execution_count": null,
      "outputs": []
    },
    {
      "cell_type": "code",
      "source": [
        "# build the Nearest-neighbor-like algorithm using non-nested generalized exemplars\n",
        "# hyperrectangles that can be viewed as if-then rules\n",
        "\n",
        "from weka.classifiers import Classifier\n",
        "cls = Classifier(classname=\"weka.classifiers.rules.NNge\")\n",
        "cls.build_classifier(instances)"
      ],
      "metadata": {
        "id": "wNdHrPc1xEuz"
      },
      "execution_count": null,
      "outputs": []
    },
    {
      "cell_type": "code",
      "source": [
        "# see the rectangles picture in page 249\n",
        "cls.description"
      ],
      "metadata": {
        "colab": {
          "base_uri": "https://localhost:8080/"
        },
        "id": "kiafE5xBxIkY",
        "outputId": "9257c808-99f7-40d5-8801-950c183ee32b"
      },
      "execution_count": null,
      "outputs": [
        {
          "output_type": "execute_result",
          "data": {
            "text/plain": [
              "<bound method OptionHandler.description of \n",
              "NNGE classifier\n",
              "\n",
              "Rules generated :\n",
              "\tclass no IF : outlook in {rainy} ^ 65.0<=temperature<=71.0 ^ 70.0<=humidity<=91.0 ^ windy in {TRUE}  (2)\n",
              "\tclass yes IF : outlook in {overcast} ^ temperature=72.0 ^ humidity=90.0 ^ windy in {TRUE}  (1)\n",
              "\tclass yes IF : outlook in {overcast,rainy} ^ 68.0<=temperature<=83.0 ^ 75.0<=humidity<=96.0 ^ windy in {FALSE}  (5)\n",
              "\tclass yes IF : outlook in {sunny,overcast} ^ 64.0<=temperature<=75.0 ^ 65.0<=humidity<=70.0 ^ windy in {TRUE,FALSE}  (3)\n",
              "\tclass no IF : outlook in {sunny} ^ 72.0<=temperature<=85.0 ^ 85.0<=humidity<=95.0 ^ windy in {TRUE,FALSE}  (3)\n",
              "\n",
              "Stat :\n",
              "\tclass yes : 3 exemplar(s) including 2 Hyperrectangle(s) and 1 Single(s).\n",
              "\tclass no : 2 exemplar(s) including 2 Hyperrectangle(s) and 0 Single(s).\n",
              "\n",
              "\tTotal : 5 exemplars(s) including 4 Hyperrectangle(s) and 1 Single(s).\n",
              "\n",
              "\tFeature weights : [0.24674981977443894 0.19996253177061085 0.21886699651992553 0.04812703040826924]\n",
              "\n",
              ">"
            ]
          },
          "metadata": {},
          "execution_count": 73
        }
      ]
    },
    {
      "cell_type": "code",
      "source": [
        "# classify the last instance\n",
        "instances.get_instance(instances.num_instances - 1)\n",
        "\n",
        "# euclidean distance is used if the instance is outside all rectangles"
      ],
      "metadata": {
        "colab": {
          "base_uri": "https://localhost:8080/"
        },
        "id": "jxDMuCtnHbIM",
        "outputId": "8c5e2445-0ccb-4bba-d267-dbd9e042eb56"
      },
      "execution_count": null,
      "outputs": [
        {
          "output_type": "execute_result",
          "data": {
            "text/plain": [
              "rainy,71,91,TRUE,no"
            ]
          },
          "metadata": {},
          "execution_count": 79
        }
      ]
    },
    {
      "cell_type": "code",
      "source": [
        "# create a new instance, add it to the dataset, its schema is attached\n",
        "\n",
        "from weka.core.dataset import Instance\n",
        "\n",
        "# rainy, 71, 91, True, no\n",
        "values = [2, 71, 91, 0, 0]\n",
        "inst = Instance.create_instance(values)\n",
        "instances.add_instance(inst)"
      ],
      "metadata": {
        "id": "VnAgnxgrJDnx"
      },
      "execution_count": null,
      "outputs": []
    },
    {
      "cell_type": "code",
      "source": [
        "# show the last instance, we just added\n",
        "instances.get_instance(instances.num_instances - 1)"
      ],
      "metadata": {
        "colab": {
          "base_uri": "https://localhost:8080/"
        },
        "id": "tnLsptliJ6cf",
        "outputId": "943437e6-0134-4891-91ec-9876183b4045"
      },
      "execution_count": null,
      "outputs": [
        {
          "output_type": "execute_result",
          "data": {
            "text/plain": [
              "rainy,71,91,TRUE,yes"
            ]
          },
          "metadata": {},
          "execution_count": 93
        }
      ]
    },
    {
      "cell_type": "code",
      "source": [
        "# classify the last instance, we just added\n",
        "cls.classify_instance(\n",
        "    instances.get_instance(\n",
        "        instances.num_instances - 1\n",
        "    )\n",
        "  )"
      ],
      "metadata": {
        "colab": {
          "base_uri": "https://localhost:8080/"
        },
        "id": "5ODmn2h-Mn9a",
        "outputId": "9e34c05f-b20a-4e2a-949a-55962661fcf9"
      },
      "execution_count": null,
      "outputs": [
        {
          "output_type": "execute_result",
          "data": {
            "text/plain": [
              "1.0"
            ]
          },
          "metadata": {},
          "execution_count": 102
        }
      ]
    },
    {
      "cell_type": "markdown",
      "source": [
        "**Task 7.1.5** Query an instance outside the rectangles."
      ],
      "metadata": {
        "id": "ZkdKW7RpxUG3"
      }
    },
    {
      "cell_type": "markdown",
      "source": [
        "## ~~Generalized Distance Functions~~"
      ],
      "metadata": {
        "id": "4cjgIY-z0NKG"
      }
    },
    {
      "cell_type": "markdown",
      "source": [
        "# 7.2 Extending Linear Models"
      ],
      "metadata": {
        "id": "iMPtp3vp0_gO"
      }
    },
    {
      "cell_type": "markdown",
      "source": [
        "Sources\n",
        "- [SMO, Sourceforge](https://weka.sourceforge.io/doc.dev/weka/classifiers/functions/SMO.html) - Implements John Platt's sequential minimal optimization algorithm for training a support vector classifier."
      ],
      "metadata": {
        "id": "xDw46So77C-U"
      }
    },
    {
      "cell_type": "markdown",
      "source": [
        "## The Maximum Margin Hyperplane"
      ],
      "metadata": {
        "id": "UQt7XtFA4Glg"
      }
    },
    {
      "cell_type": "code",
      "source": [
        "# load the data\n",
        "instances = loader.load_file(\"data/ionosphere.arff\")"
      ],
      "metadata": {
        "id": "5YMQSX141ePT"
      },
      "execution_count": null,
      "outputs": []
    },
    {
      "cell_type": "code",
      "source": [
        "# set the class index to be the last attribute\n",
        "instances.class_index = instances.num_attributes - 1"
      ],
      "metadata": {
        "id": "sJXhPht52hDu"
      },
      "execution_count": null,
      "outputs": []
    },
    {
      "cell_type": "code",
      "source": [
        "# build the classifier\n",
        "\n",
        "# Implements John Platt's sequential minimal optimization algorithm for training a support vector classifier.\n",
        "# This implementation globally replaces all missing values\n",
        "# transforms nominal attributes into binary ones\n",
        "# normalizes all attributes by default.\n",
        "\n",
        "from weka.classifiers import Classifier\n",
        "cls = Classifier(classname=\"weka.classifiers.functions.SMO\")\n",
        "cls.build_classifier(instances)"
      ],
      "metadata": {
        "id": "5jP-agT51mDB"
      },
      "execution_count": null,
      "outputs": []
    },
    {
      "cell_type": "code",
      "source": [
        "cls.description"
      ],
      "metadata": {
        "colab": {
          "base_uri": "https://localhost:8080/"
        },
        "id": "H9Pw-3WY2jXz",
        "outputId": "43088ccc-4a29-4455-b39c-f0cff590f2f2"
      },
      "execution_count": null,
      "outputs": [
        {
          "output_type": "execute_result",
          "data": {
            "text/plain": [
              "<bound method OptionHandler.description of SMO\n",
              "\n",
              "Kernel used:\n",
              "  Linear Kernel: K(x,y) = <x,y>\n",
              "\n",
              "Classifier for classes: b, g\n",
              "\n",
              "BinarySMO\n",
              "\n",
              "Machine linear: showing attribute weights, not support vectors.\n",
              "\n",
              "         2.7284 * (normalized) a01\n",
              " +       1.2922 * (normalized) a03\n",
              " +       0.496  * (normalized) a04\n",
              " +       1.25   * (normalized) a05\n",
              " +       1.0747 * (normalized) a06\n",
              " +       1.3562 * (normalized) a07\n",
              " +       1.7094 * (normalized) a08\n",
              " +       0.662  * (normalized) a09\n",
              " +       0.3239 * (normalized) a10\n",
              " +      -0.3074 * (normalized) a11\n",
              " +      -0.2181 * (normalized) a12\n",
              " +      -0.3015 * (normalized) a13\n",
              " +       0.5468 * (normalized) a14\n",
              " +       0.5205 * (normalized) a15\n",
              " +      -0.3385 * (normalized) a16\n",
              " +       0.1632 * (normalized) a17\n",
              " +       0.1591 * (normalized) a18\n",
              " +      -0.3796 * (normalized) a19\n",
              " +       0.0701 * (normalized) a20\n",
              " +       0.2769 * (normalized) a21\n",
              " +      -1.6155 * (normalized) a22\n",
              " +       0.9716 * (normalized) a23\n",
              " +       0.2532 * (normalized) a24\n",
              " +       0.5938 * (normalized) a25\n",
              " +       0.4138 * (normalized) a26\n",
              " +      -1.5804 * (normalized) a27\n",
              " +       0.1973 * (normalized) a28\n",
              " +       0.2796 * (normalized) a29\n",
              " +       1.1746 * (normalized) a30\n",
              " +       0.698  * (normalized) a31\n",
              " +      -0.3987 * (normalized) a32\n",
              " +      -0.2987 * (normalized) a33\n",
              " +      -1.1094 * (normalized) a34\n",
              " -       7.5956\n",
              "\n",
              "Number of kernel evaluations: 35464 (79.52% cached)\n",
              "\n",
              ">"
            ]
          },
          "metadata": {},
          "execution_count": 28
        }
      ]
    },
    {
      "cell_type": "markdown",
      "source": [
        "**Task 7.2.1** Apply the code snippet on a dataset of two attributes, and visualize the hyperplane like page 253 of the book"
      ],
      "metadata": {
        "id": "tqf27kOs5gTa"
      }
    },
    {
      "cell_type": "markdown",
      "source": [
        "## Nonlinear Class Boundaries"
      ],
      "metadata": {
        "id": "cZXTn22L4KQN"
      }
    },
    {
      "cell_type": "markdown",
      "source": [
        "### Using the kernel in weka's classifiers"
      ],
      "metadata": {
        "id": "EXLJXslmyK1a"
      }
    },
    {
      "cell_type": "code",
      "source": [
        "# load the data\n",
        "instances = loader.load_file(\"data/ionosphere.arff\")"
      ],
      "metadata": {
        "id": "y6GC1Vab51Yz"
      },
      "execution_count": null,
      "outputs": []
    },
    {
      "cell_type": "code",
      "source": [
        "# set the class to be the last attribute\n",
        "instances.class_index = instances.num_attributes - 1"
      ],
      "metadata": {
        "id": "EYZXq4wZ53lP"
      },
      "execution_count": null,
      "outputs": []
    },
    {
      "cell_type": "code",
      "source": [
        "# Build the classifier\n",
        "\n",
        "# Implements John Platt's sequential minimal optimization algorithm for training a support vector classifier.\n",
        "# This implementation globally replaces all missing values\n",
        "# transforms nominal attributes into binary ones\n",
        "# normalizes all attributes by default.\n",
        "\n",
        "from weka.classifiers import Classifier\n",
        "cls = Classifier(classname=\"weka.classifiers.functions.SMO\", options=[\"-K\", \"weka.classifiers.functions.supportVector.PolyKernel\"])\n",
        "cls.build_classifier(instances)"
      ],
      "metadata": {
        "id": "0ENCAkqr56sL"
      },
      "execution_count": null,
      "outputs": []
    },
    {
      "cell_type": "code",
      "source": [
        "cls.description"
      ],
      "metadata": {
        "colab": {
          "base_uri": "https://localhost:8080/"
        },
        "id": "tlXB1bVH7ml3",
        "outputId": "48ad5515-357c-4274-cefc-1c33e66578c2"
      },
      "execution_count": null,
      "outputs": [
        {
          "output_type": "execute_result",
          "data": {
            "text/plain": [
              "<bound method OptionHandler.description of SMO\n",
              "\n",
              "Kernel used:\n",
              "  Linear Kernel: K(x,y) = <x,y>\n",
              "\n",
              "Classifier for classes: b, g\n",
              "\n",
              "BinarySMO\n",
              "\n",
              "Machine linear: showing attribute weights, not support vectors.\n",
              "\n",
              "         2.7284 * (normalized) a01\n",
              " +       1.2922 * (normalized) a03\n",
              " +       0.496  * (normalized) a04\n",
              " +       1.25   * (normalized) a05\n",
              " +       1.0747 * (normalized) a06\n",
              " +       1.3562 * (normalized) a07\n",
              " +       1.7094 * (normalized) a08\n",
              " +       0.662  * (normalized) a09\n",
              " +       0.3239 * (normalized) a10\n",
              " +      -0.3074 * (normalized) a11\n",
              " +      -0.2181 * (normalized) a12\n",
              " +      -0.3015 * (normalized) a13\n",
              " +       0.5468 * (normalized) a14\n",
              " +       0.5205 * (normalized) a15\n",
              " +      -0.3385 * (normalized) a16\n",
              " +       0.1632 * (normalized) a17\n",
              " +       0.1591 * (normalized) a18\n",
              " +      -0.3796 * (normalized) a19\n",
              " +       0.0701 * (normalized) a20\n",
              " +       0.2769 * (normalized) a21\n",
              " +      -1.6155 * (normalized) a22\n",
              " +       0.9716 * (normalized) a23\n",
              " +       0.2532 * (normalized) a24\n",
              " +       0.5938 * (normalized) a25\n",
              " +       0.4138 * (normalized) a26\n",
              " +      -1.5804 * (normalized) a27\n",
              " +       0.1973 * (normalized) a28\n",
              " +       0.2796 * (normalized) a29\n",
              " +       1.1746 * (normalized) a30\n",
              " +       0.698  * (normalized) a31\n",
              " +      -0.3987 * (normalized) a32\n",
              " +      -0.2987 * (normalized) a33\n",
              " +      -1.1094 * (normalized) a34\n",
              " -       7.5956\n",
              "\n",
              "Number of kernel evaluations: 35464 (79.52% cached)\n",
              "\n",
              ">"
            ]
          },
          "metadata": {},
          "execution_count": 33
        }
      ]
    },
    {
      "cell_type": "markdown",
      "source": [
        "**Task 7.2.2** Try different kernelization methods. See the doc from [here](https://weka.sourceforge.io/doc.dev/weka/classifiers/functions/supportVector/package-summary.html)."
      ],
      "metadata": {
        "id": "efRbeyUWUqgs"
      }
    },
    {
      "cell_type": "markdown",
      "source": [
        "### Visualizing Kernel's Effect"
      ],
      "metadata": {
        "id": "WgMnXpJPyRhZ"
      }
    },
    {
      "cell_type": "markdown",
      "source": [
        "Sources\n",
        "- [SVM Kernels Plot, Scikit-learn](https://scikit-learn.org/stable/auto_examples/svm/plot_svm_kernels.html)."
      ],
      "metadata": {
        "id": "-6_yZ78y030I"
      }
    },
    {
      "cell_type": "code",
      "source": [
        "# Dummy data\n",
        "\n",
        "import matplotlib.pyplot as plt\n",
        "import numpy as np\n",
        "\n",
        "X = np.array(\n",
        "    [\n",
        "        [0.4, -0.7],\n",
        "        [-1.5, -1.0],\n",
        "        [-1.4, -0.9],\n",
        "        [-1.3, -1.2],\n",
        "        [-1.1, -0.2],\n",
        "        [-1.2, -0.4],\n",
        "        [-0.5, 1.2],\n",
        "        [-1.5, 2.1],\n",
        "        [1.0, 1.0],\n",
        "        [1.3, 0.8],\n",
        "        [1.2, 0.5],\n",
        "        [0.2, -2.0],\n",
        "        [0.5, -2.4],\n",
        "        [0.2, -2.3],\n",
        "        [0.0, -2.7],\n",
        "        [1.3, 2.1],\n",
        "    ]\n",
        ")\n",
        "\n",
        "y = np.array([0, 0, 0, 0, 0, 0, 0, 0, 1, 1, 1, 1, 1, 1, 1, 1])\n",
        "\n",
        "# Plotting settings\n",
        "fig, ax = plt.subplots(figsize=(4, 3))\n",
        "x_min, x_max, y_min, y_max = -3, 3, -3, 3\n",
        "ax.set(xlim=(x_min, x_max), ylim=(y_min, y_max))\n",
        "\n",
        "# Plot samples by color and add legend\n",
        "scatter = ax.scatter(X[:, 0], X[:, 1], s=150, c=y, label=y, edgecolors=\"k\")\n",
        "ax.figure.set_size_inches(10, 8)\n",
        "ax.legend(*scatter.legend_elements(), loc=\"upper right\", title=\"Classes\")\n",
        "ax.set_title(\"Samples in two-dimensional feature space\")\n",
        "_ = plt.show()"
      ],
      "metadata": {
        "colab": {
          "base_uri": "https://localhost:8080/"
        },
        "id": "jxW_5fzhykGm",
        "outputId": "aa2d06a5-111c-46a3-ca99-c44f04234783"
      },
      "execution_count": null,
      "outputs": [
        {
          "output_type": "display_data",
          "data": {
            "text/plain": [
              "<Figure size 1000x800 with 1 Axes>"
            ],
            "image/png": "[encoded data removed]"
          },
          "metadata": {}
        }
      ]
    },
    {
      "cell_type": "code",
      "source": [
        "from sklearn import svm\n",
        "from sklearn.inspection import DecisionBoundaryDisplay\n",
        "\n",
        "\n",
        "def plot_training_data_with_decision_boundary(kernel):\n",
        "    # Train the SVC\n",
        "    clf = svm.SVC(kernel=kernel, gamma=2).fit(X, y)\n",
        "\n",
        "    # Settings for plotting\n",
        "    _, ax = plt.subplots(figsize=(4, 3))\n",
        "    x_min, x_max, y_min, y_max = -3, 3, -3, 3\n",
        "    ax.set(xlim=(x_min, x_max), ylim=(y_min, y_max))\n",
        "\n",
        "    # Plot decision boundary and margins\n",
        "    common_params = {\"estimator\": clf, \"X\": X, \"ax\": ax}\n",
        "    DecisionBoundaryDisplay.from_estimator(\n",
        "        **common_params,\n",
        "        response_method=\"predict\",\n",
        "        plot_method=\"pcolormesh\",\n",
        "        alpha=0.3,\n",
        "    )\n",
        "    DecisionBoundaryDisplay.from_estimator(\n",
        "        **common_params,\n",
        "        response_method=\"decision_function\",\n",
        "        plot_method=\"contour\",\n",
        "        levels=[-1, 0, 1],\n",
        "        colors=[\"k\", \"k\", \"k\"],\n",
        "        linestyles=[\"--\", \"-\", \"--\"],\n",
        "    )\n",
        "\n",
        "    # Plot bigger circles around samples that serve as support vectors\n",
        "    ax.scatter(\n",
        "        clf.support_vectors_[:, 0],\n",
        "        clf.support_vectors_[:, 1],\n",
        "        s=250,\n",
        "        facecolors=\"none\",\n",
        "        edgecolors=\"k\",\n",
        "    )\n",
        "    # Plot samples by color and add legend\n",
        "    ax.scatter(X[:, 0], X[:, 1], c=y, s=150, edgecolors=\"k\")\n",
        "    ax.figure.set_size_inches(10, 8)\n",
        "    ax.legend(*scatter.legend_elements(), loc=\"upper right\", title=\"Classes\")\n",
        "    ax.set_title(f\" Decision boundaries of {kernel} kernel in SVC\")\n",
        "\n",
        "    _ = plt.show()"
      ],
      "metadata": {
        "id": "x9fMPdv40Tqg"
      },
      "execution_count": null,
      "outputs": []
    },
    {
      "cell_type": "code",
      "source": [
        "# linear kernel\n",
        "plot_training_data_with_decision_boundary(\"linear\")\n"
      ],
      "metadata": {
        "colab": {
          "base_uri": "https://localhost:8080/"
        },
        "id": "Y2KpnYDE0jWY",
        "outputId": "869e1c12-f3d1-4ae2-85b3-ad7c5bf9c574"
      },
      "execution_count": null,
      "outputs": [
        {
          "output_type": "display_data",
          "data": {
            "text/plain": [
              "<Figure size 1000x800 with 1 Axes>"
            ],
            "image/png": "[encoded data removed]"
          },
          "metadata": {}
        }
      ]
    },
    {
      "cell_type": "code",
      "source": [
        "# polynomial kernel\n",
        "plot_training_data_with_decision_boundary(\"poly\")\n"
      ],
      "metadata": {
        "colab": {
          "base_uri": "https://localhost:8080/"
        },
        "id": "mlEoENhP0p_D",
        "outputId": "aa685244-e6a0-4683-c250-87039fd03189"
      },
      "execution_count": null,
      "outputs": [
        {
          "output_type": "display_data",
          "data": {
            "text/plain": [
              "<Figure size 1000x800 with 1 Axes>"
            ],
            "image/png": "[encoded data removed]"
          },
          "metadata": {}
        }
      ]
    },
    {
      "cell_type": "markdown",
      "source": [
        "**Task 7.2.3** Tinker with the data and kernel, and compare resulting visualizations."
      ],
      "metadata": {
        "id": "B61Qtgql1NRV"
      }
    },
    {
      "cell_type": "markdown",
      "source": [
        "## Support Vector Regression"
      ],
      "metadata": {
        "id": "hg-f9UoI4iPL"
      }
    },
    {
      "cell_type": "code",
      "source": [
        "# load the data\n",
        "instances = loader.load_file(\"data/ionosphere.arff\")"
      ],
      "metadata": {
        "id": "7Niklc_u4wTk"
      },
      "execution_count": null,
      "outputs": []
    },
    {
      "cell_type": "code",
      "source": [
        "# set the class to be the last attribute\n",
        "instances.class_index = instances.num_attributes - 1"
      ],
      "metadata": {
        "id": "0-zO93Ga4xwm"
      },
      "execution_count": null,
      "outputs": []
    },
    {
      "cell_type": "code",
      "source": [
        "# build the classifier\n",
        "\n",
        "# Implements John Platt's sequential minimal optimization algorithm for training a support vector classifier.\n",
        "# This implementation globally replaces all missing values\n",
        "# transforms nominal attributes into binary ones\n",
        "# normalizes all attributes by default.\n",
        "\n",
        "from weka.classifiers import Classifier\n",
        "cls = Classifier(classname=\"weka.classifiers.functions.SMO\")\n",
        "cls.build_classifier(instances)"
      ],
      "metadata": {
        "id": "4PrRrJxB41Lr"
      },
      "execution_count": null,
      "outputs": []
    },
    {
      "cell_type": "code",
      "source": [
        "cls.description"
      ],
      "metadata": {
        "colab": {
          "base_uri": "https://localhost:8080/"
        },
        "id": "pNORTUBo493n",
        "outputId": "4dde4a23-81ca-4810-c5b7-c4a5806a19cd"
      },
      "execution_count": null,
      "outputs": [
        {
          "output_type": "execute_result",
          "data": {
            "text/plain": [
              "<bound method OptionHandler.description of SMO\n",
              "\n",
              "Kernel used:\n",
              "  Linear Kernel: K(x,y) = <x,y>\n",
              "\n",
              "Classifier for classes: b, g\n",
              "\n",
              "BinarySMO\n",
              "\n",
              "Machine linear: showing attribute weights, not support vectors.\n",
              "\n",
              "         2.7284 * (normalized) a01\n",
              " +       1.2922 * (normalized) a03\n",
              " +       0.496  * (normalized) a04\n",
              " +       1.25   * (normalized) a05\n",
              " +       1.0747 * (normalized) a06\n",
              " +       1.3562 * (normalized) a07\n",
              " +       1.7094 * (normalized) a08\n",
              " +       0.662  * (normalized) a09\n",
              " +       0.3239 * (normalized) a10\n",
              " +      -0.3074 * (normalized) a11\n",
              " +      -0.2181 * (normalized) a12\n",
              " +      -0.3015 * (normalized) a13\n",
              " +       0.5468 * (normalized) a14\n",
              " +       0.5205 * (normalized) a15\n",
              " +      -0.3385 * (normalized) a16\n",
              " +       0.1632 * (normalized) a17\n",
              " +       0.1591 * (normalized) a18\n",
              " +      -0.3796 * (normalized) a19\n",
              " +       0.0701 * (normalized) a20\n",
              " +       0.2769 * (normalized) a21\n",
              " +      -1.6155 * (normalized) a22\n",
              " +       0.9716 * (normalized) a23\n",
              " +       0.2532 * (normalized) a24\n",
              " +       0.5938 * (normalized) a25\n",
              " +       0.4138 * (normalized) a26\n",
              " +      -1.5804 * (normalized) a27\n",
              " +       0.1973 * (normalized) a28\n",
              " +       0.2796 * (normalized) a29\n",
              " +       1.1746 * (normalized) a30\n",
              " +       0.698  * (normalized) a31\n",
              " +      -0.3987 * (normalized) a32\n",
              " +      -0.2987 * (normalized) a33\n",
              " +      -1.1094 * (normalized) a34\n",
              " -       7.5956\n",
              "\n",
              "Number of kernel evaluations: 35464 (79.52% cached)\n",
              "\n",
              ">"
            ]
          },
          "metadata": {},
          "execution_count": 23
        }
      ]
    },
    {
      "cell_type": "markdown",
      "source": [
        "**Task 7.2.4** Interpret the model description. Try on different datasets, and compare various interpretations."
      ],
      "metadata": {
        "id": "0KR-Y6oD1oFY"
      }
    },
    {
      "cell_type": "markdown",
      "source": [
        "## ~~Kernel Ridge Regression~~"
      ],
      "metadata": {
        "id": "6DrmtPcI4lY2"
      }
    },
    {
      "cell_type": "markdown",
      "source": [
        "## ~~The Kernel Perceptron~~"
      ],
      "metadata": {
        "id": "LPBEsvPJ8Wh7"
      }
    },
    {
      "cell_type": "markdown",
      "source": [
        "## ~~Multilayer Perceptrons~~"
      ],
      "metadata": {
        "id": "FzBHdqnC8Zae"
      }
    },
    {
      "cell_type": "markdown",
      "source": [
        "## ~~Radial Basis Function Networks~~"
      ],
      "metadata": {
        "id": "19KlqEqW8jXa"
      }
    },
    {
      "cell_type": "markdown",
      "source": [
        "## ~~Stochastic Gradient Descent~~"
      ],
      "metadata": {
        "id": "4GPDHbYD8nL3"
      }
    },
    {
      "cell_type": "markdown",
      "source": [
        "# 7.3 Numeric Prediction with Local Linear Models"
      ],
      "metadata": {
        "id": "Ozz2JkJ3Uesm"
      }
    },
    {
      "cell_type": "markdown",
      "source": [
        "## Model Trees"
      ],
      "metadata": {
        "id": "NXQOuJgBkb9N"
      }
    },
    {
      "cell_type": "markdown",
      "source": [
        "Source\n",
        "- [M5P, Weka' Sourceforge](https://weka.sourceforge.io/doc.dev/weka/classifiers/trees/M5P.html) - Implements base routines for generating M5 Model trees and rules."
      ],
      "metadata": {
        "id": "hqMBF2Fv9bEH"
      }
    },
    {
      "cell_type": "code",
      "source": [
        "# load the data\n",
        "instances = loader.load_file(\"data/cpu.arff\")"
      ],
      "metadata": {
        "id": "uMJpICL89k3v"
      },
      "execution_count": null,
      "outputs": []
    },
    {
      "cell_type": "code",
      "source": [
        "instances"
      ],
      "metadata": {
        "colab": {
          "base_uri": "https://localhost:8080/"
        },
        "id": "Qype8Pdv-K19",
        "outputId": "0bf74907-d1f5-4606-d025-3cc6856cb689"
      },
      "execution_count": null,
      "outputs": [
        {
          "output_type": "execute_result",
          "data": {
            "text/plain": [
              "@relation cpu\n",
              "\n",
              "@attribute MYCT numeric\n",
              "@attribute MMIN numeric\n",
              "@attribute MMAX numeric\n",
              "@attribute CACH numeric\n",
              "@attribute CHMIN numeric\n",
              "@attribute CHMAX numeric\n",
              "@attribute class numeric\n",
              "\n",
              "@data\n",
              "125,256,6000,256,16,128,198\n",
              "29,8000,32000,32,8,32,269\n",
              "29,8000,32000,32,8,32,220\n",
              "29,8000,32000,32,8,32,172\n",
              "29,8000,16000,32,8,16,132\n",
              "26,8000,32000,64,8,32,318\n",
              "23,16000,32000,64,16,32,367\n",
              "23,16000,32000,64,16,32,489\n",
              "23,16000,64000,64,16,32,636\n",
              "23,32000,64000,128,32,64,1144\n",
              "400,1000,3000,0,1,2,38\n",
              "400,512,3500,4,1,6,40\n",
              "60,2000,8000,65,1,8,92\n",
              "50,4000,16000,65,1,8,138\n",
              "350,64,64,0,1,4,10\n",
              "200,512,16000,0,4,32,35\n",
              "167,524,2000,8,4,15,19\n",
              "143,512,5000,0,7,32,28\n",
              "143,1000,2000,0,5,16,31\n",
              "110,5000,5000,142,8,64,120\n",
              "143,1500,6300,0,5,32,30\n",
              "143,3100,6200,0,5,20,33\n",
              "143,2300,6200,0,6,64,61\n",
              "110,3100,6200,0,6,64,76\n",
              "320,128,6000,0,1,12,23\n",
              "320,512,2000,4,1,3,69\n",
              "320,256,6000,0,1,6,33\n",
              "320,256,3000,4,1,3,27\n",
              "320,512,5000,4,1,5,77\n",
              "320,256,5000,4,1,6,27\n",
              "25,1310,2620,131,12,24,274\n",
              "25,1310,2620,131,12,24,368\n",
              "50,2620,10480,30,12,24,32\n",
              "50,2620,10480,30,12,24,63\n",
              "56,5240,20970,30,12,24,106\n",
              "64,5240,20970,30,12,24,208\n",
              "50,500,2000,8,1,4,20\n",
              "50,1000,4000,8,1,5,29\n",
              "50,2000,8000,8,1,5,71\n",
              "50,1000,4000,8,3,5,26\n",
              "50,1000,8000,8,3,5,36\n",
              "50,2000,16000,8,3,5,40\n",
              "50,2000,16000,8,3,6,52\n",
              "50,2000,16000,8,3,6,60\n",
              "133,1000,12000,9,3,12,72\n",
              "133,1000,8000,9,3,12,72\n",
              "810,512,512,8,1,1,18\n",
              "810,1000,5000,0,1,1,20\n",
              "320,512,8000,4,1,5,40\n",
              "200,512,8000,8,1,8,62\n",
              "700,384,8000,0,1,1,24\n",
              "700,256,2000,0,1,1,24\n",
              "140,1000,16000,16,1,3,138\n",
              "200,1000,8000,0,1,2,36\n",
              "110,1000,4000,16,1,2,26\n",
              "110,1000,12000,16,1,2,60\n",
              "220,1000,8000,16,1,2,71\n",
              "800,256,8000,0,1,4,12\n",
              "800,256,8000,0,1,4,14\n",
              "800,256,8000,0,1,4,20\n",
              "800,256,8000,0,1,4,16\n",
              "800,256,8000,0,1,4,22\n",
              "125,512,1000,0,8,20,36\n",
              "75,2000,8000,64,1,38,144\n",
              "75,2000,16000,64,1,38,144\n",
              "75,2000,16000,128,1,38,259\n",
              "90,256,1000,0,3,10,17\n",
              "105,256,2000,0,3,10,26\n",
              "105,1000,4000,0,3,24,32\n",
              "105,2000,4000,8,3,19,32\n",
              "75,2000,8000,8,3,24,62\n",
              "75,3000,8000,8,3,48,64\n",
              "175,256,2000,0,3,24,22\n",
              "300,768,3000,0,6,24,36\n",
              "300,768,3000,6,6,24,44\n",
              "300,768,12000,6,6,24,50\n",
              "300,768,4500,0,1,24,45\n",
              "300,384,12000,6,1,24,53\n",
              "300,192,768,6,6,24,36\n",
              "180,768,12000,6,1,31,84\n",
              "330,1000,3000,0,2,4,16\n",
              "300,1000,4000,8,3,64,38\n",
              "300,1000,16000,8,2,112,38\n",
              "330,1000,2000,0,1,2,16\n",
              "330,1000,4000,0,3,6,22\n",
              "140,2000,4000,0,3,6,29\n",
              "140,2000,4000,0,4,8,40\n",
              "140,2000,4000,8,1,20,35\n",
              "140,2000,32000,32,1,20,134\n",
              "140,2000,8000,32,1,54,66\n",
              "140,2000,32000,32,1,54,141\n",
              "140,2000,32000,32,1,54,189\n",
              "140,2000,4000,8,1,20,22\n",
              "57,4000,16000,1,6,12,132\n",
              "57,4000,24000,64,12,16,237\n",
              "26,16000,32000,64,16,24,465\n",
              "26,16000,32000,64,8,24,465\n",
              "26,8000,32000,0,8,24,277\n",
              "26,8000,16000,0,8,16,185\n",
              "480,96,512,0,1,1,6\n",
              "203,1000,2000,0,1,5,24\n",
              "115,512,6000,16,1,6,45\n",
              "1100,512,1500,0,1,1,7\n",
              "1100,768,2000,0,1,1,13\n",
              "600,768,2000,0,1,1,16\n",
              "400,2000,4000,0,1,1,32\n",
              "400,4000,8000,0,1,1,32\n",
              "900,1000,1000,0,1,2,11\n",
              "900,512,1000,0,1,2,11\n",
              "900,1000,4000,4,1,2,18\n",
              "900,1000,4000,8,1,2,22\n",
              "900,2000,4000,0,3,6,37\n",
              "225,2000,4000,8,3,6,40\n",
              "225,2000,4000,8,3,6,34\n",
              "180,2000,8000,8,1,6,50\n",
              "185,2000,16000,16,1,6,76\n",
              "180,2000,16000,16,1,6,66\n",
              "225,1000,4000,2,3,6,24\n",
              "25,2000,12000,8,1,4,49\n",
              "25,2000,12000,16,3,5,66\n",
              "17,4000,16000,8,6,12,100\n",
              "17,4000,16000,32,6,12,133\n",
              "1500,768,1000,0,0,0,12\n",
              "1500,768,2000,0,0,0,18\n",
              "800,768,2000,0,0,0,20\n",
              "50,2000,4000,0,3,6,27\n",
              "50,2000,8000,8,3,6,45\n",
              "50,2000,8000,8,1,6,56\n",
              "50,2000,16000,24,1,6,70\n",
              "50,2000,16000,24,1,6,80\n",
              "50,8000,16000,48,1,10,136\n",
              "100,1000,8000,0,2,6,16\n",
              "100,1000,8000,24,2,6,26\n",
              "100,1000,8000,24,3,6,32\n",
              "50,2000,16000,12,3,16,45\n",
              "50,2000,16000,24,6,16,54\n",
              "50,2000,16000,24,6,16,65\n",
              "150,512,4000,0,8,128,30\n",
              "115,2000,8000,16,1,3,50\n",
              "115,2000,4000,2,1,5,40\n",
              "92,2000,8000,32,1,6,62\n",
              "92,2000,8000,32,1,6,60\n",
              "92,2000,8000,4,1,6,50\n",
              "75,4000,16000,16,1,6,66\n",
              "60,4000,16000,32,1,6,86\n",
              "60,2000,16000,64,5,8,74\n",
              "60,4000,16000,64,5,8,93\n",
              "50,4000,16000,64,5,10,111\n",
              "72,4000,16000,64,8,16,143\n",
              "72,2000,8000,16,6,8,105\n",
              "40,8000,16000,32,8,16,214\n",
              "40,8000,32000,64,8,24,277\n",
              "35,8000,32000,64,8,24,370\n",
              "38,16000,32000,128,16,32,510\n",
              "48,4000,24000,32,8,24,214\n",
              "38,8000,32000,64,8,24,326\n",
              "30,16000,32000,256,16,24,510\n",
              "112,1000,1000,0,1,4,8\n",
              "84,1000,2000,0,1,6,12\n",
              "56,1000,4000,0,1,6,17\n",
              "56,2000,6000,0,1,8,21\n",
              "56,2000,8000,0,1,8,24\n",
              "56,4000,8000,0,1,8,34\n",
              "56,4000,12000,0,1,8,42\n",
              "56,4000,16000,0,1,8,46\n",
              "38,4000,8000,32,16,32,51\n",
              "38,4000,8000,32,16,32,116\n",
              "38,8000,16000,64,4,8,100\n",
              "38,8000,24000,160,4,8,140\n",
              "38,4000,16000,128,16,32,212\n",
              "200,1000,2000,0,1,2,25\n",
              "200,1000,4000,0,1,4,30\n",
              "200,2000,8000,64,1,5,41\n",
              "250,512,4000,0,1,7,25\n",
              "250,512,4000,0,4,7,50\n",
              "250,1000,16000,1,1,8,50\n",
              "160,512,4000,2,1,5,30\n",
              "160,512,2000,2,3,8,32\n",
              "160,1000,4000,8,1,14,38\n",
              "160,1000,8000,16,1,14,60\n",
              "160,2000,8000,32,1,13,109\n",
              "240,512,1000,8,1,3,6\n",
              "240,512,2000,8,1,5,11\n",
              "105,2000,4000,8,3,8,22\n",
              "105,2000,6000,16,6,16,33\n",
              "105,2000,8000,16,4,14,58\n",
              "52,4000,16000,32,4,12,130\n",
              "70,4000,12000,8,6,8,75\n",
              "59,4000,12000,32,6,12,113\n",
              "59,8000,16000,64,12,24,188\n",
              "26,8000,24000,32,8,16,173\n",
              "26,8000,32000,64,12,16,248\n",
              "26,8000,32000,128,24,32,405\n",
              "116,2000,8000,32,5,28,70\n",
              "50,2000,32000,24,6,26,114\n",
              "50,2000,32000,48,26,52,208\n",
              "50,2000,32000,112,52,104,307\n",
              "50,4000,32000,112,52,104,397\n",
              "30,8000,64000,96,12,176,915\n",
              "30,8000,64000,128,12,176,1150\n",
              "180,262,4000,0,1,3,12\n",
              "180,512,4000,0,1,3,14\n",
              "180,262,4000,0,1,3,18\n",
              "180,512,4000,0,1,3,21\n",
              "124,1000,8000,0,1,8,42\n",
              "98,1000,8000,32,2,8,46\n",
              "125,2000,8000,0,2,14,52\n",
              "480,512,8000,32,0,0,67\n",
              "480,1000,4000,0,0,0,45"
            ]
          },
          "metadata": {},
          "execution_count": 41
        }
      ]
    },
    {
      "cell_type": "code",
      "source": [
        "# set the class to be the last attribute\n",
        "instances.class_index = instances.num_attributes - 1"
      ],
      "metadata": {
        "id": "u69ECFhm9nZB"
      },
      "execution_count": null,
      "outputs": []
    },
    {
      "cell_type": "code",
      "source": [
        "# build the classifier\n",
        "\n",
        "# Implements base routines for generating M5 Model trees and rules\n",
        "\n",
        "from weka.classifiers import Classifier\n",
        "cls = Classifier(classname=\"weka.classifiers.trees.M5P\")\n",
        "cls.build_classifier(instances)"
      ],
      "metadata": {
        "id": "H2oPSXn0kgUx"
      },
      "execution_count": null,
      "outputs": []
    },
    {
      "cell_type": "code",
      "source": [
        "cls.description"
      ],
      "metadata": {
        "colab": {
          "base_uri": "https://localhost:8080/"
        },
        "id": "1xY4ApUt-dCT",
        "outputId": "2a4c5c06-24e0-46ff-a567-e9ff7f695a33"
      },
      "execution_count": null,
      "outputs": [
        {
          "output_type": "execute_result",
          "data": {
            "text/plain": [
              "<bound method OptionHandler.description of M5 pruned model tree:\n",
              "(using smoothed linear models)\n",
              "\n",
              "CHMIN <= 7.5 : LM1 (165/12.903%)\n",
              "CHMIN >  7.5 : \n",
              "|   MMAX <= 28000 : \n",
              "|   |   MMAX <= 13240 : \n",
              "|   |   |   CACH <= 81.5 : LM2 (6/18.551%)\n",
              "|   |   |   CACH >  81.5 : LM3 (4/30.824%)\n",
              "|   |   MMAX >  13240 : LM4 (11/24.185%)\n",
              "|   MMAX >  28000 : LM5 (23/48.302%)\n",
              "\n",
              "LM num: 1\n",
              "class = \n",
              "\t-0.0055 * MYCT \n",
              "\t+ 0.0013 * MMIN \n",
              "\t+ 0.0029 * MMAX \n",
              "\t+ 0.8007 * CACH \n",
              "\t+ 0.4015 * CHMAX \n",
              "\t+ 11.0971\n",
              "\n",
              "LM num: 2\n",
              "class = \n",
              "\t-1.0307 * MYCT \n",
              "\t+ 0.0086 * MMIN \n",
              "\t+ 0.0031 * MMAX \n",
              "\t+ 0.7866 * CACH \n",
              "\t- 2.4503 * CHMIN \n",
              "\t+ 1.1597 * CHMAX \n",
              "\t+ 70.8672\n",
              "\n",
              "LM num: 3\n",
              "class = \n",
              "\t-1.1057 * MYCT \n",
              "\t+ 0.0086 * MMIN \n",
              "\t+ 0.0031 * MMAX \n",
              "\t+ 0.7995 * CACH \n",
              "\t- 2.4503 * CHMIN \n",
              "\t+ 1.1597 * CHMAX \n",
              "\t+ 83.0016\n",
              "\n",
              "LM num: 4\n",
              "class = \n",
              "\t-0.8813 * MYCT \n",
              "\t+ 0.0086 * MMIN \n",
              "\t+ 0.0031 * MMAX \n",
              "\t+ 0.6547 * CACH \n",
              "\t- 2.3561 * CHMIN \n",
              "\t+ 1.1597 * CHMAX \n",
              "\t+ 82.5725\n",
              "\n",
              "LM num: 5\n",
              "class = \n",
              "\t-0.4882 * MYCT \n",
              "\t+ 0.0218 * MMIN \n",
              "\t+ 0.003 * MMAX \n",
              "\t+ 0.3865 * CACH \n",
              "\t- 1.3252 * CHMIN \n",
              "\t+ 3.3671 * CHMAX \n",
              "\t- 51.8474\n",
              "\n",
              "Number of Rules : 5>"
            ]
          },
          "metadata": {},
          "execution_count": 46
        }
      ]
    },
    {
      "cell_type": "markdown",
      "source": [
        "**Task 7.3.1** Interpret the model tree. Explain what happens. What is the benefit over a usual single linear model?"
      ],
      "metadata": {
        "id": "xCtdkqMsVgP8"
      }
    },
    {
      "cell_type": "markdown",
      "source": [
        "## ~~Building The Tree~~"
      ],
      "metadata": {
        "id": "yuvrUUFU-sca"
      }
    },
    {
      "cell_type": "markdown",
      "source": [
        "## Pruning The Tree"
      ],
      "metadata": {
        "id": "Rdekrisc_Hhc"
      }
    },
    {
      "cell_type": "code",
      "source": [
        "# load the data\n",
        "instances = loader.load_file(\"data/cpu.arff\")"
      ],
      "metadata": {
        "id": "9ea0yzNT_K5M"
      },
      "execution_count": null,
      "outputs": []
    },
    {
      "cell_type": "code",
      "source": [
        "instances"
      ],
      "metadata": {
        "colab": {
          "base_uri": "https://localhost:8080/"
        },
        "id": "y-6fvIb5_Qrx",
        "outputId": "10a744bb-3860-4e72-8695-37f234ecf5d3"
      },
      "execution_count": null,
      "outputs": [
        {
          "output_type": "execute_result",
          "data": {
            "text/plain": [
              "@relation cpu\n",
              "\n",
              "@attribute MYCT numeric\n",
              "@attribute MMIN numeric\n",
              "@attribute MMAX numeric\n",
              "@attribute CACH numeric\n",
              "@attribute CHMIN numeric\n",
              "@attribute CHMAX numeric\n",
              "@attribute class numeric\n",
              "\n",
              "@data\n",
              "125,256,6000,256,16,128,198\n",
              "29,8000,32000,32,8,32,269\n",
              "29,8000,32000,32,8,32,220\n",
              "29,8000,32000,32,8,32,172\n",
              "29,8000,16000,32,8,16,132\n",
              "26,8000,32000,64,8,32,318\n",
              "23,16000,32000,64,16,32,367\n",
              "23,16000,32000,64,16,32,489\n",
              "23,16000,64000,64,16,32,636\n",
              "23,32000,64000,128,32,64,1144\n",
              "400,1000,3000,0,1,2,38\n",
              "400,512,3500,4,1,6,40\n",
              "60,2000,8000,65,1,8,92\n",
              "50,4000,16000,65,1,8,138\n",
              "350,64,64,0,1,4,10\n",
              "200,512,16000,0,4,32,35\n",
              "167,524,2000,8,4,15,19\n",
              "143,512,5000,0,7,32,28\n",
              "143,1000,2000,0,5,16,31\n",
              "110,5000,5000,142,8,64,120\n",
              "143,1500,6300,0,5,32,30\n",
              "143,3100,6200,0,5,20,33\n",
              "143,2300,6200,0,6,64,61\n",
              "110,3100,6200,0,6,64,76\n",
              "320,128,6000,0,1,12,23\n",
              "320,512,2000,4,1,3,69\n",
              "320,256,6000,0,1,6,33\n",
              "320,256,3000,4,1,3,27\n",
              "320,512,5000,4,1,5,77\n",
              "320,256,5000,4,1,6,27\n",
              "25,1310,2620,131,12,24,274\n",
              "25,1310,2620,131,12,24,368\n",
              "50,2620,10480,30,12,24,32\n",
              "50,2620,10480,30,12,24,63\n",
              "56,5240,20970,30,12,24,106\n",
              "64,5240,20970,30,12,24,208\n",
              "50,500,2000,8,1,4,20\n",
              "50,1000,4000,8,1,5,29\n",
              "50,2000,8000,8,1,5,71\n",
              "50,1000,4000,8,3,5,26\n",
              "50,1000,8000,8,3,5,36\n",
              "50,2000,16000,8,3,5,40\n",
              "50,2000,16000,8,3,6,52\n",
              "50,2000,16000,8,3,6,60\n",
              "133,1000,12000,9,3,12,72\n",
              "133,1000,8000,9,3,12,72\n",
              "810,512,512,8,1,1,18\n",
              "810,1000,5000,0,1,1,20\n",
              "320,512,8000,4,1,5,40\n",
              "200,512,8000,8,1,8,62\n",
              "700,384,8000,0,1,1,24\n",
              "700,256,2000,0,1,1,24\n",
              "140,1000,16000,16,1,3,138\n",
              "200,1000,8000,0,1,2,36\n",
              "110,1000,4000,16,1,2,26\n",
              "110,1000,12000,16,1,2,60\n",
              "220,1000,8000,16,1,2,71\n",
              "800,256,8000,0,1,4,12\n",
              "800,256,8000,0,1,4,14\n",
              "800,256,8000,0,1,4,20\n",
              "800,256,8000,0,1,4,16\n",
              "800,256,8000,0,1,4,22\n",
              "125,512,1000,0,8,20,36\n",
              "75,2000,8000,64,1,38,144\n",
              "75,2000,16000,64,1,38,144\n",
              "75,2000,16000,128,1,38,259\n",
              "90,256,1000,0,3,10,17\n",
              "105,256,2000,0,3,10,26\n",
              "105,1000,4000,0,3,24,32\n",
              "105,2000,4000,8,3,19,32\n",
              "75,2000,8000,8,3,24,62\n",
              "75,3000,8000,8,3,48,64\n",
              "175,256,2000,0,3,24,22\n",
              "300,768,3000,0,6,24,36\n",
              "300,768,3000,6,6,24,44\n",
              "300,768,12000,6,6,24,50\n",
              "300,768,4500,0,1,24,45\n",
              "300,384,12000,6,1,24,53\n",
              "300,192,768,6,6,24,36\n",
              "180,768,12000,6,1,31,84\n",
              "330,1000,3000,0,2,4,16\n",
              "300,1000,4000,8,3,64,38\n",
              "300,1000,16000,8,2,112,38\n",
              "330,1000,2000,0,1,2,16\n",
              "330,1000,4000,0,3,6,22\n",
              "140,2000,4000,0,3,6,29\n",
              "140,2000,4000,0,4,8,40\n",
              "140,2000,4000,8,1,20,35\n",
              "140,2000,32000,32,1,20,134\n",
              "140,2000,8000,32,1,54,66\n",
              "140,2000,32000,32,1,54,141\n",
              "140,2000,32000,32,1,54,189\n",
              "140,2000,4000,8,1,20,22\n",
              "57,4000,16000,1,6,12,132\n",
              "57,4000,24000,64,12,16,237\n",
              "26,16000,32000,64,16,24,465\n",
              "26,16000,32000,64,8,24,465\n",
              "26,8000,32000,0,8,24,277\n",
              "26,8000,16000,0,8,16,185\n",
              "480,96,512,0,1,1,6\n",
              "203,1000,2000,0,1,5,24\n",
              "115,512,6000,16,1,6,45\n",
              "1100,512,1500,0,1,1,7\n",
              "1100,768,2000,0,1,1,13\n",
              "600,768,2000,0,1,1,16\n",
              "400,2000,4000,0,1,1,32\n",
              "400,4000,8000,0,1,1,32\n",
              "900,1000,1000,0,1,2,11\n",
              "900,512,1000,0,1,2,11\n",
              "900,1000,4000,4,1,2,18\n",
              "900,1000,4000,8,1,2,22\n",
              "900,2000,4000,0,3,6,37\n",
              "225,2000,4000,8,3,6,40\n",
              "225,2000,4000,8,3,6,34\n",
              "180,2000,8000,8,1,6,50\n",
              "185,2000,16000,16,1,6,76\n",
              "180,2000,16000,16,1,6,66\n",
              "225,1000,4000,2,3,6,24\n",
              "25,2000,12000,8,1,4,49\n",
              "25,2000,12000,16,3,5,66\n",
              "17,4000,16000,8,6,12,100\n",
              "17,4000,16000,32,6,12,133\n",
              "1500,768,1000,0,0,0,12\n",
              "1500,768,2000,0,0,0,18\n",
              "800,768,2000,0,0,0,20\n",
              "50,2000,4000,0,3,6,27\n",
              "50,2000,8000,8,3,6,45\n",
              "50,2000,8000,8,1,6,56\n",
              "50,2000,16000,24,1,6,70\n",
              "50,2000,16000,24,1,6,80\n",
              "50,8000,16000,48,1,10,136\n",
              "100,1000,8000,0,2,6,16\n",
              "100,1000,8000,24,2,6,26\n",
              "100,1000,8000,24,3,6,32\n",
              "50,2000,16000,12,3,16,45\n",
              "50,2000,16000,24,6,16,54\n",
              "50,2000,16000,24,6,16,65\n",
              "150,512,4000,0,8,128,30\n",
              "115,2000,8000,16,1,3,50\n",
              "115,2000,4000,2,1,5,40\n",
              "92,2000,8000,32,1,6,62\n",
              "92,2000,8000,32,1,6,60\n",
              "92,2000,8000,4,1,6,50\n",
              "75,4000,16000,16,1,6,66\n",
              "60,4000,16000,32,1,6,86\n",
              "60,2000,16000,64,5,8,74\n",
              "60,4000,16000,64,5,8,93\n",
              "50,4000,16000,64,5,10,111\n",
              "72,4000,16000,64,8,16,143\n",
              "72,2000,8000,16,6,8,105\n",
              "40,8000,16000,32,8,16,214\n",
              "40,8000,32000,64,8,24,277\n",
              "35,8000,32000,64,8,24,370\n",
              "38,16000,32000,128,16,32,510\n",
              "48,4000,24000,32,8,24,214\n",
              "38,8000,32000,64,8,24,326\n",
              "30,16000,32000,256,16,24,510\n",
              "112,1000,1000,0,1,4,8\n",
              "84,1000,2000,0,1,6,12\n",
              "56,1000,4000,0,1,6,17\n",
              "56,2000,6000,0,1,8,21\n",
              "56,2000,8000,0,1,8,24\n",
              "56,4000,8000,0,1,8,34\n",
              "56,4000,12000,0,1,8,42\n",
              "56,4000,16000,0,1,8,46\n",
              "38,4000,8000,32,16,32,51\n",
              "38,4000,8000,32,16,32,116\n",
              "38,8000,16000,64,4,8,100\n",
              "38,8000,24000,160,4,8,140\n",
              "38,4000,16000,128,16,32,212\n",
              "200,1000,2000,0,1,2,25\n",
              "200,1000,4000,0,1,4,30\n",
              "200,2000,8000,64,1,5,41\n",
              "250,512,4000,0,1,7,25\n",
              "250,512,4000,0,4,7,50\n",
              "250,1000,16000,1,1,8,50\n",
              "160,512,4000,2,1,5,30\n",
              "160,512,2000,2,3,8,32\n",
              "160,1000,4000,8,1,14,38\n",
              "160,1000,8000,16,1,14,60\n",
              "160,2000,8000,32,1,13,109\n",
              "240,512,1000,8,1,3,6\n",
              "240,512,2000,8,1,5,11\n",
              "105,2000,4000,8,3,8,22\n",
              "105,2000,6000,16,6,16,33\n",
              "105,2000,8000,16,4,14,58\n",
              "52,4000,16000,32,4,12,130\n",
              "70,4000,12000,8,6,8,75\n",
              "59,4000,12000,32,6,12,113\n",
              "59,8000,16000,64,12,24,188\n",
              "26,8000,24000,32,8,16,173\n",
              "26,8000,32000,64,12,16,248\n",
              "26,8000,32000,128,24,32,405\n",
              "116,2000,8000,32,5,28,70\n",
              "50,2000,32000,24,6,26,114\n",
              "50,2000,32000,48,26,52,208\n",
              "50,2000,32000,112,52,104,307\n",
              "50,4000,32000,112,52,104,397\n",
              "30,8000,64000,96,12,176,915\n",
              "30,8000,64000,128,12,176,1150\n",
              "180,262,4000,0,1,3,12\n",
              "180,512,4000,0,1,3,14\n",
              "180,262,4000,0,1,3,18\n",
              "180,512,4000,0,1,3,21\n",
              "124,1000,8000,0,1,8,42\n",
              "98,1000,8000,32,2,8,46\n",
              "125,2000,8000,0,2,14,52\n",
              "480,512,8000,32,0,0,67\n",
              "480,1000,4000,0,0,0,45"
            ]
          },
          "metadata": {},
          "execution_count": 48
        }
      ]
    },
    {
      "cell_type": "code",
      "source": [
        "# set class to be the last attribute\n",
        "instances.class_index = instances.num_attributes - 1"
      ],
      "metadata": {
        "id": "OwDdMbev_Z0w"
      },
      "execution_count": null,
      "outputs": []
    },
    {
      "cell_type": "code",
      "source": [
        "# build the classifier\n",
        "# parameter of minimum number of instance in a leaf is set to 10\n",
        "\n",
        "from weka.classifiers import Classifier\n",
        "cls = Classifier( classname=\"weka.classifiers.trees.M5P\", options=[\"-M\", \"10\"] )\n",
        "cls.build_classifier(instances)"
      ],
      "metadata": {
        "id": "97VkODse_sTR"
      },
      "execution_count": null,
      "outputs": []
    },
    {
      "cell_type": "code",
      "source": [
        "cls.description"
      ],
      "metadata": {
        "colab": {
          "base_uri": "https://localhost:8080/"
        },
        "id": "Ga6llwp6Aq1L",
        "outputId": "e16fe242-a514-4de0-851b-8cf565a02963"
      },
      "execution_count": null,
      "outputs": [
        {
          "output_type": "execute_result",
          "data": {
            "text/plain": [
              "<bound method OptionHandler.description of M5 pruned model tree:\n",
              "(using smoothed linear models)\n",
              "\n",
              "CHMIN <= 7.5 : LM1 (165/12.903%)\n",
              "CHMIN >  7.5 : \n",
              "|   MMAX <= 28000 : LM2 (21/42.424%)\n",
              "|   MMAX >  28000 : LM3 (23/52.813%)\n",
              "\n",
              "LM num: 1\n",
              "class = \n",
              "\t-0.0055 * MYCT \n",
              "\t+ 0.0013 * MMIN \n",
              "\t+ 0.0029 * MMAX \n",
              "\t+ 0.8007 * CACH \n",
              "\t+ 0.4015 * CHMAX \n",
              "\t+ 11.0971\n",
              "\n",
              "LM num: 2\n",
              "class = \n",
              "\t0.0125 * MYCT \n",
              "\t+ 0.0083 * MMIN \n",
              "\t+ 0.0057 * MMAX \n",
              "\t+ 0.7932 * CACH \n",
              "\t+ 0.9133 * CHMAX \n",
              "\t- 33.8248\n",
              "\n",
              "LM num: 3\n",
              "class = \n",
              "\t0.0125 * MYCT \n",
              "\t+ 0.0215 * MMIN \n",
              "\t+ 0.0037 * MMAX \n",
              "\t+ 0.4135 * CACH \n",
              "\t+ 2.9999 * CHMAX \n",
              "\t- 99.0207\n",
              "\n",
              "Number of Rules : 3>"
            ]
          },
          "metadata": {},
          "execution_count": 59
        }
      ]
    },
    {
      "cell_type": "markdown",
      "source": [
        "**Task 7.3.2** Modify the parameter of number of minimum instances in the leaf by changing the number `10` in the below line. Compare the model descriptions.\n",
        "```\n",
        "cls = Classifier( classname=\"weka.classifiers.trees.M5P\", options=[\"-M\", \"10\"] )\n",
        "\n",
        "```"
      ],
      "metadata": {
        "id": "Z5X45LGkVwDS"
      }
    },
    {
      "cell_type": "markdown",
      "source": [
        "## ~~Nominal Attributes~~"
      ],
      "metadata": {
        "id": "11Sy8B3oBD8U"
      }
    },
    {
      "cell_type": "markdown",
      "source": [
        "## ~~Missing Values~~"
      ],
      "metadata": {
        "id": "Y_5wRXp5BG6O"
      }
    },
    {
      "cell_type": "markdown",
      "source": [
        "## ~~Psuedocode for Model Tree Induction~~"
      ],
      "metadata": {
        "id": "peEwNy9dBLS1"
      }
    },
    {
      "cell_type": "markdown",
      "source": [
        "## ~~Rules from Model Tree~~"
      ],
      "metadata": {
        "id": "1WkaYoI6BUAz"
      }
    },
    {
      "cell_type": "markdown",
      "source": [
        "## Locally Weighted Linear Regression"
      ],
      "metadata": {
        "id": "oezxYfPBBdo7"
      }
    },
    {
      "cell_type": "markdown",
      "source": [
        "Sources\n",
        "- [LWL, Weka's sourceforge](https://weka.sourceforge.io/doc.dev/weka/classifiers/lazy/LWL.html)"
      ],
      "metadata": {
        "id": "odiDdy3o-ZpP"
      }
    },
    {
      "cell_type": "code",
      "source": [
        "# load the data\n",
        "instances = loader.load_file(\"data/cpu.arff\")"
      ],
      "metadata": {
        "id": "9Cv2hcwLBcxi"
      },
      "execution_count": null,
      "outputs": []
    },
    {
      "cell_type": "code",
      "source": [
        "# set the class to be the last attribute\n",
        "instances.class_index = instances.num_attributes - 1"
      ],
      "metadata": {
        "id": "6FNwyCqaB56G"
      },
      "execution_count": null,
      "outputs": []
    },
    {
      "cell_type": "code",
      "source": [
        "# build the classifier\n",
        "\n",
        "from weka.classifiers import Classifier\n",
        "cls = Classifier(classname=\"weka.classifiers.lazy.LWL\")\n",
        "cls.build_classifier(instances)"
      ],
      "metadata": {
        "id": "T4uGBl5SB8pD"
      },
      "execution_count": null,
      "outputs": []
    },
    {
      "cell_type": "markdown",
      "source": [
        "Models are created in run-time so we won't expect anything in the model description."
      ],
      "metadata": {
        "id": "dsmD-ONcWeDI"
      }
    },
    {
      "cell_type": "code",
      "source": [
        "cls.description"
      ],
      "metadata": {
        "colab": {
          "base_uri": "https://localhost:8080/"
        },
        "id": "PcGD8WHMCB_R",
        "outputId": "f80e172b-b660-4a14-d031-8a23df66d90b"
      },
      "execution_count": null,
      "outputs": [
        {
          "output_type": "execute_result",
          "data": {
            "text/plain": [
              "<bound method OptionHandler.description of Locally weighted learning\n",
              "===========================\n",
              "Using classifier: weka.classifiers.trees.DecisionStump\n",
              "Using linear weighting kernels\n",
              "Using all neighbours>"
            ]
          },
          "metadata": {},
          "execution_count": 66
        }
      ]
    },
    {
      "cell_type": "code",
      "source": [
        "# classify the last instance\n",
        "cls.classify_instance(\n",
        "    instances.get_instance(\n",
        "        instances.num_instances - 1\n",
        "    )\n",
        ")"
      ],
      "metadata": {
        "colab": {
          "base_uri": "https://localhost:8080/"
        },
        "id": "W27JfLw4WheO",
        "outputId": "1ede1699-bd41-4148-b6b4-0003baa78386"
      },
      "execution_count": null,
      "outputs": [
        {
          "output_type": "execute_result",
          "data": {
            "text/plain": [
              "1.0"
            ]
          },
          "metadata": {},
          "execution_count": 111
        }
      ]
    },
    {
      "cell_type": "markdown",
      "source": [
        "**Task 7.3.3** Use Euclid's distance function, fetch nearest 5, and create a linear model on them."
      ],
      "metadata": {
        "id": "xawnpGHMZiWD"
      }
    },
    {
      "cell_type": "markdown",
      "source": [
        "**Task 7.3.4** Compare your model with LWL."
      ],
      "metadata": {
        "id": "pNn8tsugZv2y"
      }
    }
  ]
}